{
  "nbformat": 4,
  "nbformat_minor": 0,
  "metadata": {
    "colab": {
      "name": "BERT-BeautifulSoup.ipynb",
      "provenance": [],
      "collapsed_sections": [],
      "authorship_tag": "ABX9TyMD4wlqx052l9Y40sJzno+u",
      "include_colab_link": true
    },
    "kernelspec": {
      "name": "python3",
      "display_name": "Python 3"
    },
    "language_info": {
      "name": "python"
    },
    "accelerator": "GPU",
    "widgets": {
      "application/vnd.jupyter.widget-state+json": {
        "9d0f6f7b9d65423eaec43a2c234270a1": {
          "model_module": "@jupyter-widgets/controls",
          "model_name": "HBoxModel",
          "state": {
            "_view_name": "HBoxView",
            "_dom_classes": [],
            "_model_name": "HBoxModel",
            "_view_module": "@jupyter-widgets/controls",
            "_model_module_version": "1.5.0",
            "_view_count": null,
            "_view_module_version": "1.5.0",
            "box_style": "",
            "layout": "IPY_MODEL_38e50013ccd444c0b2ae7ebb853aabdd",
            "_model_module": "@jupyter-widgets/controls",
            "children": [
              "IPY_MODEL_af47eae2235042c0a0aa400d2a2f01c9",
              "IPY_MODEL_bef8247b65c44f9289f0d21016b640b7"
            ]
          }
        },
        "38e50013ccd444c0b2ae7ebb853aabdd": {
          "model_module": "@jupyter-widgets/base",
          "model_name": "LayoutModel",
          "state": {
            "_view_name": "LayoutView",
            "grid_template_rows": null,
            "right": null,
            "justify_content": null,
            "_view_module": "@jupyter-widgets/base",
            "overflow": null,
            "_model_module_version": "1.2.0",
            "_view_count": null,
            "flex_flow": null,
            "width": null,
            "min_width": null,
            "border": null,
            "align_items": null,
            "bottom": null,
            "_model_module": "@jupyter-widgets/base",
            "top": null,
            "grid_column": null,
            "overflow_y": null,
            "overflow_x": null,
            "grid_auto_flow": null,
            "grid_area": null,
            "grid_template_columns": null,
            "flex": null,
            "_model_name": "LayoutModel",
            "justify_items": null,
            "grid_row": null,
            "max_height": null,
            "align_content": null,
            "visibility": null,
            "align_self": null,
            "height": null,
            "min_height": null,
            "padding": null,
            "grid_auto_rows": null,
            "grid_gap": null,
            "max_width": null,
            "order": null,
            "_view_module_version": "1.2.0",
            "grid_template_areas": null,
            "object_position": null,
            "object_fit": null,
            "grid_auto_columns": null,
            "margin": null,
            "display": null,
            "left": null
          }
        },
        "af47eae2235042c0a0aa400d2a2f01c9": {
          "model_module": "@jupyter-widgets/controls",
          "model_name": "FloatProgressModel",
          "state": {
            "_view_name": "ProgressView",
            "style": "IPY_MODEL_92277720d5184bddb80f4aceadb97d00",
            "_dom_classes": [],
            "description": "Downloading: 100%",
            "_model_name": "FloatProgressModel",
            "bar_style": "success",
            "max": 443,
            "_view_module": "@jupyter-widgets/controls",
            "_model_module_version": "1.5.0",
            "value": 443,
            "_view_count": null,
            "_view_module_version": "1.5.0",
            "orientation": "horizontal",
            "min": 0,
            "description_tooltip": null,
            "_model_module": "@jupyter-widgets/controls",
            "layout": "IPY_MODEL_b0755fa7b5e042c19f7b03d510b626ca"
          }
        },
        "bef8247b65c44f9289f0d21016b640b7": {
          "model_module": "@jupyter-widgets/controls",
          "model_name": "HTMLModel",
          "state": {
            "_view_name": "HTMLView",
            "style": "IPY_MODEL_b9448619f2664a4989d02b480407219a",
            "_dom_classes": [],
            "description": "",
            "_model_name": "HTMLModel",
            "placeholder": "​",
            "_view_module": "@jupyter-widgets/controls",
            "_model_module_version": "1.5.0",
            "value": " 443/443 [00:35&lt;00:00, 12.5B/s]",
            "_view_count": null,
            "_view_module_version": "1.5.0",
            "description_tooltip": null,
            "_model_module": "@jupyter-widgets/controls",
            "layout": "IPY_MODEL_f1dcdc5db69c4854b4fe5f8d067b8887"
          }
        },
        "92277720d5184bddb80f4aceadb97d00": {
          "model_module": "@jupyter-widgets/controls",
          "model_name": "ProgressStyleModel",
          "state": {
            "_view_name": "StyleView",
            "_model_name": "ProgressStyleModel",
            "description_width": "initial",
            "_view_module": "@jupyter-widgets/base",
            "_model_module_version": "1.5.0",
            "_view_count": null,
            "_view_module_version": "1.2.0",
            "bar_color": null,
            "_model_module": "@jupyter-widgets/controls"
          }
        },
        "b0755fa7b5e042c19f7b03d510b626ca": {
          "model_module": "@jupyter-widgets/base",
          "model_name": "LayoutModel",
          "state": {
            "_view_name": "LayoutView",
            "grid_template_rows": null,
            "right": null,
            "justify_content": null,
            "_view_module": "@jupyter-widgets/base",
            "overflow": null,
            "_model_module_version": "1.2.0",
            "_view_count": null,
            "flex_flow": null,
            "width": null,
            "min_width": null,
            "border": null,
            "align_items": null,
            "bottom": null,
            "_model_module": "@jupyter-widgets/base",
            "top": null,
            "grid_column": null,
            "overflow_y": null,
            "overflow_x": null,
            "grid_auto_flow": null,
            "grid_area": null,
            "grid_template_columns": null,
            "flex": null,
            "_model_name": "LayoutModel",
            "justify_items": null,
            "grid_row": null,
            "max_height": null,
            "align_content": null,
            "visibility": null,
            "align_self": null,
            "height": null,
            "min_height": null,
            "padding": null,
            "grid_auto_rows": null,
            "grid_gap": null,
            "max_width": null,
            "order": null,
            "_view_module_version": "1.2.0",
            "grid_template_areas": null,
            "object_position": null,
            "object_fit": null,
            "grid_auto_columns": null,
            "margin": null,
            "display": null,
            "left": null
          }
        },
        "b9448619f2664a4989d02b480407219a": {
          "model_module": "@jupyter-widgets/controls",
          "model_name": "DescriptionStyleModel",
          "state": {
            "_view_name": "StyleView",
            "_model_name": "DescriptionStyleModel",
            "description_width": "",
            "_view_module": "@jupyter-widgets/base",
            "_model_module_version": "1.5.0",
            "_view_count": null,
            "_view_module_version": "1.2.0",
            "_model_module": "@jupyter-widgets/controls"
          }
        },
        "f1dcdc5db69c4854b4fe5f8d067b8887": {
          "model_module": "@jupyter-widgets/base",
          "model_name": "LayoutModel",
          "state": {
            "_view_name": "LayoutView",
            "grid_template_rows": null,
            "right": null,
            "justify_content": null,
            "_view_module": "@jupyter-widgets/base",
            "overflow": null,
            "_model_module_version": "1.2.0",
            "_view_count": null,
            "flex_flow": null,
            "width": null,
            "min_width": null,
            "border": null,
            "align_items": null,
            "bottom": null,
            "_model_module": "@jupyter-widgets/base",
            "top": null,
            "grid_column": null,
            "overflow_y": null,
            "overflow_x": null,
            "grid_auto_flow": null,
            "grid_area": null,
            "grid_template_columns": null,
            "flex": null,
            "_model_name": "LayoutModel",
            "justify_items": null,
            "grid_row": null,
            "max_height": null,
            "align_content": null,
            "visibility": null,
            "align_self": null,
            "height": null,
            "min_height": null,
            "padding": null,
            "grid_auto_rows": null,
            "grid_gap": null,
            "max_width": null,
            "order": null,
            "_view_module_version": "1.2.0",
            "grid_template_areas": null,
            "object_position": null,
            "object_fit": null,
            "grid_auto_columns": null,
            "margin": null,
            "display": null,
            "left": null
          }
        },
        "da1f25f4162a4be7bbdf3f0b89b7717a": {
          "model_module": "@jupyter-widgets/controls",
          "model_name": "HBoxModel",
          "state": {
            "_view_name": "HBoxView",
            "_dom_classes": [],
            "_model_name": "HBoxModel",
            "_view_module": "@jupyter-widgets/controls",
            "_model_module_version": "1.5.0",
            "_view_count": null,
            "_view_module_version": "1.5.0",
            "box_style": "",
            "layout": "IPY_MODEL_a5bb6c7835e748e194f41bb2e364ff21",
            "_model_module": "@jupyter-widgets/controls",
            "children": [
              "IPY_MODEL_65150f3db2cc47a1aab4d8830d2eea72",
              "IPY_MODEL_0cf825bdd577407d9c74dd673959e973"
            ]
          }
        },
        "a5bb6c7835e748e194f41bb2e364ff21": {
          "model_module": "@jupyter-widgets/base",
          "model_name": "LayoutModel",
          "state": {
            "_view_name": "LayoutView",
            "grid_template_rows": null,
            "right": null,
            "justify_content": null,
            "_view_module": "@jupyter-widgets/base",
            "overflow": null,
            "_model_module_version": "1.2.0",
            "_view_count": null,
            "flex_flow": null,
            "width": null,
            "min_width": null,
            "border": null,
            "align_items": null,
            "bottom": null,
            "_model_module": "@jupyter-widgets/base",
            "top": null,
            "grid_column": null,
            "overflow_y": null,
            "overflow_x": null,
            "grid_auto_flow": null,
            "grid_area": null,
            "grid_template_columns": null,
            "flex": null,
            "_model_name": "LayoutModel",
            "justify_items": null,
            "grid_row": null,
            "max_height": null,
            "align_content": null,
            "visibility": null,
            "align_self": null,
            "height": null,
            "min_height": null,
            "padding": null,
            "grid_auto_rows": null,
            "grid_gap": null,
            "max_width": null,
            "order": null,
            "_view_module_version": "1.2.0",
            "grid_template_areas": null,
            "object_position": null,
            "object_fit": null,
            "grid_auto_columns": null,
            "margin": null,
            "display": null,
            "left": null
          }
        },
        "65150f3db2cc47a1aab4d8830d2eea72": {
          "model_module": "@jupyter-widgets/controls",
          "model_name": "FloatProgressModel",
          "state": {
            "_view_name": "ProgressView",
            "style": "IPY_MODEL_36a5247e265549048d9c7b4acc795b3c",
            "_dom_classes": [],
            "description": "Downloading: 100%",
            "_model_name": "FloatProgressModel",
            "bar_style": "success",
            "max": 1340675298,
            "_view_module": "@jupyter-widgets/controls",
            "_model_module_version": "1.5.0",
            "value": 1340675298,
            "_view_count": null,
            "_view_module_version": "1.5.0",
            "orientation": "horizontal",
            "min": 0,
            "description_tooltip": null,
            "_model_module": "@jupyter-widgets/controls",
            "layout": "IPY_MODEL_68457695c7b94bf2b2f2c0d1ccabca72"
          }
        },
        "0cf825bdd577407d9c74dd673959e973": {
          "model_module": "@jupyter-widgets/controls",
          "model_name": "HTMLModel",
          "state": {
            "_view_name": "HTMLView",
            "style": "IPY_MODEL_c8825cf32c174c9ea6ab4a60616da4c2",
            "_dom_classes": [],
            "description": "",
            "_model_name": "HTMLModel",
            "placeholder": "​",
            "_view_module": "@jupyter-widgets/controls",
            "_model_module_version": "1.5.0",
            "value": " 1.34G/1.34G [00:26&lt;00:00, 50.4MB/s]",
            "_view_count": null,
            "_view_module_version": "1.5.0",
            "description_tooltip": null,
            "_model_module": "@jupyter-widgets/controls",
            "layout": "IPY_MODEL_a4b1c46194264d359489088a416e50e4"
          }
        },
        "36a5247e265549048d9c7b4acc795b3c": {
          "model_module": "@jupyter-widgets/controls",
          "model_name": "ProgressStyleModel",
          "state": {
            "_view_name": "StyleView",
            "_model_name": "ProgressStyleModel",
            "description_width": "initial",
            "_view_module": "@jupyter-widgets/base",
            "_model_module_version": "1.5.0",
            "_view_count": null,
            "_view_module_version": "1.2.0",
            "bar_color": null,
            "_model_module": "@jupyter-widgets/controls"
          }
        },
        "68457695c7b94bf2b2f2c0d1ccabca72": {
          "model_module": "@jupyter-widgets/base",
          "model_name": "LayoutModel",
          "state": {
            "_view_name": "LayoutView",
            "grid_template_rows": null,
            "right": null,
            "justify_content": null,
            "_view_module": "@jupyter-widgets/base",
            "overflow": null,
            "_model_module_version": "1.2.0",
            "_view_count": null,
            "flex_flow": null,
            "width": null,
            "min_width": null,
            "border": null,
            "align_items": null,
            "bottom": null,
            "_model_module": "@jupyter-widgets/base",
            "top": null,
            "grid_column": null,
            "overflow_y": null,
            "overflow_x": null,
            "grid_auto_flow": null,
            "grid_area": null,
            "grid_template_columns": null,
            "flex": null,
            "_model_name": "LayoutModel",
            "justify_items": null,
            "grid_row": null,
            "max_height": null,
            "align_content": null,
            "visibility": null,
            "align_self": null,
            "height": null,
            "min_height": null,
            "padding": null,
            "grid_auto_rows": null,
            "grid_gap": null,
            "max_width": null,
            "order": null,
            "_view_module_version": "1.2.0",
            "grid_template_areas": null,
            "object_position": null,
            "object_fit": null,
            "grid_auto_columns": null,
            "margin": null,
            "display": null,
            "left": null
          }
        },
        "c8825cf32c174c9ea6ab4a60616da4c2": {
          "model_module": "@jupyter-widgets/controls",
          "model_name": "DescriptionStyleModel",
          "state": {
            "_view_name": "StyleView",
            "_model_name": "DescriptionStyleModel",
            "description_width": "",
            "_view_module": "@jupyter-widgets/base",
            "_model_module_version": "1.5.0",
            "_view_count": null,
            "_view_module_version": "1.2.0",
            "_model_module": "@jupyter-widgets/controls"
          }
        },
        "a4b1c46194264d359489088a416e50e4": {
          "model_module": "@jupyter-widgets/base",
          "model_name": "LayoutModel",
          "state": {
            "_view_name": "LayoutView",
            "grid_template_rows": null,
            "right": null,
            "justify_content": null,
            "_view_module": "@jupyter-widgets/base",
            "overflow": null,
            "_model_module_version": "1.2.0",
            "_view_count": null,
            "flex_flow": null,
            "width": null,
            "min_width": null,
            "border": null,
            "align_items": null,
            "bottom": null,
            "_model_module": "@jupyter-widgets/base",
            "top": null,
            "grid_column": null,
            "overflow_y": null,
            "overflow_x": null,
            "grid_auto_flow": null,
            "grid_area": null,
            "grid_template_columns": null,
            "flex": null,
            "_model_name": "LayoutModel",
            "justify_items": null,
            "grid_row": null,
            "max_height": null,
            "align_content": null,
            "visibility": null,
            "align_self": null,
            "height": null,
            "min_height": null,
            "padding": null,
            "grid_auto_rows": null,
            "grid_gap": null,
            "max_width": null,
            "order": null,
            "_view_module_version": "1.2.0",
            "grid_template_areas": null,
            "object_position": null,
            "object_fit": null,
            "grid_auto_columns": null,
            "margin": null,
            "display": null,
            "left": null
          }
        },
        "a78230157cf14088a4c65c14979b8c3f": {
          "model_module": "@jupyter-widgets/controls",
          "model_name": "HBoxModel",
          "state": {
            "_view_name": "HBoxView",
            "_dom_classes": [],
            "_model_name": "HBoxModel",
            "_view_module": "@jupyter-widgets/controls",
            "_model_module_version": "1.5.0",
            "_view_count": null,
            "_view_module_version": "1.5.0",
            "box_style": "",
            "layout": "IPY_MODEL_5f708facc0e245a0893fec5c414972d4",
            "_model_module": "@jupyter-widgets/controls",
            "children": [
              "IPY_MODEL_c48297c5970c41999bb0c3763cea3233",
              "IPY_MODEL_00c21bbb546147439075692060b2ef00"
            ]
          }
        },
        "5f708facc0e245a0893fec5c414972d4": {
          "model_module": "@jupyter-widgets/base",
          "model_name": "LayoutModel",
          "state": {
            "_view_name": "LayoutView",
            "grid_template_rows": null,
            "right": null,
            "justify_content": null,
            "_view_module": "@jupyter-widgets/base",
            "overflow": null,
            "_model_module_version": "1.2.0",
            "_view_count": null,
            "flex_flow": null,
            "width": null,
            "min_width": null,
            "border": null,
            "align_items": null,
            "bottom": null,
            "_model_module": "@jupyter-widgets/base",
            "top": null,
            "grid_column": null,
            "overflow_y": null,
            "overflow_x": null,
            "grid_auto_flow": null,
            "grid_area": null,
            "grid_template_columns": null,
            "flex": null,
            "_model_name": "LayoutModel",
            "justify_items": null,
            "grid_row": null,
            "max_height": null,
            "align_content": null,
            "visibility": null,
            "align_self": null,
            "height": null,
            "min_height": null,
            "padding": null,
            "grid_auto_rows": null,
            "grid_gap": null,
            "max_width": null,
            "order": null,
            "_view_module_version": "1.2.0",
            "grid_template_areas": null,
            "object_position": null,
            "object_fit": null,
            "grid_auto_columns": null,
            "margin": null,
            "display": null,
            "left": null
          }
        },
        "c48297c5970c41999bb0c3763cea3233": {
          "model_module": "@jupyter-widgets/controls",
          "model_name": "FloatProgressModel",
          "state": {
            "_view_name": "ProgressView",
            "style": "IPY_MODEL_efaa87af6b8f46c8abe15a74061190ef",
            "_dom_classes": [],
            "description": "Downloading: 100%",
            "_model_name": "FloatProgressModel",
            "bar_style": "success",
            "max": 231508,
            "_view_module": "@jupyter-widgets/controls",
            "_model_module_version": "1.5.0",
            "value": 231508,
            "_view_count": null,
            "_view_module_version": "1.5.0",
            "orientation": "horizontal",
            "min": 0,
            "description_tooltip": null,
            "_model_module": "@jupyter-widgets/controls",
            "layout": "IPY_MODEL_29252d4cbf3740bd82a983505c4c01d4"
          }
        },
        "00c21bbb546147439075692060b2ef00": {
          "model_module": "@jupyter-widgets/controls",
          "model_name": "HTMLModel",
          "state": {
            "_view_name": "HTMLView",
            "style": "IPY_MODEL_e2b69952672744088bf1982b58b30588",
            "_dom_classes": [],
            "description": "",
            "_model_name": "HTMLModel",
            "placeholder": "​",
            "_view_module": "@jupyter-widgets/controls",
            "_model_module_version": "1.5.0",
            "value": " 232k/232k [00:01&lt;00:00, 169kB/s]",
            "_view_count": null,
            "_view_module_version": "1.5.0",
            "description_tooltip": null,
            "_model_module": "@jupyter-widgets/controls",
            "layout": "IPY_MODEL_d3ad156975164fe9b0aaf778e9b2d99b"
          }
        },
        "efaa87af6b8f46c8abe15a74061190ef": {
          "model_module": "@jupyter-widgets/controls",
          "model_name": "ProgressStyleModel",
          "state": {
            "_view_name": "StyleView",
            "_model_name": "ProgressStyleModel",
            "description_width": "initial",
            "_view_module": "@jupyter-widgets/base",
            "_model_module_version": "1.5.0",
            "_view_count": null,
            "_view_module_version": "1.2.0",
            "bar_color": null,
            "_model_module": "@jupyter-widgets/controls"
          }
        },
        "29252d4cbf3740bd82a983505c4c01d4": {
          "model_module": "@jupyter-widgets/base",
          "model_name": "LayoutModel",
          "state": {
            "_view_name": "LayoutView",
            "grid_template_rows": null,
            "right": null,
            "justify_content": null,
            "_view_module": "@jupyter-widgets/base",
            "overflow": null,
            "_model_module_version": "1.2.0",
            "_view_count": null,
            "flex_flow": null,
            "width": null,
            "min_width": null,
            "border": null,
            "align_items": null,
            "bottom": null,
            "_model_module": "@jupyter-widgets/base",
            "top": null,
            "grid_column": null,
            "overflow_y": null,
            "overflow_x": null,
            "grid_auto_flow": null,
            "grid_area": null,
            "grid_template_columns": null,
            "flex": null,
            "_model_name": "LayoutModel",
            "justify_items": null,
            "grid_row": null,
            "max_height": null,
            "align_content": null,
            "visibility": null,
            "align_self": null,
            "height": null,
            "min_height": null,
            "padding": null,
            "grid_auto_rows": null,
            "grid_gap": null,
            "max_width": null,
            "order": null,
            "_view_module_version": "1.2.0",
            "grid_template_areas": null,
            "object_position": null,
            "object_fit": null,
            "grid_auto_columns": null,
            "margin": null,
            "display": null,
            "left": null
          }
        },
        "e2b69952672744088bf1982b58b30588": {
          "model_module": "@jupyter-widgets/controls",
          "model_name": "DescriptionStyleModel",
          "state": {
            "_view_name": "StyleView",
            "_model_name": "DescriptionStyleModel",
            "description_width": "",
            "_view_module": "@jupyter-widgets/base",
            "_model_module_version": "1.5.0",
            "_view_count": null,
            "_view_module_version": "1.2.0",
            "_model_module": "@jupyter-widgets/controls"
          }
        },
        "d3ad156975164fe9b0aaf778e9b2d99b": {
          "model_module": "@jupyter-widgets/base",
          "model_name": "LayoutModel",
          "state": {
            "_view_name": "LayoutView",
            "grid_template_rows": null,
            "right": null,
            "justify_content": null,
            "_view_module": "@jupyter-widgets/base",
            "overflow": null,
            "_model_module_version": "1.2.0",
            "_view_count": null,
            "flex_flow": null,
            "width": null,
            "min_width": null,
            "border": null,
            "align_items": null,
            "bottom": null,
            "_model_module": "@jupyter-widgets/base",
            "top": null,
            "grid_column": null,
            "overflow_y": null,
            "overflow_x": null,
            "grid_auto_flow": null,
            "grid_area": null,
            "grid_template_columns": null,
            "flex": null,
            "_model_name": "LayoutModel",
            "justify_items": null,
            "grid_row": null,
            "max_height": null,
            "align_content": null,
            "visibility": null,
            "align_self": null,
            "height": null,
            "min_height": null,
            "padding": null,
            "grid_auto_rows": null,
            "grid_gap": null,
            "max_width": null,
            "order": null,
            "_view_module_version": "1.2.0",
            "grid_template_areas": null,
            "object_position": null,
            "object_fit": null,
            "grid_auto_columns": null,
            "margin": null,
            "display": null,
            "left": null
          }
        },
        "2565d1dfcf84400099eba094693b5968": {
          "model_module": "@jupyter-widgets/controls",
          "model_name": "HBoxModel",
          "state": {
            "_view_name": "HBoxView",
            "_dom_classes": [],
            "_model_name": "HBoxModel",
            "_view_module": "@jupyter-widgets/controls",
            "_model_module_version": "1.5.0",
            "_view_count": null,
            "_view_module_version": "1.5.0",
            "box_style": "",
            "layout": "IPY_MODEL_96d71780801c4f84b725d07138c901b6",
            "_model_module": "@jupyter-widgets/controls",
            "children": [
              "IPY_MODEL_a78a6b947f53499ea66ba5d2552e85f6",
              "IPY_MODEL_51dfa00f89d14772bcc7daa70721448f"
            ]
          }
        },
        "96d71780801c4f84b725d07138c901b6": {
          "model_module": "@jupyter-widgets/base",
          "model_name": "LayoutModel",
          "state": {
            "_view_name": "LayoutView",
            "grid_template_rows": null,
            "right": null,
            "justify_content": null,
            "_view_module": "@jupyter-widgets/base",
            "overflow": null,
            "_model_module_version": "1.2.0",
            "_view_count": null,
            "flex_flow": null,
            "width": null,
            "min_width": null,
            "border": null,
            "align_items": null,
            "bottom": null,
            "_model_module": "@jupyter-widgets/base",
            "top": null,
            "grid_column": null,
            "overflow_y": null,
            "overflow_x": null,
            "grid_auto_flow": null,
            "grid_area": null,
            "grid_template_columns": null,
            "flex": null,
            "_model_name": "LayoutModel",
            "justify_items": null,
            "grid_row": null,
            "max_height": null,
            "align_content": null,
            "visibility": null,
            "align_self": null,
            "height": null,
            "min_height": null,
            "padding": null,
            "grid_auto_rows": null,
            "grid_gap": null,
            "max_width": null,
            "order": null,
            "_view_module_version": "1.2.0",
            "grid_template_areas": null,
            "object_position": null,
            "object_fit": null,
            "grid_auto_columns": null,
            "margin": null,
            "display": null,
            "left": null
          }
        },
        "a78a6b947f53499ea66ba5d2552e85f6": {
          "model_module": "@jupyter-widgets/controls",
          "model_name": "FloatProgressModel",
          "state": {
            "_view_name": "ProgressView",
            "style": "IPY_MODEL_2e8987d1b3774592bb774a8d825cc59c",
            "_dom_classes": [],
            "description": "Downloading: 100%",
            "_model_name": "FloatProgressModel",
            "bar_style": "success",
            "max": 28,
            "_view_module": "@jupyter-widgets/controls",
            "_model_module_version": "1.5.0",
            "value": 28,
            "_view_count": null,
            "_view_module_version": "1.5.0",
            "orientation": "horizontal",
            "min": 0,
            "description_tooltip": null,
            "_model_module": "@jupyter-widgets/controls",
            "layout": "IPY_MODEL_0d0039db3905420cbeb3590340b443fc"
          }
        },
        "51dfa00f89d14772bcc7daa70721448f": {
          "model_module": "@jupyter-widgets/controls",
          "model_name": "HTMLModel",
          "state": {
            "_view_name": "HTMLView",
            "style": "IPY_MODEL_f77ca075e3f746b0818aa7a334d0b0e1",
            "_dom_classes": [],
            "description": "",
            "_model_name": "HTMLModel",
            "placeholder": "​",
            "_view_module": "@jupyter-widgets/controls",
            "_model_module_version": "1.5.0",
            "value": " 28.0/28.0 [00:00&lt;00:00, 96.9B/s]",
            "_view_count": null,
            "_view_module_version": "1.5.0",
            "description_tooltip": null,
            "_model_module": "@jupyter-widgets/controls",
            "layout": "IPY_MODEL_636683fd41004647ae15941439f4bf8b"
          }
        },
        "2e8987d1b3774592bb774a8d825cc59c": {
          "model_module": "@jupyter-widgets/controls",
          "model_name": "ProgressStyleModel",
          "state": {
            "_view_name": "StyleView",
            "_model_name": "ProgressStyleModel",
            "description_width": "initial",
            "_view_module": "@jupyter-widgets/base",
            "_model_module_version": "1.5.0",
            "_view_count": null,
            "_view_module_version": "1.2.0",
            "bar_color": null,
            "_model_module": "@jupyter-widgets/controls"
          }
        },
        "0d0039db3905420cbeb3590340b443fc": {
          "model_module": "@jupyter-widgets/base",
          "model_name": "LayoutModel",
          "state": {
            "_view_name": "LayoutView",
            "grid_template_rows": null,
            "right": null,
            "justify_content": null,
            "_view_module": "@jupyter-widgets/base",
            "overflow": null,
            "_model_module_version": "1.2.0",
            "_view_count": null,
            "flex_flow": null,
            "width": null,
            "min_width": null,
            "border": null,
            "align_items": null,
            "bottom": null,
            "_model_module": "@jupyter-widgets/base",
            "top": null,
            "grid_column": null,
            "overflow_y": null,
            "overflow_x": null,
            "grid_auto_flow": null,
            "grid_area": null,
            "grid_template_columns": null,
            "flex": null,
            "_model_name": "LayoutModel",
            "justify_items": null,
            "grid_row": null,
            "max_height": null,
            "align_content": null,
            "visibility": null,
            "align_self": null,
            "height": null,
            "min_height": null,
            "padding": null,
            "grid_auto_rows": null,
            "grid_gap": null,
            "max_width": null,
            "order": null,
            "_view_module_version": "1.2.0",
            "grid_template_areas": null,
            "object_position": null,
            "object_fit": null,
            "grid_auto_columns": null,
            "margin": null,
            "display": null,
            "left": null
          }
        },
        "f77ca075e3f746b0818aa7a334d0b0e1": {
          "model_module": "@jupyter-widgets/controls",
          "model_name": "DescriptionStyleModel",
          "state": {
            "_view_name": "StyleView",
            "_model_name": "DescriptionStyleModel",
            "description_width": "",
            "_view_module": "@jupyter-widgets/base",
            "_model_module_version": "1.5.0",
            "_view_count": null,
            "_view_module_version": "1.2.0",
            "_model_module": "@jupyter-widgets/controls"
          }
        },
        "636683fd41004647ae15941439f4bf8b": {
          "model_module": "@jupyter-widgets/base",
          "model_name": "LayoutModel",
          "state": {
            "_view_name": "LayoutView",
            "grid_template_rows": null,
            "right": null,
            "justify_content": null,
            "_view_module": "@jupyter-widgets/base",
            "overflow": null,
            "_model_module_version": "1.2.0",
            "_view_count": null,
            "flex_flow": null,
            "width": null,
            "min_width": null,
            "border": null,
            "align_items": null,
            "bottom": null,
            "_model_module": "@jupyter-widgets/base",
            "top": null,
            "grid_column": null,
            "overflow_y": null,
            "overflow_x": null,
            "grid_auto_flow": null,
            "grid_area": null,
            "grid_template_columns": null,
            "flex": null,
            "_model_name": "LayoutModel",
            "justify_items": null,
            "grid_row": null,
            "max_height": null,
            "align_content": null,
            "visibility": null,
            "align_self": null,
            "height": null,
            "min_height": null,
            "padding": null,
            "grid_auto_rows": null,
            "grid_gap": null,
            "max_width": null,
            "order": null,
            "_view_module_version": "1.2.0",
            "grid_template_areas": null,
            "object_position": null,
            "object_fit": null,
            "grid_auto_columns": null,
            "margin": null,
            "display": null,
            "left": null
          }
        },
        "8b124c8ea7f540ce8d8a86721c5a0aaf": {
          "model_module": "@jupyter-widgets/controls",
          "model_name": "HBoxModel",
          "state": {
            "_view_name": "HBoxView",
            "_dom_classes": [],
            "_model_name": "HBoxModel",
            "_view_module": "@jupyter-widgets/controls",
            "_model_module_version": "1.5.0",
            "_view_count": null,
            "_view_module_version": "1.5.0",
            "box_style": "",
            "layout": "IPY_MODEL_7e2d66634ead4379b3fa7b6532427d8a",
            "_model_module": "@jupyter-widgets/controls",
            "children": [
              "IPY_MODEL_5afd28583fa04b11ad0421067fbc596a",
              "IPY_MODEL_f7648f14b2934f00a58fee4f3f42b505"
            ]
          }
        },
        "7e2d66634ead4379b3fa7b6532427d8a": {
          "model_module": "@jupyter-widgets/base",
          "model_name": "LayoutModel",
          "state": {
            "_view_name": "LayoutView",
            "grid_template_rows": null,
            "right": null,
            "justify_content": null,
            "_view_module": "@jupyter-widgets/base",
            "overflow": null,
            "_model_module_version": "1.2.0",
            "_view_count": null,
            "flex_flow": null,
            "width": null,
            "min_width": null,
            "border": null,
            "align_items": null,
            "bottom": null,
            "_model_module": "@jupyter-widgets/base",
            "top": null,
            "grid_column": null,
            "overflow_y": null,
            "overflow_x": null,
            "grid_auto_flow": null,
            "grid_area": null,
            "grid_template_columns": null,
            "flex": null,
            "_model_name": "LayoutModel",
            "justify_items": null,
            "grid_row": null,
            "max_height": null,
            "align_content": null,
            "visibility": null,
            "align_self": null,
            "height": null,
            "min_height": null,
            "padding": null,
            "grid_auto_rows": null,
            "grid_gap": null,
            "max_width": null,
            "order": null,
            "_view_module_version": "1.2.0",
            "grid_template_areas": null,
            "object_position": null,
            "object_fit": null,
            "grid_auto_columns": null,
            "margin": null,
            "display": null,
            "left": null
          }
        },
        "5afd28583fa04b11ad0421067fbc596a": {
          "model_module": "@jupyter-widgets/controls",
          "model_name": "FloatProgressModel",
          "state": {
            "_view_name": "ProgressView",
            "style": "IPY_MODEL_fbc87e2e5fde424da07073a58babd81e",
            "_dom_classes": [],
            "description": "Downloading: 100%",
            "_model_name": "FloatProgressModel",
            "bar_style": "success",
            "max": 466062,
            "_view_module": "@jupyter-widgets/controls",
            "_model_module_version": "1.5.0",
            "value": 466062,
            "_view_count": null,
            "_view_module_version": "1.5.0",
            "orientation": "horizontal",
            "min": 0,
            "description_tooltip": null,
            "_model_module": "@jupyter-widgets/controls",
            "layout": "IPY_MODEL_e2c3f42d529245238cb561662a7f965c"
          }
        },
        "f7648f14b2934f00a58fee4f3f42b505": {
          "model_module": "@jupyter-widgets/controls",
          "model_name": "HTMLModel",
          "state": {
            "_view_name": "HTMLView",
            "style": "IPY_MODEL_87c8503f9b514a6eb81f8e5722adc99c",
            "_dom_classes": [],
            "description": "",
            "_model_name": "HTMLModel",
            "placeholder": "​",
            "_view_module": "@jupyter-widgets/controls",
            "_model_module_version": "1.5.0",
            "value": " 466k/466k [00:00&lt;00:00, 1.34MB/s]",
            "_view_count": null,
            "_view_module_version": "1.5.0",
            "description_tooltip": null,
            "_model_module": "@jupyter-widgets/controls",
            "layout": "IPY_MODEL_34de182bfdaf42e8847dc038a960b829"
          }
        },
        "fbc87e2e5fde424da07073a58babd81e": {
          "model_module": "@jupyter-widgets/controls",
          "model_name": "ProgressStyleModel",
          "state": {
            "_view_name": "StyleView",
            "_model_name": "ProgressStyleModel",
            "description_width": "initial",
            "_view_module": "@jupyter-widgets/base",
            "_model_module_version": "1.5.0",
            "_view_count": null,
            "_view_module_version": "1.2.0",
            "bar_color": null,
            "_model_module": "@jupyter-widgets/controls"
          }
        },
        "e2c3f42d529245238cb561662a7f965c": {
          "model_module": "@jupyter-widgets/base",
          "model_name": "LayoutModel",
          "state": {
            "_view_name": "LayoutView",
            "grid_template_rows": null,
            "right": null,
            "justify_content": null,
            "_view_module": "@jupyter-widgets/base",
            "overflow": null,
            "_model_module_version": "1.2.0",
            "_view_count": null,
            "flex_flow": null,
            "width": null,
            "min_width": null,
            "border": null,
            "align_items": null,
            "bottom": null,
            "_model_module": "@jupyter-widgets/base",
            "top": null,
            "grid_column": null,
            "overflow_y": null,
            "overflow_x": null,
            "grid_auto_flow": null,
            "grid_area": null,
            "grid_template_columns": null,
            "flex": null,
            "_model_name": "LayoutModel",
            "justify_items": null,
            "grid_row": null,
            "max_height": null,
            "align_content": null,
            "visibility": null,
            "align_self": null,
            "height": null,
            "min_height": null,
            "padding": null,
            "grid_auto_rows": null,
            "grid_gap": null,
            "max_width": null,
            "order": null,
            "_view_module_version": "1.2.0",
            "grid_template_areas": null,
            "object_position": null,
            "object_fit": null,
            "grid_auto_columns": null,
            "margin": null,
            "display": null,
            "left": null
          }
        },
        "87c8503f9b514a6eb81f8e5722adc99c": {
          "model_module": "@jupyter-widgets/controls",
          "model_name": "DescriptionStyleModel",
          "state": {
            "_view_name": "StyleView",
            "_model_name": "DescriptionStyleModel",
            "description_width": "",
            "_view_module": "@jupyter-widgets/base",
            "_model_module_version": "1.5.0",
            "_view_count": null,
            "_view_module_version": "1.2.0",
            "_model_module": "@jupyter-widgets/controls"
          }
        },
        "34de182bfdaf42e8847dc038a960b829": {
          "model_module": "@jupyter-widgets/base",
          "model_name": "LayoutModel",
          "state": {
            "_view_name": "LayoutView",
            "grid_template_rows": null,
            "right": null,
            "justify_content": null,
            "_view_module": "@jupyter-widgets/base",
            "overflow": null,
            "_model_module_version": "1.2.0",
            "_view_count": null,
            "flex_flow": null,
            "width": null,
            "min_width": null,
            "border": null,
            "align_items": null,
            "bottom": null,
            "_model_module": "@jupyter-widgets/base",
            "top": null,
            "grid_column": null,
            "overflow_y": null,
            "overflow_x": null,
            "grid_auto_flow": null,
            "grid_area": null,
            "grid_template_columns": null,
            "flex": null,
            "_model_name": "LayoutModel",
            "justify_items": null,
            "grid_row": null,
            "max_height": null,
            "align_content": null,
            "visibility": null,
            "align_self": null,
            "height": null,
            "min_height": null,
            "padding": null,
            "grid_auto_rows": null,
            "grid_gap": null,
            "max_width": null,
            "order": null,
            "_view_module_version": "1.2.0",
            "grid_template_areas": null,
            "object_position": null,
            "object_fit": null,
            "grid_auto_columns": null,
            "margin": null,
            "display": null,
            "left": null
          }
        }
      }
    }
  },
  "cells": [
    {
      "cell_type": "markdown",
      "metadata": {
        "id": "view-in-github",
        "colab_type": "text"
      },
      "source": [
        "<a href=\"https://colab.research.google.com/github/mathluva/BERT-BeautifulSoup/blob/main/BERT_BeautifulSoup.ipynb\" target=\"_parent\"><img src=\"https://colab.research.google.com/assets/colab-badge.svg\" alt=\"Open In Colab\"/></a>"
      ]
    },
    {
      "cell_type": "code",
      "metadata": {
        "colab": {
          "base_uri": "https://localhost:8080/"
        },
        "id": "wM4H7HtpljA7",
        "outputId": "77518acb-153c-4ce1-d5f6-eb0da9b36e8e"
      },
      "source": [
        "!pip install transformers\n",
        "!pip install torch"
      ],
      "execution_count": null,
      "outputs": [
        {
          "output_type": "stream",
          "text": [
            "Collecting transformers\n",
            "\u001b[?25l  Downloading https://files.pythonhosted.org/packages/81/91/61d69d58a1af1bd81d9ca9d62c90a6de3ab80d77f27c5df65d9a2c1f5626/transformers-4.5.0-py3-none-any.whl (2.1MB)\n",
            "\u001b[K     |████████████████████████████████| 2.2MB 10.6MB/s \n",
            "\u001b[?25hRequirement already satisfied: tqdm>=4.27 in /usr/local/lib/python3.7/dist-packages (from transformers) (4.41.1)\n",
            "Requirement already satisfied: numpy>=1.17 in /usr/local/lib/python3.7/dist-packages (from transformers) (1.19.5)\n",
            "Requirement already satisfied: requests in /usr/local/lib/python3.7/dist-packages (from transformers) (2.23.0)\n",
            "Requirement already satisfied: regex!=2019.12.17 in /usr/local/lib/python3.7/dist-packages (from transformers) (2019.12.20)\n",
            "Requirement already satisfied: packaging in /usr/local/lib/python3.7/dist-packages (from transformers) (20.9)\n",
            "Collecting tokenizers<0.11,>=0.10.1\n",
            "\u001b[?25l  Downloading https://files.pythonhosted.org/packages/ae/04/5b870f26a858552025a62f1649c20d29d2672c02ff3c3fb4c688ca46467a/tokenizers-0.10.2-cp37-cp37m-manylinux2010_x86_64.whl (3.3MB)\n",
            "\u001b[K     |████████████████████████████████| 3.3MB 49.4MB/s \n",
            "\u001b[?25hCollecting sacremoses\n",
            "\u001b[?25l  Downloading https://files.pythonhosted.org/packages/08/cd/342e584ee544d044fb573ae697404ce22ede086c9e87ce5960772084cad0/sacremoses-0.0.44.tar.gz (862kB)\n",
            "\u001b[K     |████████████████████████████████| 870kB 49.8MB/s \n",
            "\u001b[?25hRequirement already satisfied: importlib-metadata; python_version < \"3.8\" in /usr/local/lib/python3.7/dist-packages (from transformers) (3.8.1)\n",
            "Requirement already satisfied: filelock in /usr/local/lib/python3.7/dist-packages (from transformers) (3.0.12)\n",
            "Requirement already satisfied: urllib3!=1.25.0,!=1.25.1,<1.26,>=1.21.1 in /usr/local/lib/python3.7/dist-packages (from requests->transformers) (1.24.3)\n",
            "Requirement already satisfied: chardet<4,>=3.0.2 in /usr/local/lib/python3.7/dist-packages (from requests->transformers) (3.0.4)\n",
            "Requirement already satisfied: certifi>=2017.4.17 in /usr/local/lib/python3.7/dist-packages (from requests->transformers) (2020.12.5)\n",
            "Requirement already satisfied: idna<3,>=2.5 in /usr/local/lib/python3.7/dist-packages (from requests->transformers) (2.10)\n",
            "Requirement already satisfied: pyparsing>=2.0.2 in /usr/local/lib/python3.7/dist-packages (from packaging->transformers) (2.4.7)\n",
            "Requirement already satisfied: six in /usr/local/lib/python3.7/dist-packages (from sacremoses->transformers) (1.15.0)\n",
            "Requirement already satisfied: click in /usr/local/lib/python3.7/dist-packages (from sacremoses->transformers) (7.1.2)\n",
            "Requirement already satisfied: joblib in /usr/local/lib/python3.7/dist-packages (from sacremoses->transformers) (1.0.1)\n",
            "Requirement already satisfied: zipp>=0.5 in /usr/local/lib/python3.7/dist-packages (from importlib-metadata; python_version < \"3.8\"->transformers) (3.4.1)\n",
            "Requirement already satisfied: typing-extensions>=3.6.4; python_version < \"3.8\" in /usr/local/lib/python3.7/dist-packages (from importlib-metadata; python_version < \"3.8\"->transformers) (3.7.4.3)\n",
            "Building wheels for collected packages: sacremoses\n",
            "  Building wheel for sacremoses (setup.py) ... \u001b[?25l\u001b[?25hdone\n",
            "  Created wheel for sacremoses: filename=sacremoses-0.0.44-cp37-none-any.whl size=886084 sha256=8f5e94df50b7eedf8ecc5ab670d532327c378214e7ff9f959f538f09fb2728bb\n",
            "  Stored in directory: /root/.cache/pip/wheels/3e/fb/c0/13ab4d63d537658f448366744654323077c4d90069b6512f3c\n",
            "Successfully built sacremoses\n",
            "Installing collected packages: tokenizers, sacremoses, transformers\n",
            "Successfully installed sacremoses-0.0.44 tokenizers-0.10.2 transformers-4.5.0\n",
            "Requirement already satisfied: torch in /usr/local/lib/python3.7/dist-packages (1.8.1+cu101)\n",
            "Requirement already satisfied: numpy in /usr/local/lib/python3.7/dist-packages (from torch) (1.19.5)\n",
            "Requirement already satisfied: typing-extensions in /usr/local/lib/python3.7/dist-packages (from torch) (3.7.4.3)\n"
          ],
          "name": "stdout"
        }
      ]
    },
    {
      "cell_type": "code",
      "metadata": {
        "id": "hoCuD0vdl74B"
      },
      "source": [
        "import torch\n",
        "import numpy as np\n",
        "import math\n",
        "import re\n",
        "import pandas as pd\n",
        "import random"
      ],
      "execution_count": null,
      "outputs": []
    },
    {
      "cell_type": "code",
      "metadata": {
        "colab": {
          "base_uri": "https://localhost:8080/"
        },
        "id": "3qMrwNHBmEAq",
        "outputId": "4d155997-b872-4687-85a2-b94279533f89"
      },
      "source": [
        "from google.colab import drive\n",
        "drive.mount(\"/content/drive\")"
      ],
      "execution_count": null,
      "outputs": [
        {
          "output_type": "stream",
          "text": [
            "Mounted at /content/drive\n"
          ],
          "name": "stdout"
        }
      ]
    },
    {
      "cell_type": "code",
      "metadata": {
        "colab": {
          "base_uri": "https://localhost:8080/",
          "height": 632
        },
        "id": "UFdlF34Cbanm",
        "outputId": "50a9160a-cf55-47bc-ed9a-770407a7e3a7"
      },
      "source": [
        "train_data = pd.read_excel(\"/content/drive/MyDrive/Attorney_text_Hackathon[1]/RoBERTa/attorney_answers_training.xlsx\", \"Answers\")\n",
        "train_data.head()"
      ],
      "execution_count": null,
      "outputs": [
        {
          "output_type": "execute_result",
          "data": {
            "text/html": [
              "<div>\n",
              "<style scoped>\n",
              "    .dataframe tbody tr th:only-of-type {\n",
              "        vertical-align: middle;\n",
              "    }\n",
              "\n",
              "    .dataframe tbody tr th {\n",
              "        vertical-align: top;\n",
              "    }\n",
              "\n",
              "    .dataframe thead th {\n",
              "        text-align: right;\n",
              "    }\n",
              "</style>\n",
              "<table border=\"1\" class=\"dataframe\">\n",
              "  <thead>\n",
              "    <tr style=\"text-align: right;\">\n",
              "      <th></th>\n",
              "      <th>FileName</th>\n",
              "      <th>AttorneyName</th>\n",
              "      <th>Title</th>\n",
              "      <th>Is Attorney</th>\n",
              "      <th>Employment Start Year</th>\n",
              "      <th>Phones</th>\n",
              "      <th>Fax</th>\n",
              "      <th>Locations</th>\n",
              "      <th>Email Address</th>\n",
              "      <th>Education</th>\n",
              "      <th>Admissions</th>\n",
              "      <th>Practice Areas</th>\n",
              "      <th>Prior Employments</th>\n",
              "      <th>clerkships</th>\n",
              "      <th>note</th>\n",
              "      <th>note2</th>\n",
              "    </tr>\n",
              "  </thead>\n",
              "  <tbody>\n",
              "    <tr>\n",
              "      <th>0</th>\n",
              "      <td>207legal.html</td>\n",
              "      <td>Andrews Bruce Campbell</td>\n",
              "      <td>NaN</td>\n",
              "      <td>True</td>\n",
              "      <td>NaN</td>\n",
              "      <td>NaN</td>\n",
              "      <td>NaN</td>\n",
              "      <td>NaN</td>\n",
              "      <td>[\"abc@207legal.com\"]</td>\n",
              "      <td>[{\"institution\" : \"George Washington Universit...</td>\n",
              "      <td>NaN</td>\n",
              "      <td>[\"murder\", \"homicide cases\", \"major drug traff...</td>\n",
              "      <td>[{\"employer\" : \"CAMPBELL LAW OFFICES\", \"startY...</td>\n",
              "      <td>NaN</td>\n",
              "      <td>NaN</td>\n",
              "      <td>NaN</td>\n",
              "    </tr>\n",
              "    <tr>\n",
              "      <th>1</th>\n",
              "      <td>1800law1010.html</td>\n",
              "      <td>Alex C. Turnello</td>\n",
              "      <td>Attorney</td>\n",
              "      <td>True</td>\n",
              "      <td>NaN</td>\n",
              "      <td>[\"518-724-2232\", \"877-724-2232\"]</td>\n",
              "      <td>NaN</td>\n",
              "      <td>NaN</td>\n",
              "      <td>[\"Alex.Turnello@1800law1010.com\"]</td>\n",
              "      <td>[{\"institution\" : \"New Mexico State University...</td>\n",
              "      <td>[{\"institution\"\" : \"Texas\", \"admissionYear\" : ...</td>\n",
              "      <td>[\"personal injury\"]</td>\n",
              "      <td>[{\"employer\" : \"Cervantes, Scherr &amp; Legate Law...</td>\n",
              "      <td>NaN</td>\n",
              "      <td>NaN</td>\n",
              "      <td>NaN</td>\n",
              "    </tr>\n",
              "    <tr>\n",
              "      <th>2</th>\n",
              "      <td>aa-law.html</td>\n",
              "      <td>Renee C. Fell</td>\n",
              "      <td>Attorney</td>\n",
              "      <td>True</td>\n",
              "      <td>NaN</td>\n",
              "      <td>[\"312-795-9110\"]</td>\n",
              "      <td>NaN</td>\n",
              "      <td>[\"100 North LaSalle #2115 Chicago, Illinois 60...</td>\n",
              "      <td>NaN</td>\n",
              "      <td>[{\"institution\" : \"Loyola University Chicago S...</td>\n",
              "      <td>[{\"institution\" : \"Supreme Court of Illinois\"}...</td>\n",
              "      <td>[\"whistleblower claims\", \"discrimination claim...</td>\n",
              "      <td>NaN</td>\n",
              "      <td>[{\"court\" : \"Cook County Public Defender\"}]</td>\n",
              "      <td>NaN</td>\n",
              "      <td>NaN</td>\n",
              "    </tr>\n",
              "    <tr>\n",
              "      <th>3</th>\n",
              "      <td>abdurrahmanlaw.html</td>\n",
              "      <td>Mahdi Abdur-Rahman</td>\n",
              "      <td>Founder</td>\n",
              "      <td>True</td>\n",
              "      <td>NaN</td>\n",
              "      <td>[\"470-225-8642\"]</td>\n",
              "      <td>[\"404-393-1849\"]</td>\n",
              "      <td>[\"206 Pryor Street, Suite C-2, Atlanta, GA 303...</td>\n",
              "      <td>NaN</td>\n",
              "      <td>[{\"institution\" : \"Morehouse College\", \"degree...</td>\n",
              "      <td>NaN</td>\n",
              "      <td>[\"personal injury\", \"workplace victims\", \"smal...</td>\n",
              "      <td>NaN</td>\n",
              "      <td>NaN</td>\n",
              "      <td>NaN</td>\n",
              "      <td>NaN</td>\n",
              "    </tr>\n",
              "    <tr>\n",
              "      <th>4</th>\n",
              "      <td>aclunc.html</td>\n",
              "      <td>Shilpi Agarwal</td>\n",
              "      <td>staff attorney</td>\n",
              "      <td>True</td>\n",
              "      <td>NaN</td>\n",
              "      <td>NaN</td>\n",
              "      <td>NaN</td>\n",
              "      <td>NaN</td>\n",
              "      <td>NaN</td>\n",
              "      <td>[{\"institution\" : \"Stanford University\", \"degr...</td>\n",
              "      <td>NaN</td>\n",
              "      <td>[\"criminal justice\", \"democracy &amp; civic engage...</td>\n",
              "      <td>[{\"employer\" : \"federal public defender in San...</td>\n",
              "      <td>[{\"court\" : \"Southern District of Texas\"},\\n{\"...</td>\n",
              "      <td>NaN</td>\n",
              "      <td>NaN</td>\n",
              "    </tr>\n",
              "  </tbody>\n",
              "</table>\n",
              "</div>"
            ],
            "text/plain": [
              "              FileName            AttorneyName  ... note note2\n",
              "0        207legal.html  Andrews Bruce Campbell  ...  NaN   NaN\n",
              "1     1800law1010.html        Alex C. Turnello  ...  NaN   NaN\n",
              "2          aa-law.html           Renee C. Fell  ...  NaN   NaN\n",
              "3  abdurrahmanlaw.html      Mahdi Abdur-Rahman  ...  NaN   NaN\n",
              "4          aclunc.html          Shilpi Agarwal  ...  NaN   NaN\n",
              "\n",
              "[5 rows x 16 columns]"
            ]
          },
          "metadata": {
            "tags": []
          },
          "execution_count": 5
        }
      ]
    },
    {
      "cell_type": "code",
      "metadata": {
        "colab": {
          "base_uri": "https://localhost:8080/"
        },
        "id": "5Vdd68XBmpqm",
        "outputId": "4b292b0c-7304-45fb-c868-b9e433851ad8"
      },
      "source": [
        "train_data.nunique()"
      ],
      "execution_count": null,
      "outputs": [
        {
          "output_type": "execute_result",
          "data": {
            "text/plain": [
              "FileName                 100\n",
              "AttorneyName             146\n",
              "Title                     41\n",
              "Is Attorney                3\n",
              "Employment Start Year     24\n",
              "Phones                    92\n",
              "Fax                       29\n",
              "Locations                 71\n",
              "Email Address             51\n",
              "Education                115\n",
              "Admissions                91\n",
              "Practice Areas            99\n",
              "Prior Employments         39\n",
              "clerkships                13\n",
              "note                       3\n",
              "note2                      1\n",
              "dtype: int64"
            ]
          },
          "metadata": {
            "tags": []
          },
          "execution_count": 8
        }
      ]
    },
    {
      "cell_type": "code",
      "metadata": {
        "id": "Dt4jjfq1nMQi"
      },
      "source": [
        "import transformers\n",
        "from transformers import BertForQuestionAnswering\n",
        "from transformers import BertTokenizer"
      ],
      "execution_count": null,
      "outputs": []
    },
    {
      "cell_type": "code",
      "metadata": {
        "colab": {
          "base_uri": "https://localhost:8080/",
          "height": 267,
          "referenced_widgets": [
            "9d0f6f7b9d65423eaec43a2c234270a1",
            "38e50013ccd444c0b2ae7ebb853aabdd",
            "af47eae2235042c0a0aa400d2a2f01c9",
            "bef8247b65c44f9289f0d21016b640b7",
            "92277720d5184bddb80f4aceadb97d00",
            "b0755fa7b5e042c19f7b03d510b626ca",
            "b9448619f2664a4989d02b480407219a",
            "f1dcdc5db69c4854b4fe5f8d067b8887",
            "da1f25f4162a4be7bbdf3f0b89b7717a",
            "a5bb6c7835e748e194f41bb2e364ff21",
            "65150f3db2cc47a1aab4d8830d2eea72",
            "0cf825bdd577407d9c74dd673959e973",
            "36a5247e265549048d9c7b4acc795b3c",
            "68457695c7b94bf2b2f2c0d1ccabca72",
            "c8825cf32c174c9ea6ab4a60616da4c2",
            "a4b1c46194264d359489088a416e50e4",
            "a78230157cf14088a4c65c14979b8c3f",
            "5f708facc0e245a0893fec5c414972d4",
            "c48297c5970c41999bb0c3763cea3233",
            "00c21bbb546147439075692060b2ef00",
            "efaa87af6b8f46c8abe15a74061190ef",
            "29252d4cbf3740bd82a983505c4c01d4",
            "e2b69952672744088bf1982b58b30588",
            "d3ad156975164fe9b0aaf778e9b2d99b",
            "2565d1dfcf84400099eba094693b5968",
            "96d71780801c4f84b725d07138c901b6",
            "a78a6b947f53499ea66ba5d2552e85f6",
            "51dfa00f89d14772bcc7daa70721448f",
            "2e8987d1b3774592bb774a8d825cc59c",
            "0d0039db3905420cbeb3590340b443fc",
            "f77ca075e3f746b0818aa7a334d0b0e1",
            "636683fd41004647ae15941439f4bf8b",
            "8b124c8ea7f540ce8d8a86721c5a0aaf",
            "7e2d66634ead4379b3fa7b6532427d8a",
            "5afd28583fa04b11ad0421067fbc596a",
            "f7648f14b2934f00a58fee4f3f42b505",
            "fbc87e2e5fde424da07073a58babd81e",
            "e2c3f42d529245238cb561662a7f965c",
            "87c8503f9b514a6eb81f8e5722adc99c",
            "34de182bfdaf42e8847dc038a960b829"
          ]
        },
        "id": "VZe0xJ9isd7R",
        "outputId": "a40e7d65-88d9-42dd-8cb6-39df185afcc2"
      },
      "source": [
        "model = BertForQuestionAnswering.from_pretrained(\"bert-large-uncased-whole-word-masking-finetuned-squad\")\n",
        "tokenizer_for_bert = BertTokenizer.from_pretrained(\"bert-large-uncased-whole-word-masking-finetuned-squad\")"
      ],
      "execution_count": null,
      "outputs": [
        {
          "output_type": "display_data",
          "data": {
            "application/vnd.jupyter.widget-view+json": {
              "model_id": "9d0f6f7b9d65423eaec43a2c234270a1",
              "version_minor": 0,
              "version_major": 2
            },
            "text/plain": [
              "HBox(children=(FloatProgress(value=0.0, description='Downloading', max=443.0, style=ProgressStyle(description_…"
            ]
          },
          "metadata": {
            "tags": []
          }
        },
        {
          "output_type": "stream",
          "text": [
            "\n"
          ],
          "name": "stdout"
        },
        {
          "output_type": "display_data",
          "data": {
            "application/vnd.jupyter.widget-view+json": {
              "model_id": "da1f25f4162a4be7bbdf3f0b89b7717a",
              "version_minor": 0,
              "version_major": 2
            },
            "text/plain": [
              "HBox(children=(FloatProgress(value=0.0, description='Downloading', max=1340675298.0, style=ProgressStyle(descr…"
            ]
          },
          "metadata": {
            "tags": []
          }
        },
        {
          "output_type": "stream",
          "text": [
            "\n"
          ],
          "name": "stdout"
        },
        {
          "output_type": "display_data",
          "data": {
            "application/vnd.jupyter.widget-view+json": {
              "model_id": "a78230157cf14088a4c65c14979b8c3f",
              "version_minor": 0,
              "version_major": 2
            },
            "text/plain": [
              "HBox(children=(FloatProgress(value=0.0, description='Downloading', max=231508.0, style=ProgressStyle(descripti…"
            ]
          },
          "metadata": {
            "tags": []
          }
        },
        {
          "output_type": "stream",
          "text": [
            "\n"
          ],
          "name": "stdout"
        },
        {
          "output_type": "display_data",
          "data": {
            "application/vnd.jupyter.widget-view+json": {
              "model_id": "2565d1dfcf84400099eba094693b5968",
              "version_minor": 0,
              "version_major": 2
            },
            "text/plain": [
              "HBox(children=(FloatProgress(value=0.0, description='Downloading', max=28.0, style=ProgressStyle(description_w…"
            ]
          },
          "metadata": {
            "tags": []
          }
        },
        {
          "output_type": "stream",
          "text": [
            "\n"
          ],
          "name": "stdout"
        },
        {
          "output_type": "display_data",
          "data": {
            "application/vnd.jupyter.widget-view+json": {
              "model_id": "8b124c8ea7f540ce8d8a86721c5a0aaf",
              "version_minor": 0,
              "version_major": 2
            },
            "text/plain": [
              "HBox(children=(FloatProgress(value=0.0, description='Downloading', max=466062.0, style=ProgressStyle(descripti…"
            ]
          },
          "metadata": {
            "tags": []
          }
        },
        {
          "output_type": "stream",
          "text": [
            "\n"
          ],
          "name": "stdout"
        }
      ]
    },
    {
      "cell_type": "code",
      "metadata": {
        "id": "ONW5IWbd08Lk"
      },
      "source": [
        "def bert_answering_machine(question, passage):\n",
        "\n",
        "    #tokenize input question and passage, add special tokens\n",
        "    input_ids = tokenizer_for_bert.encode(question, passage)\n",
        "\n",
        "\n",
        "    cls_index = input_ids.index(102) #index of first SEP token\n",
        "    len_question = cls_index +1 #length of question (sentence 1)\n",
        "    len_answer = len(input_ids) - len_question #length of sentence 2\n",
        "\n",
        "    #segment ids to distinguish between the two sentences\n",
        "    #apply 0 for sentence 1 and apply 1 for sentence 2\n",
        "    segment_ids = [0]*len_question + [1]*len_answer\n",
        "\n",
        "    \n",
        "\n",
        "   #Converting token ids to tokens\n",
        "    tokens = tokenizer_for_bert.convert_ids_to_tokens(input_ids) \n",
        "    \n",
        "    \n",
        "    # getting start and end scores for answer. Converting input arrays to torch tensors before passing to the model\n",
        "    start_token_scores = model(torch.tensor([input_ids]), token_type_ids=torch.tensor([segment_ids]) )[0]\n",
        "    end_token_scores = model(torch.tensor([input_ids]), token_type_ids=torch.tensor([segment_ids]) )[1]\n",
        "\n",
        "    #Converting scores tensors to numpy arrays so that we can use numpy functions\n",
        "    start_token_scores = start_token_scores.detach().numpy().flatten()\n",
        "    end_token_scores = end_token_scores.detach().numpy().flatten()\n",
        "    \n",
        "    #Picking start index and end index of answer based on start/end indices with highest scores\n",
        "    answer_start_index = np.argmax(start_token_scores)\n",
        "    answer_end_index = np.argmax(end_token_scores)\n",
        "\n",
        "    #Getting scores for start token and end token of the answer. Also rounding it to 2 decimal digits\n",
        "    start_token_score = np.round(start_token_scores[answer_start_index], 2)\n",
        "    end_token_score = np.round(end_token_scores[answer_end_index], 2)\n",
        "\n",
        "\n",
        "\n",
        "    answer = tokens[answer_start_index] #Answer starts with start index, we got based on highest score\n",
        "    for i in range(answer_start_index + 1, answer_end_index + 1):\n",
        "        if tokens[i][0:2] == '##':  # Token for a splitted word starts with ##\n",
        "            answer += tokens[i][2:] # If token start with ## we remove ## and combine it with previous word so as to restore the unsplitted word\n",
        "        else:\n",
        "            answer += ' ' + tokens[i]  # If token does not start with ## we just put a space in between while combining tokens\n",
        "            \n",
        "    # Few patterns indicating that BERT does not get answer from the passage for question asked\n",
        "    if ( answer_start_index == 0) or (start_token_score < 0 ) or  (answer == '[SEP]') or ( answer_end_index <  answer_start_index):\n",
        "        answer = \"Sorry!, I could not find  an answer in the passage.\"\n",
        "    \n",
        "    return ( answer_start_index, answer_end_index, start_token_score, end_token_score,  answer)"
      ],
      "execution_count": null,
      "outputs": []
    },
    {
      "cell_type": "code",
      "metadata": {
        "id": "ZvQHJu2noSI6"
      },
      "source": [
        "from bs4 import BeautifulSoup as bs\n",
        "import pandas as pd\n",
        "import requests\n",
        "import time"
      ],
      "execution_count": null,
      "outputs": []
    },
    {
      "cell_type": "markdown",
      "metadata": {
        "id": "OXwgaS1UodPn"
      },
      "source": [
        "Web Scraping"
      ]
    },
    {
      "cell_type": "code",
      "metadata": {
        "colab": {
          "base_uri": "https://localhost:8080/",
          "height": 35
        },
        "id": "4AU_jcF4obYb",
        "outputId": "e4e1ed45-69ad-418f-f74d-1fa3c2b4e4c9"
      },
      "source": [
        "#Onebane Law Firm\n",
        "law_firm_url = \"https://onebane.com\"\n",
        "\n",
        "# Use requests to retrieve data from URL\n",
        "response = requests.get(law_firm_url)\n",
        "\n",
        "# Parse the whole HTML page using BeautifulSoup\n",
        "soup = bs(response.text, 'html.parser')\n",
        "\n",
        "# Title of the parsed page\n",
        "soup.title.text"
      ],
      "execution_count": null,
      "outputs": [
        {
          "output_type": "execute_result",
          "data": {
            "application/vnd.google.colaboratory.intrinsic+json": {
              "type": "string"
            },
            "text/plain": [
              "'Onebane Law Firm'"
            ]
          },
          "metadata": {
            "tags": []
          },
          "execution_count": 38
        }
      ]
    },
    {
      "cell_type": "code",
      "metadata": {
        "id": "kNjUYgF6o6kH"
      },
      "source": [
        "#Karen Daniel Ancelet\n",
        "url = \"https://www.onebane.com/team/karen-ancelet-attorney/\"\n",
        "response = requests.get(url)\n",
        "soup = bs(response.text, 'html.parser')\n"
      ],
      "execution_count": null,
      "outputs": []
    },
    {
      "cell_type": "code",
      "metadata": {
        "id": "bvkz3CmIwoJu"
      },
      "source": [
        "from pprint import pprint"
      ],
      "execution_count": null,
      "outputs": []
    },
    {
      "cell_type": "code",
      "metadata": {
        "colab": {
          "base_uri": "https://localhost:8080/"
        },
        "id": "hkqqTm7hpkrb",
        "outputId": "3035dbae-0e61-4a01-bb8d-506b1bff5edb"
      },
      "source": [
        "attorney_info = soup.find('p').get_text()\n",
        "pprint(attorney_info)\n"
      ],
      "execution_count": null,
      "outputs": [
        {
          "output_type": "stream",
          "text": [
            "('Karen Daniel Ancelet graduated from Louisiana State University in Baton '\n",
            " 'Rouge in 1991. She graduated\\xa0magna cum laude\\xa0with a Bachelor of Arts '\n",
            " 'degree with a focus in history and classical civilization studies. Karen '\n",
            " 'then attended Paul M. Hebert Law School at Louisiana State University in '\n",
            " 'Baton Rouge in 1994 where she graduated\\xa0Order of the Coif.')\n"
          ],
          "name": "stdout"
        }
      ]
    },
    {
      "cell_type": "code",
      "metadata": {
        "colab": {
          "base_uri": "https://localhost:8080/"
        },
        "id": "eABL2lR2wyC5",
        "outputId": "40278915-9317-4470-f4c8-95e15e4321ec"
      },
      "source": [
        "attorney_info = soup.find_all('p')\n",
        "pprint(attorney_info)"
      ],
      "execution_count": null,
      "outputs": [
        {
          "output_type": "stream",
          "text": [
            "[<p style=\"text-align:justify\">Karen Daniel Ancelet graduated from Louisiana State University in Baton Rouge in 1991. She graduated <em>magna cum laude</em> with a Bachelor of Arts degree with a focus in history and classical civilization studies. Karen then attended Paul M. Hebert Law School at Louisiana State University in Baton Rouge in 1994 where she graduated <em>Order of the Coif</em>.</p>,\n",
            " <p style=\"text-align:justify\">Karen has spent her career representing oil and gas companies in a variety of downstream, midstream, and upstream matters. Her experience involves litigating mineral royalty disputes, oil field legacy lawsuits, joint operating agreements, liens, and pipeline servitudes. Karen has filed and managed multiple concursus and interpleader actions involving royalty and lien disputes. Additionally, she has extensive transactional experience preparing various types of royalty agreements, title opinions, leases, assignments, operating agreements, multiple types of gas contracts, along with liens and right of way agreements. In the commercial litigation area, she has handled litigation involving contract disputes, direct and officer liability and antitrust matters.</p>,\n",
            " <p style=\"text-align:justify\">Karen grew up in Roanoke, Louisiana, but graduated high school from the Louisiana School for Math, Science and the Arts in Natchitoches, Louisiana. Karen and her husband, Stuart, are avid LSU Tiger football fans and are raising two children, a daughter, Jackie and a son, Clay.</p>,\n",
            " <p>1200 Camellia Blvd. Suite 300<br/>\n",
            "Lafayette, LA 70508<br/>\n",
            "Email: info@onebane.com<br/>\n",
            "Phone: (337) 237-2660</p>,\n",
            " <p>The information contained herein presents general information about our firm and is not intended to constitute legal advice. Before acting on any of the materials presented here, we advise you to seek legal counsel. </p>,\n",
            " <p>We invite you to contact us and welcome your calls, letters, and e-mail; however, contacting us does not create an attorney-client relationship. Please refrain from sending any confidential information to us until such time as an attorney-client relationship has been established.</p>]\n"
          ],
          "name": "stdout"
        }
      ]
    },
    {
      "cell_type": "code",
      "metadata": {
        "colab": {
          "base_uri": "https://localhost:8080/",
          "height": 71
        },
        "id": "DZLeCmONw_3c",
        "outputId": "1b2b7fdd-6413-4cdc-e46e-55f207c7abfc"
      },
      "source": [
        "attorney_info[1].text"
      ],
      "execution_count": null,
      "outputs": [
        {
          "output_type": "execute_result",
          "data": {
            "application/vnd.google.colaboratory.intrinsic+json": {
              "type": "string"
            },
            "text/plain": [
              "'Karen has spent her career representing oil and gas companies in a variety of downstream, midstream, and upstream matters. Her experience involves litigating mineral royalty disputes, oil field legacy lawsuits, joint operating agreements, liens, and pipeline servitudes. Karen has filed and managed multiple concursus and interpleader actions involving royalty and lien disputes. Additionally, she has extensive transactional experience preparing various types of royalty agreements, title opinions, leases, assignments, operating agreements, multiple types of gas contracts, along with liens and right of way agreements. In the commercial litigation area, she has handled litigation involving contract disputes, direct and officer liability and antitrust matters.'"
            ]
          },
          "metadata": {
            "tags": []
          },
          "execution_count": 66
        }
      ]
    },
    {
      "cell_type": "code",
      "metadata": {
        "id": "CQaL_jEDx2WD"
      },
      "source": [
        "info = []\n",
        "for i in range(len(attorney_info)):\n",
        "    info.append(attorney_info[i].text)"
      ],
      "execution_count": null,
      "outputs": []
    },
    {
      "cell_type": "code",
      "metadata": {
        "colab": {
          "base_uri": "https://localhost:8080/"
        },
        "id": "RnGhW-EYybiS",
        "outputId": "6451c88a-cc41-4201-b460-6ef0e6f784f9"
      },
      "source": [
        "pprint(info)"
      ],
      "execution_count": null,
      "outputs": [
        {
          "output_type": "stream",
          "text": [
            "['Karen Daniel Ancelet graduated from Louisiana State University in Baton '\n",
            " 'Rouge in 1991. She graduated\\xa0magna cum laude\\xa0with a Bachelor of Arts '\n",
            " 'degree with a focus in history and classical civilization studies. Karen '\n",
            " 'then attended Paul M. Hebert Law School at Louisiana State University in '\n",
            " 'Baton Rouge in 1994 where she graduated\\xa0Order of the Coif.',\n",
            " 'Karen has spent her career representing oil and gas companies in a variety '\n",
            " 'of downstream, midstream, and upstream matters. Her experience involves '\n",
            " 'litigating mineral royalty disputes, oil field legacy lawsuits, joint '\n",
            " 'operating agreements, liens, and pipeline servitudes. Karen has filed and '\n",
            " 'managed multiple concursus and interpleader actions involving royalty and '\n",
            " 'lien disputes. Additionally, she has extensive transactional experience '\n",
            " 'preparing various types of royalty agreements, title opinions, leases, '\n",
            " 'assignments, operating agreements, multiple types of gas contracts, along '\n",
            " 'with liens and right of way agreements. In the commercial litigation area, '\n",
            " 'she has handled litigation involving contract disputes, direct and officer '\n",
            " 'liability and antitrust matters.',\n",
            " 'Karen grew up in Roanoke, Louisiana, but graduated high school from the '\n",
            " 'Louisiana School for Math, Science and the Arts in Natchitoches, Louisiana. '\n",
            " 'Karen and her husband, Stuart, are avid LSU Tiger football fans and are '\n",
            " 'raising two children, a daughter, Jackie and a son, Clay.',\n",
            " '1200 Camellia Blvd. Suite 300\\n'\n",
            " 'Lafayette, LA 70508\\n'\n",
            " 'Email: info@onebane.com\\n'\n",
            " 'Phone: (337) 237-2660',\n",
            " 'The information contained herein presents general information about our firm '\n",
            " 'and is not intended to constitute legal advice. Before acting on any of the '\n",
            " 'materials presented here, we advise you to seek legal counsel. ',\n",
            " 'We invite you to contact us and welcome your calls, letters, and e-mail; '\n",
            " 'however, contacting us does not create an attorney-client relationship. '\n",
            " 'Please refrain from sending any confidential information to us until such '\n",
            " 'time as an attorney-client relationship has been established.']\n"
          ],
          "name": "stdout"
        }
      ]
    },
    {
      "cell_type": "code",
      "metadata": {
        "colab": {
          "base_uri": "https://localhost:8080/"
        },
        "id": "0PSP48oBzBDp",
        "outputId": "68ea1ff0-f826-4069-ec4b-c38c9ecb1244"
      },
      "source": [
        "len(info)"
      ],
      "execution_count": null,
      "outputs": [
        {
          "output_type": "execute_result",
          "data": {
            "text/plain": [
              "6"
            ]
          },
          "metadata": {
            "tags": []
          },
          "execution_count": 73
        }
      ]
    },
    {
      "cell_type": "code",
      "metadata": {
        "colab": {
          "base_uri": "https://localhost:8080/"
        },
        "id": "cV7Ic12lyqJG",
        "outputId": "dcdf221f-0471-47c6-e732-0d753ce84123"
      },
      "source": [
        "info = \",\".join(info)\n",
        "pprint(info)"
      ],
      "execution_count": null,
      "outputs": [
        {
          "output_type": "stream",
          "text": [
            "('Karen Daniel Ancelet graduated from Louisiana State University in Baton '\n",
            " 'Rouge in 1991. She graduated\\xa0magna cum laude\\xa0with a Bachelor of Arts '\n",
            " 'degree with a focus in history and classical civilization studies. Karen '\n",
            " 'then attended Paul M. Hebert Law School at Louisiana State University in '\n",
            " 'Baton Rouge in 1994 where she graduated\\xa0Order of the Coif.,Karen has '\n",
            " 'spent her career representing oil and gas companies in a variety of '\n",
            " 'downstream, midstream, and upstream matters. Her experience involves '\n",
            " 'litigating mineral royalty disputes, oil field legacy lawsuits, joint '\n",
            " 'operating agreements, liens, and pipeline servitudes. Karen has filed and '\n",
            " 'managed multiple concursus and interpleader actions involving royalty and '\n",
            " 'lien disputes. Additionally, she has extensive transactional experience '\n",
            " 'preparing various types of royalty agreements, title opinions, leases, '\n",
            " 'assignments, operating agreements, multiple types of gas contracts, along '\n",
            " 'with liens and right of way agreements. In the commercial litigation area, '\n",
            " 'she has handled litigation involving contract disputes, direct and officer '\n",
            " 'liability and antitrust matters.,Karen grew up in Roanoke, Louisiana, but '\n",
            " 'graduated high school from the Louisiana School for Math, Science and the '\n",
            " 'Arts in Natchitoches, Louisiana. Karen and her husband, Stuart, are avid LSU '\n",
            " 'Tiger football fans and are raising two children, a daughter, Jackie and a '\n",
            " 'son, Clay.,1200 Camellia Blvd. Suite 300\\n'\n",
            " 'Lafayette, LA 70508\\n'\n",
            " 'Email: info@onebane.com\\n'\n",
            " 'Phone: (337) 237-2660,The information contained herein presents general '\n",
            " 'information about our firm and is not intended to constitute legal advice. '\n",
            " 'Before acting on any of the materials presented here, we advise you to seek '\n",
            " 'legal counsel. ,We invite you to contact us and welcome your calls, letters, '\n",
            " 'and e-mail; however, contacting us does not create an attorney-client '\n",
            " 'relationship. Please refrain from sending any confidential information to us '\n",
            " 'until such time as an attorney-client relationship has been established.')\n"
          ],
          "name": "stdout"
        }
      ]
    },
    {
      "cell_type": "code",
      "metadata": {
        "colab": {
          "base_uri": "https://localhost:8080/"
        },
        "id": "GeHsmj6iprZk",
        "outputId": "bf033552-e1b4-45f1-f907-e0298744201b"
      },
      "source": [
        "attorney_name = \"Attorney Name?\"\n",
        "_,_,_,_,ans = bert_answering_machine(attorney_name, info)\n",
        "print(ans)"
      ],
      "execution_count": null,
      "outputs": [
        {
          "output_type": "stream",
          "text": [
            "karen daniel ancelet\n"
          ],
          "name": "stdout"
        }
      ]
    },
    {
      "cell_type": "code",
      "metadata": {
        "colab": {
          "base_uri": "https://localhost:8080/"
        },
        "id": "Ip_datl3uAxC",
        "outputId": "01743dfd-25cf-487d-c39a-aa434b65659a"
      },
      "source": [
        "title = f\"What is {attorney_name} title?\"\n",
        "_,_,_,_,ans = bert_answering_machine(title, info)\n",
        "print(ans)"
      ],
      "execution_count": null,
      "outputs": [
        {
          "output_type": "stream",
          "text": [
            "Sorry!, I could not find  an answer in the passage.\n"
          ],
          "name": "stdout"
        }
      ]
    },
    {
      "cell_type": "code",
      "metadata": {
        "colab": {
          "base_uri": "https://localhost:8080/"
        },
        "id": "_IZjxttGttMn",
        "outputId": "8d87346c-9b9f-4f6a-fa31-f3bfe9cf119f"
      },
      "source": [
        "start_year = f\"What year did {attorney_name} start employment?\"\n",
        "ans = bert_answering_machine(start_year, info)\n",
        "print(ans)\n",
        "#1994???"
      ],
      "execution_count": null,
      "outputs": [
        {
          "output_type": "stream",
          "text": [
            "(66, 66, 4.05, 4.69, '1994')\n"
          ],
          "name": "stdout"
        }
      ]
    },
    {
      "cell_type": "code",
      "metadata": {
        "colab": {
          "base_uri": "https://localhost:8080/"
        },
        "id": "pVad4I-OsKy_",
        "outputId": "9a14e7f3-b017-445e-80e0-c508e1e0160b"
      },
      "source": [
        "phone = f\"What is {attorney_name} phone number?\"\n",
        "_,_,_,_,ans = bert_answering_machine(phone, info)\n",
        "print(ans)"
      ],
      "execution_count": null,
      "outputs": [
        {
          "output_type": "stream",
          "text": [
            "( 337 ) 237 - 2660\n"
          ],
          "name": "stdout"
        }
      ]
    },
    {
      "cell_type": "code",
      "metadata": {
        "colab": {
          "base_uri": "https://localhost:8080/"
        },
        "id": "EhsuV-Ud4gT5",
        "outputId": "51753e84-6f8c-435f-c7e2-c647731f6c0f"
      },
      "source": [
        "email = f\"What is {attorney_name} email address?\"\n",
        "_,_,_,_,ans = bert_answering_machine(email, info)\n",
        "print(ans)"
      ],
      "execution_count": null,
      "outputs": [
        {
          "output_type": "stream",
          "text": [
            "info @ onebane . com\n"
          ],
          "name": "stdout"
        }
      ]
    },
    {
      "cell_type": "code",
      "metadata": {
        "colab": {
          "base_uri": "https://localhost:8080/"
        },
        "id": "g9ZTL-6V42ZI",
        "outputId": "ad9f8493-516f-45ab-d66a-6360bc7075d0"
      },
      "source": [
        "physical_address = f\"What is {attorney_name} physical work address?\"\n",
        "_,_,_,_,ans = bert_answering_machine(physical_address, info)\n",
        "print(ans)"
      ],
      "execution_count": null,
      "outputs": [
        {
          "output_type": "stream",
          "text": [
            "1200 camellia blvd . suite 300 lafayette , la 70508\n"
          ],
          "name": "stdout"
        }
      ]
    },
    {
      "cell_type": "code",
      "metadata": {
        "colab": {
          "base_uri": "https://localhost:8080/"
        },
        "id": "VLlCKWTI5MnB",
        "outputId": "408a7385-dba8-417f-a11d-27198b4cbcb5"
      },
      "source": [
        "mailing_address = f\"What is {attorney_name}'s mailing address?\"\n",
        "_,_,_,_,ans = bert_answering_machine(mailing_address, info)\n",
        "print(ans)\n",
        "#incorrect"
      ],
      "execution_count": null,
      "outputs": [
        {
          "output_type": "stream",
          "text": [
            "info @ onebane . com\n"
          ],
          "name": "stdout"
        }
      ]
    },
    {
      "cell_type": "code",
      "metadata": {
        "colab": {
          "base_uri": "https://localhost:8080/"
        },
        "id": "7bA_gQA60813",
        "outputId": "9eccbb69-1bd3-45f3-bddd-5924e43d9f44"
      },
      "source": [
        "undergrad = f\"Where did {attorney_name} attend undergraduate school?\"\n",
        "_,_,_,_,ans = bert_answering_machine(undergrad, info)\n",
        "print(ans)"
      ],
      "execution_count": null,
      "outputs": [
        {
          "output_type": "stream",
          "text": [
            "louisiana state university\n"
          ],
          "name": "stdout"
        }
      ]
    },
    {
      "cell_type": "code",
      "metadata": {
        "colab": {
          "base_uri": "https://localhost:8080/"
        },
        "id": "eQjdZ7lZ2-0G",
        "outputId": "fda034ea-8003-4d72-f7fb-7862bf472764"
      },
      "source": [
        "undergrad_honors = f\"What honors did {attorney_name} receive at {undergrad}?\"\n",
        "_,_,_,_,ans = bert_answering_machine(undergrad_honors, info)\n",
        "print(ans)"
      ],
      "execution_count": null,
      "outputs": [
        {
          "output_type": "stream",
          "text": [
            "Sorry!, I could not find  an answer in the passage.\n"
          ],
          "name": "stdout"
        }
      ]
    },
    {
      "cell_type": "code",
      "metadata": {
        "colab": {
          "base_uri": "https://localhost:8080/"
        },
        "id": "Idic4OQf15ac",
        "outputId": "162d634b-f446-4423-b25a-8f383f973528"
      },
      "source": [
        "law_school = f\"Where did {attorney_name} attend law school?\"\n",
        "_,_,_,_,ans = bert_answering_machine(law_school, info)\n",
        "print(ans)"
      ],
      "execution_count": null,
      "outputs": [
        {
          "output_type": "stream",
          "text": [
            "paul m . hebert\n"
          ],
          "name": "stdout"
        }
      ]
    },
    {
      "cell_type": "code",
      "metadata": {
        "colab": {
          "base_uri": "https://localhost:8080/"
        },
        "id": "MqonObo53smu",
        "outputId": "5f51b22b-7e78-487b-e684-68167bf640c4"
      },
      "source": [
        "grad_honors = f\"What honors did {attorney_name} receive at {law_school}?\"\n",
        "_,_,_,_,ans = bert_answering_machine(grad_honors, info)\n",
        "print(ans)"
      ],
      "execution_count": null,
      "outputs": [
        {
          "output_type": "stream",
          "text": [
            "order of the coif\n"
          ],
          "name": "stdout"
        }
      ]
    },
    {
      "cell_type": "code",
      "metadata": {
        "colab": {
          "base_uri": "https://localhost:8080/"
        },
        "id": "hSZRVDvW1W2I",
        "outputId": "7c727e54-a0f6-49c3-bc56-b953311c3bd8"
      },
      "source": [
        "practice_areas = f\"What are {attorney_name} practice areas?\"\n",
        "_,_,_,_,ans = bert_answering_machine(practice_areas, info)\n",
        "print(ans)\n",
        "#possible correct answer???"
      ],
      "execution_count": null,
      "outputs": [
        {
          "output_type": "stream",
          "text": [
            "commercial litigation area\n"
          ],
          "name": "stdout"
        }
      ]
    },
    {
      "cell_type": "code",
      "metadata": {
        "colab": {
          "base_uri": "https://localhost:8080/"
        },
        "id": "izUm4Bll2SFj",
        "outputId": "83c717d4-4544-4efd-e641-f021cf58f1a7"
      },
      "source": [
        "#Onebane Law Firm\n",
        "law_firm_url = \"https://onebane.com\"\n",
        "\n",
        "# Use requests to retrieve data from URL\n",
        "response = requests.get(law_firm_url)\n",
        "\n",
        "# Parse the whole HTML page using BeautifulSoup\n",
        "soup = bs(response.text, 'html.parser')\n",
        "\n",
        "pprint(soup)"
      ],
      "execution_count": 121,
      "outputs": [
        {
          "output_type": "stream",
          "text": [
            "<!DOCTYPE html>\n",
            "\n",
            "<html lang=\"en-US\">\n",
            "<head>\n",
            "<meta charset=\"utf-8\"/><meta content=\"width=device-width, initial-scale=1.0, minimum-scale=1.0, maximum-scale=1.0, user-scalable=0\" name=\"viewport\"/><meta content=\"IE=edge,chrome=1\" http-equiv=\"X-UA-Compatible\"/><meta content=\"telephone=no\" name=\"format-detection\"/><title>Onebane Law Firm</title>\n",
            "<script type=\"text/javascript\">var ajaxurl = \"https://www.onebane.com/wp-admin/admin-ajax.php\";</script><meta content=\"max-image-preview:large\" name=\"robots\">\n",
            "<style id=\"critical-path-css\" type=\"text/css\">\n",
            "\t\t\tbody,html{width:100%;height:100%;margin:0;padding:0}.page-preloader{top:0;left:0;z-index:999;position:fixed;height:100%;width:100%;text-align:center}.preloader-preview-area{-webkit-animation-delay:-.2s;animation-delay:-.2s;top:50%;-webkit-transform:translateY(100%);-ms-transform:translateY(100%);transform:translateY(100%);margin-top:10px;max-height:calc(50% - 20px);opacity:1;width:100%;text-align:center;position:absolute}.preloader-logo{max-width:90%;top:50%;-webkit-transform:translateY(-100%);-ms-transform:translateY(-100%);transform:translateY(-100%);margin:-10px auto 0 auto;max-height:calc(50% - 20px);opacity:1;position:relative}.ball-pulse>div{width:15px;height:15px;border-radius:100%;margin:2px;-webkit-animation-fill-mode:both;animation-fill-mode:both;display:inline-block;-webkit-animation:ball-pulse .75s infinite cubic-bezier(.2,.68,.18,1.08);animation:ball-pulse .75s infinite cubic-bezier(.2,.68,.18,1.08)}.ball-pulse>div:nth-child(1){-webkit-animation-delay:-.36s;animation-delay:-.36s}.ball-pulse>div:nth-child(2){-webkit-animation-delay:-.24s;animation-delay:-.24s}.ball-pulse>div:nth-child(3){-webkit-animation-delay:-.12s;animation-delay:-.12s}@-webkit-keyframes ball-pulse{0%{-webkit-transform:scale(1);transform:scale(1);opacity:1}45%{-webkit-transform:scale(.1);transform:scale(.1);opacity:.7}80%{-webkit-transform:scale(1);transform:scale(1);opacity:1}}@keyframes ball-pulse{0%{-webkit-transform:scale(1);transform:scale(1);opacity:1}45%{-webkit-transform:scale(.1);transform:scale(.1);opacity:.7}80%{-webkit-transform:scale(1);transform:scale(1);opacity:1}}.ball-clip-rotate-pulse{position:relative;-webkit-transform:translateY(-15px) translateX(-10px);-ms-transform:translateY(-15px) translateX(-10px);transform:translateY(-15px) translateX(-10px);display:inline-block}.ball-clip-rotate-pulse>div{-webkit-animation-fill-mode:both;animation-fill-mode:both;position:absolute;top:0;left:0;border-radius:100%}.ball-clip-rotate-pulse>div:first-child{height:36px;width:36px;top:7px;left:-7px;-webkit-animation:ball-clip-rotate-pulse-scale 1s 0s cubic-bezier(.09,.57,.49,.9) infinite;animation:ball-clip-rotate-pulse-scale 1s 0s cubic-bezier(.09,.57,.49,.9) infinite}.ball-clip-rotate-pulse>div:last-child{position:absolute;width:50px;height:50px;left:-16px;top:-2px;background:0 0;border:2px solid;-webkit-animation:ball-clip-rotate-pulse-rotate 1s 0s cubic-bezier(.09,.57,.49,.9) infinite;animation:ball-clip-rotate-pulse-rotate 1s 0s cubic-bezier(.09,.57,.49,.9) infinite;-webkit-animation-duration:1s;animation-duration:1s}@-webkit-keyframes ball-clip-rotate-pulse-rotate{0%{-webkit-transform:rotate(0) scale(1);transform:rotate(0) scale(1)}50%{-webkit-transform:rotate(180deg) scale(.6);transform:rotate(180deg) scale(.6)}100%{-webkit-transform:rotate(360deg) scale(1);transform:rotate(360deg) scale(1)}}@keyframes ball-clip-rotate-pulse-rotate{0%{-webkit-transform:rotate(0) scale(1);transform:rotate(0) scale(1)}50%{-webkit-transform:rotate(180deg) scale(.6);transform:rotate(180deg) scale(.6)}100%{-webkit-transform:rotate(360deg) scale(1);transform:rotate(360deg) scale(1)}}@-webkit-keyframes ball-clip-rotate-pulse-scale{30%{-webkit-transform:scale(.3);transform:scale(.3)}100%{-webkit-transform:scale(1);transform:scale(1)}}@keyframes ball-clip-rotate-pulse-scale{30%{-webkit-transform:scale(.3);transform:scale(.3)}100%{-webkit-transform:scale(1);transform:scale(1)}}@-webkit-keyframes square-spin{25%{-webkit-transform:perspective(100px) rotateX(180deg) rotateY(0);transform:perspective(100px) rotateX(180deg) rotateY(0)}50%{-webkit-transform:perspective(100px) rotateX(180deg) rotateY(180deg);transform:perspective(100px) rotateX(180deg) rotateY(180deg)}75%{-webkit-transform:perspective(100px) rotateX(0) rotateY(180deg);transform:perspective(100px) rotateX(0) rotateY(180deg)}100%{-webkit-transform:perspective(100px) rotateX(0) rotateY(0);transform:perspective(100px) rotateX(0) rotateY(0)}}@keyframes square-spin{25%{-webkit-transform:perspective(100px) rotateX(180deg) rotateY(0);transform:perspective(100px) rotateX(180deg) rotateY(0)}50%{-webkit-transform:perspective(100px) rotateX(180deg) rotateY(180deg);transform:perspective(100px) rotateX(180deg) rotateY(180deg)}75%{-webkit-transform:perspective(100px) rotateX(0) rotateY(180deg);transform:perspective(100px) rotateX(0) rotateY(180deg)}100%{-webkit-transform:perspective(100px) rotateX(0) rotateY(0);transform:perspective(100px) rotateX(0) rotateY(0)}}.square-spin{display:inline-block}.square-spin>div{-webkit-animation-fill-mode:both;animation-fill-mode:both;width:50px;height:50px;-webkit-animation:square-spin 3s 0s cubic-bezier(.09,.57,.49,.9) infinite;animation:square-spin 3s 0s cubic-bezier(.09,.57,.49,.9) infinite}.cube-transition{position:relative;-webkit-transform:translate(-25px,-25px);-ms-transform:translate(-25px,-25px);transform:translate(-25px,-25px);display:inline-block}.cube-transition>div{-webkit-animation-fill-mode:both;animation-fill-mode:both;width:15px;height:15px;position:absolute;top:-5px;left:-5px;-webkit-animation:cube-transition 1.6s 0s infinite ease-in-out;animation:cube-transition 1.6s 0s infinite ease-in-out}.cube-transition>div:last-child{-webkit-animation-delay:-.8s;animation-delay:-.8s}@-webkit-keyframes cube-transition{25%{-webkit-transform:translateX(50px) scale(.5) rotate(-90deg);transform:translateX(50px) scale(.5) rotate(-90deg)}50%{-webkit-transform:translate(50px,50px) rotate(-180deg);transform:translate(50px,50px) rotate(-180deg)}75%{-webkit-transform:translateY(50px) scale(.5) rotate(-270deg);transform:translateY(50px) scale(.5) rotate(-270deg)}100%{-webkit-transform:rotate(-360deg);transform:rotate(-360deg)}}@keyframes cube-transition{25%{-webkit-transform:translateX(50px) scale(.5) rotate(-90deg);transform:translateX(50px) scale(.5) rotate(-90deg)}50%{-webkit-transform:translate(50px,50px) rotate(-180deg);transform:translate(50px,50px) rotate(-180deg)}75%{-webkit-transform:translateY(50px) scale(.5) rotate(-270deg);transform:translateY(50px) scale(.5) rotate(-270deg)}100%{-webkit-transform:rotate(-360deg);transform:rotate(-360deg)}}.ball-scale>div{border-radius:100%;margin:2px;-webkit-animation-fill-mode:both;animation-fill-mode:both;display:inline-block;height:60px;width:60px;-webkit-animation:ball-scale 1s 0s ease-in-out infinite;animation:ball-scale 1s 0s ease-in-out infinite}@-webkit-keyframes ball-scale{0%{-webkit-transform:scale(0);transform:scale(0)}100%{-webkit-transform:scale(1);transform:scale(1);opacity:0}}@keyframes ball-scale{0%{-webkit-transform:scale(0);transform:scale(0)}100%{-webkit-transform:scale(1);transform:scale(1);opacity:0}}.line-scale>div{-webkit-animation-fill-mode:both;animation-fill-mode:both;display:inline-block;width:5px;height:50px;border-radius:2px;margin:2px}.line-scale>div:nth-child(1){-webkit-animation:line-scale 1s -.5s infinite cubic-bezier(.2,.68,.18,1.08);animation:line-scale 1s -.5s infinite cubic-bezier(.2,.68,.18,1.08)}.line-scale>div:nth-child(2){-webkit-animation:line-scale 1s -.4s infinite cubic-bezier(.2,.68,.18,1.08);animation:line-scale 1s -.4s infinite cubic-bezier(.2,.68,.18,1.08)}.line-scale>div:nth-child(3){-webkit-animation:line-scale 1s -.3s infinite cubic-bezier(.2,.68,.18,1.08);animation:line-scale 1s -.3s infinite cubic-bezier(.2,.68,.18,1.08)}.line-scale>div:nth-child(4){-webkit-animation:line-scale 1s -.2s infinite cubic-bezier(.2,.68,.18,1.08);animation:line-scale 1s -.2s infinite cubic-bezier(.2,.68,.18,1.08)}.line-scale>div:nth-child(5){-webkit-animation:line-scale 1s -.1s infinite cubic-bezier(.2,.68,.18,1.08);animation:line-scale 1s -.1s infinite cubic-bezier(.2,.68,.18,1.08)}@-webkit-keyframes line-scale{0%{-webkit-transform:scaley(1);transform:scaley(1)}50%{-webkit-transform:scaley(.4);transform:scaley(.4)}100%{-webkit-transform:scaley(1);transform:scaley(1)}}@keyframes line-scale{0%{-webkit-transform:scaley(1);transform:scaley(1)}50%{-webkit-transform:scaley(.4);transform:scaley(.4)}100%{-webkit-transform:scaley(1);transform:scaley(1)}}.ball-scale-multiple{position:relative;-webkit-transform:translateY(30px);-ms-transform:translateY(30px);transform:translateY(30px);display:inline-block}.ball-scale-multiple>div{border-radius:100%;-webkit-animation-fill-mode:both;animation-fill-mode:both;margin:2px;position:absolute;left:-30px;top:0;opacity:0;margin:0;width:50px;height:50px;-webkit-animation:ball-scale-multiple 1s 0s linear infinite;animation:ball-scale-multiple 1s 0s linear infinite}.ball-scale-multiple>div:nth-child(2){-webkit-animation-delay:-.2s;animation-delay:-.2s}.ball-scale-multiple>div:nth-child(3){-webkit-animation-delay:-.2s;animation-delay:-.2s}@-webkit-keyframes ball-scale-multiple{0%{-webkit-transform:scale(0);transform:scale(0);opacity:0}5%{opacity:1}100%{-webkit-transform:scale(1);transform:scale(1);opacity:0}}@keyframes ball-scale-multiple{0%{-webkit-transform:scale(0);transform:scale(0);opacity:0}5%{opacity:1}100%{-webkit-transform:scale(1);transform:scale(1);opacity:0}}.ball-pulse-sync{display:inline-block}.ball-pulse-sync>div{width:15px;height:15px;border-radius:100%;margin:2px;-webkit-animation-fill-mode:both;animation-fill-mode:both;display:inline-block}.ball-pulse-sync>div:nth-child(1){-webkit-animation:ball-pulse-sync .6s -.21s infinite ease-in-out;animation:ball-pulse-sync .6s -.21s infinite ease-in-out}.ball-pulse-sync>div:nth-child(2){-webkit-animation:ball-pulse-sync .6s -.14s infinite ease-in-out;animation:ball-pulse-sync .6s -.14s infinite ease-in-out}.ball-pulse-sync>div:nth-child(3){-webkit-animation:ball-pulse-sync .6s -70ms infinite ease-in-out;animation:ball-pulse-sync .6s -70ms infinite ease-in-out}@-webkit-keyframes ball-pulse-sync{33%{-webkit-transform:translateY(10px);transform:translateY(10px)}66%{-webkit-transform:translateY(-10px);transform:translateY(-10px)}100%{-webkit-transform:translateY(0);transform:translateY(0)}}@keyframes ball-pulse-sync{33%{-webkit-transform:translateY(10px);transform:translateY(10px)}66%{-webkit-transform:translateY(-10px);transform:translateY(-10px)}100%{-webkit-transform:translateY(0);transform:translateY(0)}}.transparent-circle{display:inline-block;border-top:.5em solid rgba(255,255,255,.2);border-right:.5em solid rgba(255,255,255,.2);border-bottom:.5em solid rgba(255,255,255,.2);border-left:.5em solid #fff;-webkit-transform:translateZ(0);transform:translateZ(0);-webkit-animation:transparent-circle 1.1s infinite linear;animation:transparent-circle 1.1s infinite linear;width:50px;height:50px;border-radius:50%}.transparent-circle:after{border-radius:50%;width:10em;height:10em}@-webkit-keyframes transparent-circle{0%{-webkit-transform:rotate(0);transform:rotate(0)}100%{-webkit-transform:rotate(360deg);transform:rotate(360deg)}}@keyframes transparent-circle{0%{-webkit-transform:rotate(0);transform:rotate(0)}100%{-webkit-transform:rotate(360deg);transform:rotate(360deg)}}.ball-spin-fade-loader{position:relative;top:-10px;left:-10px;display:inline-block}.ball-spin-fade-loader>div{width:15px;height:15px;border-radius:100%;margin:2px;-webkit-animation-fill-mode:both;animation-fill-mode:both;position:absolute;-webkit-animation:ball-spin-fade-loader 1s infinite linear;animation:ball-spin-fade-loader 1s infinite linear}.ball-spin-fade-loader>div:nth-child(1){top:25px;left:0;animation-delay:-.84s;-webkit-animation-delay:-.84s}.ball-spin-fade-loader>div:nth-child(2){top:17.05px;left:17.05px;animation-delay:-.72s;-webkit-animation-delay:-.72s}.ball-spin-fade-loader>div:nth-child(3){top:0;left:25px;animation-delay:-.6s;-webkit-animation-delay:-.6s}.ball-spin-fade-loader>div:nth-child(4){top:-17.05px;left:17.05px;animation-delay:-.48s;-webkit-animation-delay:-.48s}.ball-spin-fade-loader>div:nth-child(5){top:-25px;left:0;animation-delay:-.36s;-webkit-animation-delay:-.36s}.ball-spin-fade-loader>div:nth-child(6){top:-17.05px;left:-17.05px;animation-delay:-.24s;-webkit-animation-delay:-.24s}.ball-spin-fade-loader>div:nth-child(7){top:0;left:-25px;animation-delay:-.12s;-webkit-animation-delay:-.12s}.ball-spin-fade-loader>div:nth-child(8){top:17.05px;left:-17.05px;animation-delay:0s;-webkit-animation-delay:0s}@-webkit-keyframes ball-spin-fade-loader{50%{opacity:.3;-webkit-transform:scale(.4);transform:scale(.4)}100%{opacity:1;-webkit-transform:scale(1);transform:scale(1)}}@keyframes ball-spin-fade-loader{50%{opacity:.3;-webkit-transform:scale(.4);transform:scale(.4)}100%{opacity:1;-webkit-transform:scale(1);transform:scale(1)}}\t\t</style>\n",
            "<link href=\"//s.w.org\" rel=\"dns-prefetch\"/>\n",
            "<link href=\"https://www.onebane.com/feed/\" rel=\"alternate\" title=\"Onebane Law Firm » Feed\" type=\"application/rss+xml\"/>\n",
            "<link href=\"https://www.onebane.com/comments/feed/\" rel=\"alternate\" title=\"Onebane Law Firm » Comments Feed\" type=\"application/rss+xml\"/>\n",
            "<link href=\"https://www.onebane.com/wp-content/uploads/2019/06/favicon.png\" rel=\"shortcut icon\"/>\n",
            "<script type=\"text/javascript\">window.abb = {};php = {};window.PHP = {};PHP.ajax = \"https://www.onebane.com/wp-admin/admin-ajax.php\";PHP.wp_p_id = \"5233\";var mk_header_parallax, mk_banner_parallax, mk_page_parallax, mk_footer_parallax, mk_body_parallax;var mk_images_dir = \"https://www.onebane.com/wp-content/themes/jupiter/assets/images\",mk_theme_js_path = \"https://www.onebane.com/wp-content/themes/jupiter/assets/js\",mk_theme_dir = \"https://www.onebane.com/wp-content/themes/jupiter\",mk_captcha_placeholder = \"Enter Captcha\",mk_captcha_invalid_txt = \"Invalid. Try again.\",mk_captcha_correct_txt = \"Captcha correct.\",mk_responsive_nav_width = 1140,mk_vertical_header_back = \"Back\",mk_vertical_header_anim = \"1\",mk_check_rtl = true,mk_grid_width = 1140,mk_ajax_search_option = \"disable\",mk_preloader_bg_color = \"#dddddd\",mk_accent_color = \"#29497a\",mk_go_to_top =  \"true\",mk_smooth_scroll =  \"true\",mk_preloader_bar_color = \"#29497a\",mk_preloader_logo = \"https://www.onebane.com/wp-content/uploads/2019/07/onebane-preloader-logo.png\";var mk_header_parallax = false,mk_banner_parallax = false,mk_footer_parallax = false,mk_body_parallax = false,mk_no_more_posts = \"No More Posts\",mk_typekit_id   = \"\",mk_google_fonts = [\"Koulen:100italic,200italic,300italic,400italic,500italic,600italic,700italic,800italic,900italic,100,200,300,400,500,600,700,800,900\"],mk_global_lazyload = true;</script><link href=\"https://www.onebane.com/wp-includes/css/dist/block-library/style.min.css?ver=5.7\" id=\"wp-block-library-css\" media=\"all\" rel=\"stylesheet\" type=\"text/css\"/>\n",
            "<link href=\"https://www.onebane.com/wp-includes/css/dist/block-library/theme.min.css?ver=5.7\" id=\"wp-block-library-theme-css\" media=\"all\" rel=\"stylesheet\" type=\"text/css\"/>\n",
            "<link href=\"https://www.onebane.com/wp-content/themes/jupiter/assets/stylesheet/min/full-styles.6.2.0.css?ver=1560960268\" id=\"theme-styles-css\" media=\"all\" rel=\"stylesheet\" type=\"text/css\"/>\n",
            "<style id=\"theme-styles-inline-css\" type=\"text/css\">\n",
            "body { background-color:#fff; } .hb-custom-header #mk-page-introduce, .mk-header { background-color:#ffffff; } .hb-custom-header > div, .mk-header-bg { background-color:#ffffff; } .mk-classic-nav-bg { background-color:#ffffff; } .master-holder-bg { background-color:#fff; } #mk-footer { background-color:#2d2d2d; } #mk-boxed-layout { -webkit-box-shadow:0 0 0px rgba(0, 0, 0, 0); -moz-box-shadow:0 0 0px rgba(0, 0, 0, 0); box-shadow:0 0 0px rgba(0, 0, 0, 0); } .mk-news-tab .mk-tabs-tabs .is-active a, .mk-fancy-title.pattern-style span, .mk-fancy-title.pattern-style.color-gradient span:after, .page-bg-color { background-color:#fff; } .page-title { font-size:20px; color:; text-transform:uppercase; font-weight:inherit; letter-spacing:2px; } .page-subtitle { font-size:14px; line-height:100%; color:; font-size:14px; text-transform:none; } .mk-header.sticky-style-fixed.a-sticky .mk-header-holder{ border-bottom:1px solid #eeeeee; } body, h2, .main-navigation-ul, .mk-vm-menuwrapper { font-family:Koulen } @font-face { font-family:'star'; src:url('https://www.onebane.com/wp-content/themes/jupiter/assets/stylesheet/fonts/star/font.eot'); src:url('https://www.onebane.com/wp-content/themes/jupiter/assets/stylesheet/fonts/star/font.eot?#iefix') format('embedded-opentype'), url('https://www.onebane.com/wp-content/themes/jupiter/assets/stylesheet/fonts/star/font.woff') format('woff'), url('https://www.onebane.com/wp-content/themes/jupiter/assets/stylesheet/fonts/star/font.ttf') format('truetype'), url('https://www.onebane.com/wp-content/themes/jupiter/assets/stylesheet/fonts/star/font.svg#star') format('svg'); font-weight:normal; font-style:normal; } @font-face { font-family:'WooCommerce'; src:url('https://www.onebane.com/wp-content/themes/jupiter/assets/stylesheet/fonts/woocommerce/font.eot'); src:url('https://www.onebane.com/wp-content/themes/jupiter/assets/stylesheet/fonts/woocommerce/font.eot?#iefix') format('embedded-opentype'), url('https://www.onebane.com/wp-content/themes/jupiter/assets/stylesheet/fonts/woocommerce/font.woff') format('woff'), url('https://www.onebane.com/wp-content/themes/jupiter/assets/stylesheet/fonts/woocommerce/font.ttf') format('truetype'), url('https://www.onebane.com/wp-content/themes/jupiter/assets/stylesheet/fonts/woocommerce/font.svg#WooCommerce') format('svg'); font-weight:normal; font-style:normal; }\n",
            "</style>\n",
            "<link href=\"https://www.onebane.com/wp-content/themes/jupiter/header-builder/includes/assets/css/mkhb-render.css?ver=6.2.0\" id=\"mkhb-render-css\" media=\"all\" rel=\"stylesheet\" type=\"text/css\"/>\n",
            "<link href=\"https://www.onebane.com/wp-content/themes/jupiter/header-builder/includes/assets/css/mkhb-row.css?ver=6.2.0\" id=\"mkhb-row-css\" media=\"all\" rel=\"stylesheet\" type=\"text/css\"/>\n",
            "<link href=\"https://www.onebane.com/wp-content/themes/jupiter/header-builder/includes/assets/css/mkhb-column.css?ver=6.2.0\" id=\"mkhb-column-css\" media=\"all\" rel=\"stylesheet\" type=\"text/css\"/>\n",
            "<!--[if lt IE 9]>\n",
            "<link rel='stylesheet' id='vc_lte_ie9-css'  href='https://www.onebane.com/wp-content/plugins/js_composer_theme/assets/css/vc_lte_ie9.min.css?ver=6.0.3' type='text/css' media='screen' />\n",
            "<![endif]-->\n",
            "<link href=\"https://www.onebane.com/wp-content/plugins/js_composer_theme/assets/css/js_composer.min.css?ver=6.0.3\" id=\"js_composer_front-css\" media=\"all\" rel=\"stylesheet\" type=\"text/css\"/>\n",
            "<style id=\"js_composer_front-inline-css\" type=\"text/css\">\n",
            ".vc_custom_1562427800870{padding-top: 0px !important;padding-right: 0px !important;padding-bottom: 0px !important;padding-left: 0px !important;}.vc_custom_1562428066083{background-color: #29497a !important;}.vc_custom_1568130580084{margin-bottom: 0px !important;}\n",
            "</style>\n",
            "<link href=\"https://www.onebane.com/wp-content/uploads/mk_assets/theme-options-production-1615499617.css?ver=1615499611\" id=\"theme-options-css\" media=\"all\" rel=\"stylesheet\" type=\"text/css\"/>\n",
            "<script id=\"mk-webfontloader-js\" src=\"https://www.onebane.com/wp-content/themes/jupiter/assets/js/plugins/wp-enqueue/webfontloader.js?ver=5.7\" type=\"text/javascript\"></script>\n",
            "<script id=\"mk-webfontloader-js-after\" type=\"text/javascript\">\n",
            "WebFontConfig = {\n",
            "\ttimeout: 2000\n",
            "}\n",
            "\n",
            "if ( mk_typekit_id.length > 0 ) {\n",
            "\tWebFontConfig.typekit = {\n",
            "\t\tid: mk_typekit_id\n",
            "\t}\n",
            "}\n",
            "\n",
            "if ( mk_google_fonts.length > 0 ) {\n",
            "\tWebFontConfig.google = {\n",
            "\t\tfamilies:  mk_google_fonts\n",
            "\t}\n",
            "}\n",
            "\n",
            "if ( (mk_google_fonts.length > 0 || mk_typekit_id.length > 0) && navigator.userAgent.indexOf(\"Speed Insights\") == -1) {\n",
            "\tWebFont.load( WebFontConfig );\n",
            "}\n",
            "\t\t\n",
            "</script>\n",
            "<script id=\"jquery-core-js\" src=\"https://www.onebane.com/wp-includes/js/jquery/jquery.min.js?ver=3.5.1\" type=\"text/javascript\"></script>\n",
            "<script id=\"jquery-migrate-js\" src=\"https://www.onebane.com/wp-includes/js/jquery/jquery-migrate.min.js?ver=3.3.2\" type=\"text/javascript\"></script>\n",
            "<link href=\"https://www.onebane.com/wp-json/\" rel=\"https://api.w.org/\"/><link href=\"https://www.onebane.com/wp-json/wp/v2/pages/5233\" rel=\"alternate\" type=\"application/json\"/><link href=\"https://www.onebane.com/xmlrpc.php?rsd\" rel=\"EditURI\" title=\"RSD\" type=\"application/rsd+xml\"/>\n",
            "<link href=\"https://www.onebane.com/wp-includes/wlwmanifest.xml\" rel=\"wlwmanifest\" type=\"application/wlwmanifest+xml\"/>\n",
            "<meta content=\"WordPress 5.7\" name=\"generator\"/>\n",
            "<link href=\"https://www.onebane.com/\" rel=\"canonical\"/>\n",
            "<link href=\"https://www.onebane.com/\" rel=\"shortlink\"/>\n",
            "<link href=\"https://www.onebane.com/wp-json/oembed/1.0/embed?url=https%3A%2F%2Fwww.onebane.com%2F\" rel=\"alternate\" type=\"application/json+oembed\"/>\n",
            "<link href=\"https://www.onebane.com/wp-json/oembed/1.0/embed?url=https%3A%2F%2Fwww.onebane.com%2F&amp;format=xml\" rel=\"alternate\" type=\"text/xml+oembed\"/>\n",
            "<script> var isTest = false; </script><meta content=\"\" itemprop=\"author\"/><meta content=\"April 23, 2015\" itemprop=\"datePublished\"/><meta content=\"July 13, 2020\" itemprop=\"dateModified\"/><meta content=\"Onebane Law Firm\" itemprop=\"publisher\"/><meta content=\"Powered by WPBakery Page Builder - drag and drop page builder for WordPress.\" name=\"generator\"/>\n",
            "<link href=\"https://www.onebane.com/wp-content/uploads/2019/06/cropped-favicon-32x32.png\" rel=\"icon\" sizes=\"32x32\"/>\n",
            "<link href=\"https://www.onebane.com/wp-content/uploads/2019/06/cropped-favicon-192x192.png\" rel=\"icon\" sizes=\"192x192\"/>\n",
            "<link href=\"https://www.onebane.com/wp-content/uploads/2019/06/cropped-favicon-180x180.png\" rel=\"apple-touch-icon\"/>\n",
            "<meta content=\"https://www.onebane.com/wp-content/uploads/2019/06/cropped-favicon-270x270.png\" name=\"msapplication-TileImage\"/>\n",
            "<style id=\"wp-custom-css\" type=\"text/css\">\n",
            "\t\t\t\n",
            "\n",
            "@media only screen and (min-width: 1140px) {\n",
            "\tul.sub-menu {width:600px;}\n",
            "\t.sub-menu li a.menu-item-link {width:260px !important; float:left;}\n",
            "\t.sub-menu li {float:left; min-height:0px !important; }\n",
            "\n",
            "\t.sub-menu li:nth-child(odd):last-child, .sub-menu li:nth-child(odd):last-child a.menu-item-link {\n",
            "\t\tfloat: right;\n",
            "\t}\n",
            "\t.sub-menu li {min-height:40px;}\n",
            "}\t\t</style>\n",
            "<meta content=\"Jupiter 6.2.0\" name=\"generator\"/><noscript><style> .wpb_animate_when_almost_visible { opacity: 1; }</style></noscript> </meta></head>\n",
            "<body class=\"home page-template-default page page-id-5233 wpb-js-composer js-comp-ver-6.0.3 vc_responsive\" data-adminbar=\"\" itemscope=\"itemscope\" itemtype=\"https://schema.org/WebPage\">\n",
            "<div class=\"mk-body-loader-overlay page-preloader\" style=\"background-color:#dddddd;\"><img alt=\"Onebane Law Firm\" class=\"preloader-logo\" height=\"321\" src=\"https://www.onebane.com/wp-content/uploads/2019/07/onebane-preloader-logo.png\" width=\"500\"/> <div class=\"preloader-preview-area\"> <div class=\"ball-scale-multiple\">\n",
            "<div style=\"background-color: #898989\"></div>\n",
            "<div style=\"background-color: #898989\"></div>\n",
            "<div style=\"background-color: #898989\"></div>\n",
            "</div> </div></div>\n",
            "<!-- Target for scroll anchors to achieve native browser bahaviour + possible enhancements like smooth scrolling -->\n",
            "<div id=\"top-of-page\"></div>\n",
            "<div id=\"mk-boxed-layout\">\n",
            "<div class=\"trans-header\" id=\"mk-theme-container\">\n",
            "<header class=\"mk-header header-style-1 header-align-left toolbar-false menu-hover-2 sticky-style-fixed mk-background-stretch boxed-header transparent-header light-skin bg-false\" data-header-style=\"1\" data-height=\"120\" data-responsive-height=\"90\" data-sticky-height=\"70\" data-sticky-offset=\"header\" data-sticky-style=\"fixed\" data-transparent-skin=\"light\" id=\"mk-header-1\" itemscope=\"itemscope\" itemtype=\"https://schema.org/WPHeader\" role=\"banner\">\n",
            "<div class=\"mk-header-holder\">\n",
            "<div class=\"mk-header-inner add-header-height\">\n",
            "<div class=\"mk-header-bg \"></div>\n",
            "<div class=\"mk-grid header-grid\">\n",
            "<div class=\"mk-header-nav-container one-row-style menu-hover-style-2\" itemscope=\"itemscope\" itemtype=\"https://schema.org/SiteNavigationElement\" role=\"navigation\">\n",
            "<nav class=\"mk-main-navigation js-main-nav\"><ul class=\"main-navigation-ul\" id=\"menu-main-menu\"><li class=\"menu-item menu-item-type-post_type menu-item-object-page menu-item-home current-menu-item page_item page-item-5233 current_page_item no-mega-menu\" id=\"menu-item-5460\"><a class=\"menu-item-link js-smooth-scroll\" href=\"https://www.onebane.com/\">Home</a></li>\n",
            "<li class=\"menu-item menu-item-type-custom menu-item-object-custom menu-item-has-children no-mega-menu\" id=\"menu-item-6271\"><a class=\"menu-item-link js-smooth-scroll\" href=\"#\">Attorneys</a>\n",
            "<ul class=\"sub-menu \" style=\"\">\n",
            "<li class=\"menu-item menu-item-type-post_type menu-item-object-employees\" id=\"menu-item-6278\"><a class=\"menu-item-link js-smooth-scroll\" href=\"https://www.onebane.com/team/gregory-moroux-attorney/\">Gregory K. Moroux</a></li>\n",
            "<li class=\"menu-item menu-item-type-post_type menu-item-object-employees\" id=\"menu-item-6282\"><a class=\"menu-item-link js-smooth-scroll\" href=\"https://www.onebane.com/team/karen-ancelet-attorney/\">Karen Daniel Ancelet</a></li>\n",
            "<li class=\"menu-item menu-item-type-post_type menu-item-object-employees\" id=\"menu-item-6279\"><a class=\"menu-item-link js-smooth-scroll\" href=\"https://www.onebane.com/team/james-bayard-attorney/\">James D. Bayard</a></li>\n",
            "<li class=\"menu-item menu-item-type-post_type menu-item-object-employees\" id=\"menu-item-6285\"><a class=\"menu-item-link js-smooth-scroll\" href=\"https://www.onebane.com/team/michael-durand-attorney/\">Michael G. Durand</a></li>\n",
            "<li class=\"menu-item menu-item-type-post_type menu-item-object-employees\" id=\"menu-item-6287\"><a class=\"menu-item-link js-smooth-scroll\" href=\"https://www.onebane.com/team/richard-petre-attorney/\">Richard J. Petre, Jr.</a></li>\n",
            "<li class=\"menu-item menu-item-type-post_type menu-item-object-employees\" id=\"menu-item-6273\"><a class=\"menu-item-link js-smooth-scroll\" href=\"https://www.onebane.com/team/christopher-peyton-attorney/\">Christopher J. Peyton</a></li>\n",
            "<li class=\"menu-item menu-item-type-post_type menu-item-object-employees\" id=\"menu-item-6288\"><a class=\"menu-item-link js-smooth-scroll\" href=\"https://www.onebane.com/team/roger-ishee-attorney/\">Roger E. Ishee</a></li>\n",
            "<li class=\"menu-item menu-item-type-post_type menu-item-object-employees\" id=\"menu-item-6274\"><a class=\"menu-item-link js-smooth-scroll\" href=\"https://www.onebane.com/team/craig-ryan-attorney/\">Craig A. Ryan</a></li>\n",
            "<li class=\"menu-item menu-item-type-post_type menu-item-object-employees\" id=\"menu-item-6292\"><a class=\"menu-item-link js-smooth-scroll\" href=\"https://www.onebane.com/team/william-kellner-attorney/\">William E. Kellner</a></li>\n",
            "<li class=\"menu-item menu-item-type-post_type menu-item-object-employees\" id=\"menu-item-6280\"><a class=\"menu-item-link js-smooth-scroll\" href=\"https://www.onebane.com/team/jeremy-shealy-attorney/\">Jeremy B. Shealy</a></li>\n",
            "<li class=\"menu-item menu-item-type-post_type menu-item-object-employees\" id=\"menu-item-6289\"><a class=\"menu-item-link js-smooth-scroll\" href=\"https://www.onebane.com/team/steven-lanza-attorney/\">Steven C. Lanza</a></li>\n",
            "<li class=\"menu-item menu-item-type-post_type menu-item-object-employees\" id=\"menu-item-6291\"><a class=\"menu-item-link js-smooth-scroll\" href=\"https://www.onebane.com/team/thomas-smart-attorney/\">Thomas G. Smart</a></li>\n",
            "<li class=\"menu-item menu-item-type-post_type menu-item-object-employees\" id=\"menu-item-6284\"><a class=\"menu-item-link js-smooth-scroll\" href=\"https://www.onebane.com/team/lawrence-lewis-attorney/\">Lawrence L. Lewis III</a></li>\n",
            "<li class=\"menu-item menu-item-type-post_type menu-item-object-employees\" id=\"menu-item-6290\"><a class=\"menu-item-link js-smooth-scroll\" href=\"https://www.onebane.com/team/sue-mann-attorney/\">Sue “Sudie” Tannehill Mann</a></li>\n",
            "<li class=\"menu-item menu-item-type-post_type menu-item-object-employees\" id=\"menu-item-6275\"><a class=\"menu-item-link js-smooth-scroll\" href=\"https://www.onebane.com/team/douglas-truxillo-attorney/\">Douglas W. Truxillo</a></li>\n",
            "<li class=\"menu-item menu-item-type-post_type menu-item-object-employees\" id=\"menu-item-6276\"><a class=\"menu-item-link js-smooth-scroll\" href=\"https://www.onebane.com/team/emily-breaux-attorney/\">Emily B. Wright</a></li>\n",
            "</ul>\n",
            "</li>\n",
            "<li class=\"menu-item menu-item-type-custom menu-item-object-custom menu-item-has-children no-mega-menu\" id=\"menu-item-5797\"><a class=\"menu-item-link js-smooth-scroll\" href=\"#\">Practice Areas</a>\n",
            "<ul class=\"sub-menu \" style=\"\">\n",
            "<li class=\"menu-item menu-item-type-post_type menu-item-object-page\" id=\"menu-item-5459\"><a class=\"menu-item-link js-smooth-scroll\" href=\"https://www.onebane.com/admiralty-maritime-lawyer-louisiana-3/\">Admiralty and Maritime</a></li>\n",
            "<li class=\"menu-item menu-item-type-post_type menu-item-object-page\" id=\"menu-item-5981\"><a class=\"menu-item-link js-smooth-scroll\" href=\"https://www.onebane.com/estate-planning-probate-taxation-lawyer-louisiana/\">Estate Planning, Probate and Taxation</a></li>\n",
            "<li class=\"menu-item menu-item-type-post_type menu-item-object-page\" id=\"menu-item-5972\"><a class=\"menu-item-link js-smooth-scroll\" href=\"https://www.onebane.com/alternative-dispute-resolution-lawyer-louisiana/\">Alternative Dispute Resolution</a></li>\n",
            "<li class=\"menu-item menu-item-type-post_type menu-item-object-page\" id=\"menu-item-5982\"><a class=\"menu-item-link js-smooth-scroll\" href=\"https://www.onebane.com/family-law-lawyer-louisiana/\">Family Law</a></li>\n",
            "<li class=\"menu-item menu-item-type-post_type menu-item-object-page\" id=\"menu-item-5973\"><a class=\"menu-item-link js-smooth-scroll\" href=\"https://www.onebane.com/appellate-practice-lawyer-louisiana/\">Appellate Practice</a></li>\n",
            "<li class=\"menu-item menu-item-type-post_type menu-item-object-page\" id=\"menu-item-5983\"><a class=\"menu-item-link js-smooth-scroll\" href=\"https://www.onebane.com/health-care-lawyer-louisiana/\">Health Care</a></li>\n",
            "<li class=\"menu-item menu-item-type-post_type menu-item-object-page\" id=\"menu-item-5974\"><a class=\"menu-item-link js-smooth-scroll\" href=\"https://www.onebane.com/bankruptcy-creditors-rights-lawyer-louisiana/\">Bankruptcy and Creditors’ Rights</a></li>\n",
            "<li class=\"menu-item menu-item-type-post_type menu-item-object-page\" id=\"menu-item-5984\"><a class=\"menu-item-link js-smooth-scroll\" href=\"https://www.onebane.com/insurance-coverage-bad-faith-lawyer-louisiana/\">Insurance Coverage and Bad Faith</a></li>\n",
            "<li class=\"menu-item menu-item-type-post_type menu-item-object-page\" id=\"menu-item-5975\"><a class=\"menu-item-link js-smooth-scroll\" href=\"https://www.onebane.com/business-commercial-lawyer-louisiana/\">Business and Commercial</a></li>\n",
            "<li class=\"menu-item menu-item-type-post_type menu-item-object-page\" id=\"menu-item-5985\"><a class=\"menu-item-link js-smooth-scroll\" href=\"https://www.onebane.com/lawyer-lawsuits-oilfield-contamination-lawyer-louisiana/\">Legacy Lawsuits and Oilfield Contamination</a></li>\n",
            "<li class=\"menu-item menu-item-type-post_type menu-item-object-page\" id=\"menu-item-6112\"><a class=\"menu-item-link js-smooth-scroll\" href=\"https://www.onebane.com/civil-rights-litigation-louisiana/\">Civil Rights Litigation</a></li>\n",
            "<li class=\"menu-item menu-item-type-post_type menu-item-object-page\" id=\"menu-item-5986\"><a class=\"menu-item-link js-smooth-scroll\" href=\"https://www.onebane.com/mergers-acquisitions-lawyer-louisiana/\">Mergers and Acquisitions</a></li>\n",
            "<li class=\"menu-item menu-item-type-post_type menu-item-object-page\" id=\"menu-item-5976\"><a class=\"menu-item-link js-smooth-scroll\" href=\"https://www.onebane.com/commercial-transactions-lending-lawyer-louisiana/\">Commercial Transactions and Lending</a></li>\n",
            "<li class=\"menu-item menu-item-type-post_type menu-item-object-page\" id=\"menu-item-5987\"><a class=\"menu-item-link js-smooth-scroll\" href=\"https://www.onebane.com/oil-gas-lawyer-louisiana/\">Oil and Gas</a></li>\n",
            "<li class=\"menu-item menu-item-type-post_type menu-item-object-page\" id=\"menu-item-5988\"><a class=\"menu-item-link js-smooth-scroll\" href=\"https://www.onebane.com/oil-gas-finance-lending-lawyer-louisiana/\">Oil &amp; Gas Finance and Lending</a></li>\n",
            "<li class=\"menu-item menu-item-type-post_type menu-item-object-page\" id=\"menu-item-5977\"><a class=\"menu-item-link js-smooth-scroll\" href=\"https://www.onebane.com/construction-lawyer-louisiana/\">Construction</a></li>\n",
            "<li class=\"menu-item menu-item-type-custom menu-item-object-custom\" id=\"menu-item-6166\"><a class=\"menu-item-link js-smooth-scroll\" href=\"https://solatitle.com/\">Real Estate Law</a></li>\n",
            "<li class=\"menu-item menu-item-type-post_type menu-item-object-page\" id=\"menu-item-5978\"><a class=\"menu-item-link js-smooth-scroll\" href=\"https://www.onebane.com/elder-special-needs-law-lawyer-louisiana/\">Elder and Special Needs Law</a></li>\n",
            "<li class=\"menu-item menu-item-type-post_type menu-item-object-page\" id=\"menu-item-5989\"><a class=\"menu-item-link js-smooth-scroll\" href=\"https://www.onebane.com/trial-practice-lawyer-louisiana/\">Trial Practice</a></li>\n",
            "<li class=\"menu-item menu-item-type-post_type menu-item-object-page\" id=\"menu-item-5979\"><a class=\"menu-item-link js-smooth-scroll\" href=\"https://www.onebane.com/employment-law-lawyer-louisiana/\">Employment Law</a></li>\n",
            "<li class=\"menu-item menu-item-type-post_type menu-item-object-page\" id=\"menu-item-5990\"><a class=\"menu-item-link js-smooth-scroll\" href=\"https://www.onebane.com/workers-compensation-defense-lawyer-louisiana/\">Workers’ Compensation Defense</a></li>\n",
            "<li class=\"menu-item menu-item-type-post_type menu-item-object-page\" id=\"menu-item-5980\"><a class=\"menu-item-link js-smooth-scroll\" href=\"https://www.onebane.com/environmental-law-lawyer-louisiana/\">Environmental Law</a></li>\n",
            "</ul>\n",
            "</li>\n",
            "<li class=\"menu-item menu-item-type-post_type menu-item-object-page no-mega-menu\" id=\"menu-item-6238\"><a class=\"menu-item-link js-smooth-scroll\" href=\"https://www.onebane.com/blog/blog-grid-one-column/\">News</a></li>\n",
            "<li class=\"menu-item menu-item-type-post_type menu-item-object-page no-mega-menu\" id=\"menu-item-6101\"><a class=\"menu-item-link js-smooth-scroll\" href=\"https://www.onebane.com/employment-opportunities/\">Employment</a></li>\n",
            "<li class=\"menu-item menu-item-type-custom menu-item-object-custom current-menu-item current_page_item no-mega-menu\" id=\"menu-item-6294\"><a class=\"menu-item-link js-smooth-scroll\" href=\"/#anchor\">Contact</a></li>\n",
            "</ul></nav> </div>\n",
            "<div class=\"mk-nav-responsive-link\">\n",
            "<div class=\"mk-css-icon-menu\">\n",
            "<div class=\"mk-css-icon-menu-line-1\"></div>\n",
            "<div class=\"mk-css-icon-menu-line-2\"></div>\n",
            "<div class=\"mk-css-icon-menu-line-3\"></div>\n",
            "</div>\n",
            "</div> <div class=\" header-logo fit-logo-img add-header-height logo-has-sticky\">\n",
            "<a href=\"https://www.onebane.com/\" title=\"Onebane Law Firm\">\n",
            "<img alt=\"\" class=\"mk-desktop-logo dark-logo \" src=\"https://www.onebane.com/wp-content/uploads/2019/07/onebane-main-logo.png\" title=\"\">\n",
            "<img alt=\"\" class=\"mk-desktop-logo light-logo \" src=\"https://www.onebane.com/wp-content/uploads/2019/07/onebane-logo-white.png\" title=\"\"/>\n",
            "<img alt=\"\" class=\"mk-sticky-logo \" src=\"https://www.onebane.com/wp-content/uploads/2019/07/onebane-square-logo.png\" title=\"\"/>\n",
            "</img></a>\n",
            "</div>\n",
            "</div>\n",
            "<div class=\"mk-header-right\">\n",
            "</div>\n",
            "</div>\n",
            "<div class=\"mk-responsive-wrap\">\n",
            "<nav class=\"menu-main-menu-container\"><ul class=\"mk-responsive-nav\" id=\"menu-main-menu-1\"><li class=\"menu-item menu-item-type-post_type menu-item-object-page menu-item-home current-menu-item page_item page-item-5233 current_page_item\" id=\"responsive-menu-item-5460\"><a class=\"menu-item-link js-smooth-scroll\" href=\"https://www.onebane.com/\">Home</a></li>\n",
            "<li class=\"menu-item menu-item-type-custom menu-item-object-custom menu-item-has-children\" id=\"responsive-menu-item-6271\"><a class=\"menu-item-link js-smooth-scroll\" href=\"#\">Attorneys</a><span class=\"mk-nav-arrow mk-nav-sub-closed\"><svg class=\"mk-svg-icon\" data-cacheid=\"icon-60719d3a6aa2b\" data-name=\"mk-moon-arrow-down\" style=\" height:16px; width: 16px; \" viewbox=\"0 0 512 512\" xmlns=\"http://www.w3.org/2000/svg\"><path d=\"M512 192l-96-96-160 160-160-160-96 96 256 255.999z\"></path></svg></span>\n",
            "<ul class=\"sub-menu \">\n",
            "<li class=\"menu-item menu-item-type-post_type menu-item-object-employees\" id=\"responsive-menu-item-6278\"><a class=\"menu-item-link js-smooth-scroll\" href=\"https://www.onebane.com/team/gregory-moroux-attorney/\">Gregory K. Moroux</a></li>\n",
            "<li class=\"menu-item menu-item-type-post_type menu-item-object-employees\" id=\"responsive-menu-item-6282\"><a class=\"menu-item-link js-smooth-scroll\" href=\"https://www.onebane.com/team/karen-ancelet-attorney/\">Karen Daniel Ancelet</a></li>\n",
            "<li class=\"menu-item menu-item-type-post_type menu-item-object-employees\" id=\"responsive-menu-item-6279\"><a class=\"menu-item-link js-smooth-scroll\" href=\"https://www.onebane.com/team/james-bayard-attorney/\">James D. Bayard</a></li>\n",
            "<li class=\"menu-item menu-item-type-post_type menu-item-object-employees\" id=\"responsive-menu-item-6285\"><a class=\"menu-item-link js-smooth-scroll\" href=\"https://www.onebane.com/team/michael-durand-attorney/\">Michael G. Durand</a></li>\n",
            "<li class=\"menu-item menu-item-type-post_type menu-item-object-employees\" id=\"responsive-menu-item-6287\"><a class=\"menu-item-link js-smooth-scroll\" href=\"https://www.onebane.com/team/richard-petre-attorney/\">Richard J. Petre, Jr.</a></li>\n",
            "<li class=\"menu-item menu-item-type-post_type menu-item-object-employees\" id=\"responsive-menu-item-6273\"><a class=\"menu-item-link js-smooth-scroll\" href=\"https://www.onebane.com/team/christopher-peyton-attorney/\">Christopher J. Peyton</a></li>\n",
            "<li class=\"menu-item menu-item-type-post_type menu-item-object-employees\" id=\"responsive-menu-item-6288\"><a class=\"menu-item-link js-smooth-scroll\" href=\"https://www.onebane.com/team/roger-ishee-attorney/\">Roger E. Ishee</a></li>\n",
            "<li class=\"menu-item menu-item-type-post_type menu-item-object-employees\" id=\"responsive-menu-item-6274\"><a class=\"menu-item-link js-smooth-scroll\" href=\"https://www.onebane.com/team/craig-ryan-attorney/\">Craig A. Ryan</a></li>\n",
            "<li class=\"menu-item menu-item-type-post_type menu-item-object-employees\" id=\"responsive-menu-item-6292\"><a class=\"menu-item-link js-smooth-scroll\" href=\"https://www.onebane.com/team/william-kellner-attorney/\">William E. Kellner</a></li>\n",
            "<li class=\"menu-item menu-item-type-post_type menu-item-object-employees\" id=\"responsive-menu-item-6280\"><a class=\"menu-item-link js-smooth-scroll\" href=\"https://www.onebane.com/team/jeremy-shealy-attorney/\">Jeremy B. Shealy</a></li>\n",
            "<li class=\"menu-item menu-item-type-post_type menu-item-object-employees\" id=\"responsive-menu-item-6289\"><a class=\"menu-item-link js-smooth-scroll\" href=\"https://www.onebane.com/team/steven-lanza-attorney/\">Steven C. Lanza</a></li>\n",
            "<li class=\"menu-item menu-item-type-post_type menu-item-object-employees\" id=\"responsive-menu-item-6291\"><a class=\"menu-item-link js-smooth-scroll\" href=\"https://www.onebane.com/team/thomas-smart-attorney/\">Thomas G. Smart</a></li>\n",
            "<li class=\"menu-item menu-item-type-post_type menu-item-object-employees\" id=\"responsive-menu-item-6284\"><a class=\"menu-item-link js-smooth-scroll\" href=\"https://www.onebane.com/team/lawrence-lewis-attorney/\">Lawrence L. Lewis III</a></li>\n",
            "<li class=\"menu-item menu-item-type-post_type menu-item-object-employees\" id=\"responsive-menu-item-6290\"><a class=\"menu-item-link js-smooth-scroll\" href=\"https://www.onebane.com/team/sue-mann-attorney/\">Sue “Sudie” Tannehill Mann</a></li>\n",
            "<li class=\"menu-item menu-item-type-post_type menu-item-object-employees\" id=\"responsive-menu-item-6275\"><a class=\"menu-item-link js-smooth-scroll\" href=\"https://www.onebane.com/team/douglas-truxillo-attorney/\">Douglas W. Truxillo</a></li>\n",
            "<li class=\"menu-item menu-item-type-post_type menu-item-object-employees\" id=\"responsive-menu-item-6276\"><a class=\"menu-item-link js-smooth-scroll\" href=\"https://www.onebane.com/team/emily-breaux-attorney/\">Emily B. Wright</a></li>\n",
            "</ul>\n",
            "</li>\n",
            "<li class=\"menu-item menu-item-type-custom menu-item-object-custom menu-item-has-children\" id=\"responsive-menu-item-5797\"><a class=\"menu-item-link js-smooth-scroll\" href=\"#\">Practice Areas</a><span class=\"mk-nav-arrow mk-nav-sub-closed\"><svg class=\"mk-svg-icon\" data-cacheid=\"icon-60719d3a6d603\" data-name=\"mk-moon-arrow-down\" style=\" height:16px; width: 16px; \" viewbox=\"0 0 512 512\" xmlns=\"http://www.w3.org/2000/svg\"><path d=\"M512 192l-96-96-160 160-160-160-96 96 256 255.999z\"></path></svg></span>\n",
            "<ul class=\"sub-menu \">\n",
            "<li class=\"menu-item menu-item-type-post_type menu-item-object-page\" id=\"responsive-menu-item-5459\"><a class=\"menu-item-link js-smooth-scroll\" href=\"https://www.onebane.com/admiralty-maritime-lawyer-louisiana-3/\">Admiralty and Maritime</a></li>\n",
            "<li class=\"menu-item menu-item-type-post_type menu-item-object-page\" id=\"responsive-menu-item-5981\"><a class=\"menu-item-link js-smooth-scroll\" href=\"https://www.onebane.com/estate-planning-probate-taxation-lawyer-louisiana/\">Estate Planning, Probate and Taxation</a></li>\n",
            "<li class=\"menu-item menu-item-type-post_type menu-item-object-page\" id=\"responsive-menu-item-5972\"><a class=\"menu-item-link js-smooth-scroll\" href=\"https://www.onebane.com/alternative-dispute-resolution-lawyer-louisiana/\">Alternative Dispute Resolution</a></li>\n",
            "<li class=\"menu-item menu-item-type-post_type menu-item-object-page\" id=\"responsive-menu-item-5982\"><a class=\"menu-item-link js-smooth-scroll\" href=\"https://www.onebane.com/family-law-lawyer-louisiana/\">Family Law</a></li>\n",
            "<li class=\"menu-item menu-item-type-post_type menu-item-object-page\" id=\"responsive-menu-item-5973\"><a class=\"menu-item-link js-smooth-scroll\" href=\"https://www.onebane.com/appellate-practice-lawyer-louisiana/\">Appellate Practice</a></li>\n",
            "<li class=\"menu-item menu-item-type-post_type menu-item-object-page\" id=\"responsive-menu-item-5983\"><a class=\"menu-item-link js-smooth-scroll\" href=\"https://www.onebane.com/health-care-lawyer-louisiana/\">Health Care</a></li>\n",
            "<li class=\"menu-item menu-item-type-post_type menu-item-object-page\" id=\"responsive-menu-item-5974\"><a class=\"menu-item-link js-smooth-scroll\" href=\"https://www.onebane.com/bankruptcy-creditors-rights-lawyer-louisiana/\">Bankruptcy and Creditors’ Rights</a></li>\n",
            "<li class=\"menu-item menu-item-type-post_type menu-item-object-page\" id=\"responsive-menu-item-5984\"><a class=\"menu-item-link js-smooth-scroll\" href=\"https://www.onebane.com/insurance-coverage-bad-faith-lawyer-louisiana/\">Insurance Coverage and Bad Faith</a></li>\n",
            "<li class=\"menu-item menu-item-type-post_type menu-item-object-page\" id=\"responsive-menu-item-5975\"><a class=\"menu-item-link js-smooth-scroll\" href=\"https://www.onebane.com/business-commercial-lawyer-louisiana/\">Business and Commercial</a></li>\n",
            "<li class=\"menu-item menu-item-type-post_type menu-item-object-page\" id=\"responsive-menu-item-5985\"><a class=\"menu-item-link js-smooth-scroll\" href=\"https://www.onebane.com/lawyer-lawsuits-oilfield-contamination-lawyer-louisiana/\">Legacy Lawsuits and Oilfield Contamination</a></li>\n",
            "<li class=\"menu-item menu-item-type-post_type menu-item-object-page\" id=\"responsive-menu-item-6112\"><a class=\"menu-item-link js-smooth-scroll\" href=\"https://www.onebane.com/civil-rights-litigation-louisiana/\">Civil Rights Litigation</a></li>\n",
            "<li class=\"menu-item menu-item-type-post_type menu-item-object-page\" id=\"responsive-menu-item-5986\"><a class=\"menu-item-link js-smooth-scroll\" href=\"https://www.onebane.com/mergers-acquisitions-lawyer-louisiana/\">Mergers and Acquisitions</a></li>\n",
            "<li class=\"menu-item menu-item-type-post_type menu-item-object-page\" id=\"responsive-menu-item-5976\"><a class=\"menu-item-link js-smooth-scroll\" href=\"https://www.onebane.com/commercial-transactions-lending-lawyer-louisiana/\">Commercial Transactions and Lending</a></li>\n",
            "<li class=\"menu-item menu-item-type-post_type menu-item-object-page\" id=\"responsive-menu-item-5987\"><a class=\"menu-item-link js-smooth-scroll\" href=\"https://www.onebane.com/oil-gas-lawyer-louisiana/\">Oil and Gas</a></li>\n",
            "<li class=\"menu-item menu-item-type-post_type menu-item-object-page\" id=\"responsive-menu-item-5988\"><a class=\"menu-item-link js-smooth-scroll\" href=\"https://www.onebane.com/oil-gas-finance-lending-lawyer-louisiana/\">Oil &amp; Gas Finance and Lending</a></li>\n",
            "<li class=\"menu-item menu-item-type-post_type menu-item-object-page\" id=\"responsive-menu-item-5977\"><a class=\"menu-item-link js-smooth-scroll\" href=\"https://www.onebane.com/construction-lawyer-louisiana/\">Construction</a></li>\n",
            "<li class=\"menu-item menu-item-type-custom menu-item-object-custom\" id=\"responsive-menu-item-6166\"><a class=\"menu-item-link js-smooth-scroll\" href=\"https://solatitle.com/\">Real Estate Law</a></li>\n",
            "<li class=\"menu-item menu-item-type-post_type menu-item-object-page\" id=\"responsive-menu-item-5978\"><a class=\"menu-item-link js-smooth-scroll\" href=\"https://www.onebane.com/elder-special-needs-law-lawyer-louisiana/\">Elder and Special Needs Law</a></li>\n",
            "<li class=\"menu-item menu-item-type-post_type menu-item-object-page\" id=\"responsive-menu-item-5989\"><a class=\"menu-item-link js-smooth-scroll\" href=\"https://www.onebane.com/trial-practice-lawyer-louisiana/\">Trial Practice</a></li>\n",
            "<li class=\"menu-item menu-item-type-post_type menu-item-object-page\" id=\"responsive-menu-item-5979\"><a class=\"menu-item-link js-smooth-scroll\" href=\"https://www.onebane.com/employment-law-lawyer-louisiana/\">Employment Law</a></li>\n",
            "<li class=\"menu-item menu-item-type-post_type menu-item-object-page\" id=\"responsive-menu-item-5990\"><a class=\"menu-item-link js-smooth-scroll\" href=\"https://www.onebane.com/workers-compensation-defense-lawyer-louisiana/\">Workers’ Compensation Defense</a></li>\n",
            "<li class=\"menu-item menu-item-type-post_type menu-item-object-page\" id=\"responsive-menu-item-5980\"><a class=\"menu-item-link js-smooth-scroll\" href=\"https://www.onebane.com/environmental-law-lawyer-louisiana/\">Environmental Law</a></li>\n",
            "</ul>\n",
            "</li>\n",
            "<li class=\"menu-item menu-item-type-post_type menu-item-object-page\" id=\"responsive-menu-item-6238\"><a class=\"menu-item-link js-smooth-scroll\" href=\"https://www.onebane.com/blog/blog-grid-one-column/\">News</a></li>\n",
            "<li class=\"menu-item menu-item-type-post_type menu-item-object-page\" id=\"responsive-menu-item-6101\"><a class=\"menu-item-link js-smooth-scroll\" href=\"https://www.onebane.com/employment-opportunities/\">Employment</a></li>\n",
            "<li class=\"menu-item menu-item-type-custom menu-item-object-custom current-menu-item current_page_item\" id=\"responsive-menu-item-6294\"><a class=\"menu-item-link js-smooth-scroll\" href=\"/#anchor\">Contact</a></li>\n",
            "</ul></nav>\n",
            "</div>\n",
            "</div>\n",
            "</header>\n",
            "<div class=\"master-holder clearfix\" id=\"theme-page\" itemscope=\"itemscope\" itemtype=\"https://schema.org/Blog\">\n",
            "<div class=\"master-holder-bg-holder\">\n",
            "<div class=\"master-holder-bg js-el\" id=\"theme-page-bg\"></div>\n",
            "</div>\n",
            "<div class=\"mk-main-wrapper-holder\">\n",
            "<div class=\"theme-page-wrapper mk-main-wrapper mk-grid full-layout no-padding\" id=\"mk-page-id-5233\">\n",
            "<div class=\"theme-content no-padding\" itemprop=\"mainEntityOfPage\">\n",
            "<div class=\"mk-page-section-wrapper\" data-mk-full-width=\"true\" data-mk-full-width-init=\"true\" data-mk-stretch-content=\"true\">\n",
            "<div class=\"mk-page-section self-hosted mk-adaptive-height full_layout full-width-2 js-el js-master-row hidden-sm center-y\" data-intro-effect=\"false\" id=\"page-section-2\">\n",
            "<div class=\"mk-page-section-inner\">\n",
            "<div class=\"mk-video-color-mask\"></div>\n",
            "<div class=\"mk-section-preloader js-el\" data-mk-component=\"Preloader\">\n",
            "<div class=\"mk-section-preloader__icon\"></div>\n",
            "</div>\n",
            "<div class=\"background-layer-holder\">\n",
            "<div class=\"background-layer mk-background-stretch none-blend-effect js-el\" data-mk-component=\"Parallax\" data-mk-img-set='{\"landscape\":{\"desktop\":\"https://www.onebane.com/wp-content/uploads/2019/09/onebane-home-image.jpg\",\"tablet\":\"https://www.onebane.com/wp-content/uploads/2019/09/onebane-home-image-1024x768.jpg\",\"mobile\":\"https://www.onebane.com/wp-content/uploads/2019/09/onebane-home-image-736x414.jpg\"},\"responsive\":\"true\"}' data-mk-lazyload=\"false\" data-parallax-config='{\"speed\" : 0.3 }' id=\"background-layer--2\">\n",
            "<img class=\"mk-adaptive-image mk-background-stretch\" src=\"\" title=\"\"/>\n",
            "<div class=\"mk-color-layer\"></div>\n",
            "</div>\n",
            "</div>\n",
            "</div>\n",
            "<div class=\"page-section-content vc_row-fluid page-section-fullwidth fluid-width-equal-height-columns vertical-align-center\">\n",
            "<div class=\"mk-padding-wrapper wpb_row\">\n",
            "<div class=\"vc_col-sm-12 wpb_column column_container _ height-full\">\n",
            "<div class=\"wpb_row vc_inner vc_row vc_row-fluid attched-false \">\n",
            "<div class=\"wpb_column vc_column_container vc_col-sm-12\"><div class=\"vc_column-inner\"><div class=\"wpb_wrapper\">\n",
            "<div class=\"mk-padding-divider clearfix\" id=\"padding-4\"></div>\n",
            "</div></div></div>\n",
            "</div>\n",
            "</div>\n",
            "</div>\n",
            "<div class=\"clearboth\"></div>\n",
            "</div>\n",
            "<div class=\"mk-skip-to-next\" data-skin=\"light\">\n",
            "<svg class=\"mk-svg-icon\" data-cacheid=\"icon-60719d3a731e4\" data-name=\"mk-jupiter-icon-arrow-bottom\" style=\" height:16px; width: 16px; \" viewbox=\"0 0 512 512\" xmlns=\"http://www.w3.org/2000/svg\"><path d=\"M512 121.6c0 8-3.2 16-8 22.4l-225.6 240c-6.4 6.4-14.4 9.6-24 9.6-8 0-16-3.2-22.4-9.6l-224-240c-11.2-12.8-11.2-33.6 1.6-44.8 12.8-12.8 32-11.2 44.8 1.6l201.6 214.4 203.2-216c11.2-12.8 32-12.8 44.8 0 4.8 6.4 8 14.4 8 22.4z\"></path></svg></div>\n",
            "<div class=\"clearboth\"></div>\n",
            "</div>\n",
            "</div>\n",
            "<div class=\"vc_row-full-width vc_clearfix\"></div>\n",
            "<div class=\"wpb_row vc_row vc_row-fluid mk-fullwidth-true attched-false vc_custom_1562427800870 js-master-row mk-full-content-true\" data-mk-full-width=\"true\" data-mk-full-width-init=\"false\" data-mk-stretch-content=\"true\">\n",
            "<div class=\"vc_col-sm-12 wpb_column column_container vc_custom_1562428066083 _ height-full\">\n",
            "<h2 class=\"mk-fancy-title simple-style color-single\" id=\"fancy-title-6\">\n",
            "<span>\n",
            "</span>\n",
            "</h2>\n",
            "<div class=\"clearboth\"></div>\n",
            "<style>#fancy-title-6 {font-family: \"Playfair Display\"}</style></div>\n",
            "</div>\n",
            "<div class=\"vc_row-full-width vc_clearfix\"></div>\n",
            "<div class=\"wpb_row vc_row vc_row-fluid mk-fullwidth-false attched-false js-master-row mk-grid\" data-mk-stretch-content=\"true\" id=\"ourstory\">\n",
            "<div class=\"vc_col-sm-12 wpb_column column_container _ height-full\">\n",
            "<div class=\"wpb_single_image wpb_content_element vc_align_center\">\n",
            "<figure class=\"wpb_wrapper vc_figure\">\n",
            "<a class=\"vc_single_image-wrapper vc_box_border vc_box_border_grey\" href=\"https://www.onebane.com/an-important-message-regarding-covid-19/\" target=\"_self\"><img alt=\"\" class=\"vc_single_image-img attachment-full\" height=\"400\" itemprop=\"image\" loading=\"lazy\" sizes=\"(max-width: 1800px) 100vw, 1800px\" src=\"https://www.onebane.com/wp-content/uploads/2020/03/onebane-covid-19-v2.png\" srcset=\"https://www.onebane.com/wp-content/uploads/2020/03/onebane-covid-19-v2.png 1800w, https://www.onebane.com/wp-content/uploads/2020/03/onebane-covid-19-v2-300x67.png 300w, https://www.onebane.com/wp-content/uploads/2020/03/onebane-covid-19-v2-1024x228.png 1024w, https://www.onebane.com/wp-content/uploads/2020/03/onebane-covid-19-v2-768x171.png 768w, https://www.onebane.com/wp-content/uploads/2020/03/onebane-covid-19-v2-1536x341.png 1536w\" width=\"1800\"/></a>\n",
            "</figure>\n",
            "</div>\n",
            "<h2 class=\"mk-fancy-title mk-animate-element fade-in simple-style color-single\" id=\"fancy-title-8\">\n",
            "<span>\n",
            "<p>Trusted &amp; Proven Louisiana Law Firm</p>\n",
            "</span>\n",
            "</h2>\n",
            "<div class=\"clearboth\"></div>\n",
            "<style>#fancy-title-8 {font-family: \"Playfair Display\"}</style>\n",
            "<div class=\"wpb_row vc_inner vc_row vc_row-fluid attched-false \">\n",
            "<div class=\"wpb_column vc_column_container vc_col-sm-2\"><div class=\"vc_column-inner\"><div class=\"wpb_wrapper\"></div></div></div><div class=\"wpb_column vc_column_container vc_col-sm-8\"><div class=\"vc_column-inner\"><div class=\"wpb_wrapper\"> <div class=\" vc_custom_1568130580084\">\n",
            "<div class=\"mk-text-block \" id=\"text-block-9\">\n",
            "<div style=\"font-size: 20px; line-height: 30px; font-weight: 300; font-family: 'Roboto Condensed'; color: #444444; text-align: justify;\"><span style=\"font-weight: 400;\">Loyalty. It’s our core value. From our commitment to each of our clients, to honoring our obligations to our community, profession and firm, Onebane Law Firm maintains the same principles important to its founders: Loyalty, Honesty, and Integrity. Our attorneys have been providing Louisiana and beyond with the highest quality, client-focused legal services since 1977.</span></div>\n",
            "<div class=\"clearboth\"></div>\n",
            "</div>\n",
            "</div>\n",
            "</div></div></div><div class=\"wpb_column vc_column_container vc_col-sm-2\"><div class=\"vc_column-inner\"><div class=\"wpb_wrapper\"></div></div></div>\n",
            "</div>\n",
            "<div class=\"mk-divider custom-width center thin_solid \" id=\"divider-10\">\n",
            "<div class=\"divider-inner\"></div>\n",
            "</div>\n",
            "<div class=\"clearboth\"></div>\n",
            "</div>\n",
            "</div>\n",
            "<div class=\"wpb_row vc_row vc_row-fluid mk-fullwidth-false attched-false js-master-row mk-grid\" data-mk-stretch-content=\"true\">\n",
            "<div class=\"vc_col-sm-12 wpb_column column_container _ height-full\">\n",
            "<div class=\"mk-page-section-wrapper\" data-mk-full-width=\"true\" data-mk-full-width-init=\"true\" data-mk-stretch-content=\"true\">\n",
            "<div class=\"mk-page-section self-hosted full_layout full-width-12 js-el js-master-row \" data-intro-effect=\"false\" id=\"page-section-12\">\n",
            "<div class=\"mk-page-section-inner\">\n",
            "<div class=\"mk-video-color-mask\"></div>\n",
            "<div class=\"mk-section-preloader js-el\" data-mk-component=\"Preloader\">\n",
            "<div class=\"mk-section-preloader__icon\"></div>\n",
            "</div>\n",
            "<div class=\"background-layer-holder\">\n",
            "<div class=\"background-layer mk-background-stretch none-blend-effect js-el\" data-mk-component=\"Parallax\" data-mk-img-set='{\"landscape\":{\"desktop\":\"https://www.onebane.com/wp-content/uploads/2019/07/onebane-law-firm.jpg\",\"tablet\":\"https://www.onebane.com/wp-content/uploads/2019/07/onebane-law-firm-1024x768.jpg\",\"mobile\":\"https://www.onebane.com/wp-content/uploads/2019/07/onebane-law-firm-736x414.jpg\"},\"responsive\":\"true\"}' data-mk-lazyload=\"false\" data-parallax-config='{\"speed\" : 0.3 }' id=\"background-layer--12\">\n",
            "<div class=\"mk-color-layer\"></div>\n",
            "</div>\n",
            "</div>\n",
            "</div>\n",
            "<div class=\"page-section-content vc_row-fluid page-section-fullwidth fluid-width-equal-height-columns vertical-align-center\">\n",
            "<div class=\"mk-padding-wrapper wpb_row\"></div>\n",
            "<div class=\"clearboth\"></div>\n",
            "</div>\n",
            "<div class=\"clearboth\"></div>\n",
            "</div>\n",
            "</div>\n",
            "<div class=\"vc_row-full-width vc_clearfix\"></div>\n",
            "</div>\n",
            "</div>\n",
            "<div class=\"wpb_row vc_row vc_row-fluid mk-fullwidth-false attched-false js-master-row mk-grid\" data-mk-stretch-content=\"true\">\n",
            "<div class=\"vc_col-sm-12 wpb_column column_container _ height-full\">\n",
            "<div class=\"mk-padding-divider clearfix\" id=\"padding-14\"></div>\n",
            "</div>\n",
            "</div>\n",
            "<div class=\"wpb_row vc_row vc_row-fluid mk-fullwidth-false attched-false js-master-row mk-grid\" data-mk-stretch-content=\"true\">\n",
            "<div class=\"vc_col-sm-12 wpb_column column_container _ height-full\">\n",
            "<h2 class=\"mk-fancy-title mk-animate-element fade-in simple-style color-single\" id=\"fancy-title-16\">\n",
            "<span>\n",
            "<p>Onebane Law Firm Attorneys</p>\n",
            "</span>\n",
            "</h2>\n",
            "<div class=\"clearboth\"></div>\n",
            "<div class=\"mk-divider custom-width center thin_solid \" id=\"divider-17\">\n",
            "<div class=\"divider-inner\"></div>\n",
            "</div>\n",
            "<div class=\"clearboth\"></div>\n",
            "<div class=\"mk-page-section-wrapper\" data-mk-full-width=\"true\" data-mk-full-width-init=\"true\" data-mk-stretch-content=\"true\">\n",
            "<div class=\"mk-page-section self-hosted full_layout full-width-18 js-el js-master-row \" data-intro-effect=\"false\" id=\"page-section-18\">\n",
            "<div class=\"mk-page-section-inner\">\n",
            "<div class=\"mk-video-color-mask\"></div>\n",
            "</div>\n",
            "<div class=\"page-section-content vc_row-fluid mk-grid \">\n",
            "<div class=\"mk-padding-wrapper wpb_row\"></div>\n",
            "<div class=\"clearboth\"></div>\n",
            "</div>\n",
            "<div class=\"clearboth\"></div>\n",
            "</div>\n",
            "</div>\n",
            "<div class=\"vc_row-full-width vc_clearfix\"></div>\n",
            "</div>\n",
            "</div>\n",
            "<div class=\"wpb_row vc_row vc_row-fluid mk-fullwidth-false attched-false js-master-row mk-grid\" data-mk-stretch-content=\"true\">\n",
            "<div class=\"vc_col-sm-12 wpb_column column_container _ height-full\">\n",
            "<div class=\"mk-employees a_margin-bottom-10 a_margin-top-10 three-column u6col u5col u4col o0col o1col o2col simple c_cs \" id=\"box-20\">\n",
            "<ul>\n",
            "<li class=\"mk-employee-item a_colitem a_align-center a_display-inline-block a_float-left m_7\">\n",
            "<div class=\"item-holder\">\n",
            "<div class=\"team-thumbnail a_position-relative a_width-100-per a_height-100-per a_overflow-hidden rounded-false\">\n",
            "<a href=\"https://www.onebane.com/team/karen-ancelet-attorney/\">\n",
            "<img alt=\"Karen Daniel Ancelet\" data-mk-image-src-set='{\"default\":\"https://www.onebane.com/wp-content/uploads/2019/06/karen-ancelet_crop-500x500.jpg\",\"2x\":\"https://www.onebane.com/wp-content/uploads/2019/06/karen-ancelet_crop.jpg\",\"mobile\":\"\",\"responsive\":\"true\"}' src=\"https://www.onebane.com/wp-content/uploads/bfi_thumb/dummy-transparent-o9k3d67cg9mjqa7ixjynf5p6lqga8j2syt9b1rryx4.png\" title=\"Karen Daniel Ancelet\"/>\n",
            "</a>\n",
            "</div>\n",
            "<div class=\"team-info-wrapper m_7\" itemscope=\"itemscope\" itemtype=\"https://schema.org/Person\">\n",
            "<a class=\"team-member-name\" href=\"https://www.onebane.com/team/karen-ancelet-attorney/\">\n",
            "<span class=\"team-member-name a_font-16 a_display-block a_font-weight-bold a_text-transform-up a_color-333\">Karen Daniel Ancelet</span>\n",
            "</a>\n",
            "<span class=\"team-member-position a_font-12 a_text-transform-up a_display-block a_color-777 a_letter-spacing-1\">Attorney at Law</span>\n",
            "<div class=\"team-member-desc a_margin-top-20 a_margin-bottom-10 a_display-block\"></div>\n",
            "<div class=\"clearboth\"></div>\n",
            "<ul class=\"mk-employeee-networks\">\n",
            "<li><a href=\"mailto:anceletk@onebane.com\" target=\"_blank\" title=\"Get In Touch With Karen Daniel Ancelet\"><svg class=\"mk-svg-icon\" data-cacheid=\"icon-60719d3a7c650\" data-name=\"mk-icon-envelope\" style=\" height:16px; width: 16px; \" viewbox=\"0 0 1792 1792\" xmlns=\"http://www.w3.org/2000/svg\"><path d=\"M1792 710v794q0 66-47 113t-113 47h-1472q-66 0-113-47t-47-113v-794q44 49 101 87 362 246 497 345 57 42 92.5 65.5t94.5 48 110 24.5h2q51 0 110-24.5t94.5-48 92.5-65.5q170-123 498-345 57-39 100-87zm0-294q0 79-49 151t-122 123q-376 261-468 325-10 7-42.5 30.5t-54 38-52 32.5-57.5 27-50 9h-2q-23 0-50-9t-57.5-27-52-32.5-54-38-42.5-30.5q-91-64-262-182.5t-205-142.5q-62-42-117-115.5t-55-136.5q0-78 41.5-130t118.5-52h1472q65 0 112.5 47t47.5 113z\"></path></svg></a></li>\n",
            "<li><a href=\"https://www.facebook.com/onebanelawfirm/\" target=\"_blank\" title=\"Karen Daniel Ancelet On Facebook\"><svg class=\"mk-svg-icon\" data-cacheid=\"icon-60719d3a7d0a2\" data-name=\"mk-moon-facebook\" style=\" height:16px; width: 16px; \" viewbox=\"0 0 512 512\" xmlns=\"http://www.w3.org/2000/svg\"><path d=\"M287.935 512h-95.935v-256h-64v-88.225l64-.029-.104-51.976c0-71.976 19.517-115.77 104.299-115.77h70.588v88.242h-44.115c-33.016 0-34.603 12.328-34.603 35.342l-.131 44.162h79.345l-9.352 88.225-69.927.029-.065 256z\"></path></svg></a></li>\n",
            "</ul>\n",
            "</div>\n",
            "</div>\n",
            "</li>\n",
            "<li class=\"mk-employee-item a_colitem a_align-center a_display-inline-block a_float-left m_7 \">\n",
            "<div class=\"item-holder\">\n",
            "<div class=\"team-thumbnail a_position-relative a_width-100-per a_height-100-per a_overflow-hidden rounded-false\">\n",
            "<a href=\"https://www.onebane.com/team/james-bayard-attorney/\">\n",
            "<img alt=\"James D. Bayard\" data-mk-image-src-set='{\"default\":\"https://www.onebane.com/wp-content/uploads/2019/06/james-bayard_crop-500x500.jpg\",\"2x\":\"https://www.onebane.com/wp-content/uploads/2019/06/james-bayard_crop.jpg\",\"mobile\":\"\",\"responsive\":\"true\"}' src=\"https://www.onebane.com/wp-content/uploads/bfi_thumb/dummy-transparent-o9k3d67cg9mjqa7ixjynf5p6lqga8j2syt9b1rryx4.png\" title=\"James D. Bayard\"/>\n",
            "</a>\n",
            "</div>\n",
            "<div class=\"team-info-wrapper m_7\" itemscope=\"itemscope\" itemtype=\"https://schema.org/Person\">\n",
            "<a class=\"team-member-name\" href=\"https://www.onebane.com/team/james-bayard-attorney/\">\n",
            "<span class=\"team-member-name a_font-16 a_display-block a_font-weight-bold a_text-transform-up a_color-333\">James D. Bayard</span>\n",
            "</a>\n",
            "<span class=\"team-member-position a_font-12 a_text-transform-up a_display-block a_color-777 a_letter-spacing-1\">Attorney at Law</span>\n",
            "<div class=\"team-member-desc a_margin-top-20 a_margin-bottom-10 a_display-block\"></div>\n",
            "<div class=\"clearboth\"></div>\n",
            "<ul class=\"mk-employeee-networks\">\n",
            "<li><a href=\"mailto:bayardj@onebane.com\" target=\"_blank\" title=\"Get In Touch With James D. Bayard\"><svg class=\"mk-svg-icon\" data-cacheid=\"icon-60719d3a7f87c\" data-name=\"mk-icon-envelope\" style=\" height:16px; width: 16px; \" viewbox=\"0 0 1792 1792\" xmlns=\"http://www.w3.org/2000/svg\"><path d=\"M1792 710v794q0 66-47 113t-113 47h-1472q-66 0-113-47t-47-113v-794q44 49 101 87 362 246 497 345 57 42 92.5 65.5t94.5 48 110 24.5h2q51 0 110-24.5t94.5-48 92.5-65.5q170-123 498-345 57-39 100-87zm0-294q0 79-49 151t-122 123q-376 261-468 325-10 7-42.5 30.5t-54 38-52 32.5-57.5 27-50 9h-2q-23 0-50-9t-57.5-27-52-32.5-54-38-42.5-30.5q-91-64-262-182.5t-205-142.5q-62-42-117-115.5t-55-136.5q0-78 41.5-130t118.5-52h1472q65 0 112.5 47t47.5 113z\"></path></svg></a></li>\n",
            "<li><a href=\"https://www.facebook.com/onebanelawfirm/\" target=\"_blank\" title=\"James D. Bayard On Facebook\"><svg class=\"mk-svg-icon\" data-cacheid=\"icon-60719d3a8027d\" data-name=\"mk-moon-facebook\" style=\" height:16px; width: 16px; \" viewbox=\"0 0 512 512\" xmlns=\"http://www.w3.org/2000/svg\"><path d=\"M287.935 512h-95.935v-256h-64v-88.225l64-.029-.104-51.976c0-71.976 19.517-115.77 104.299-115.77h70.588v88.242h-44.115c-33.016 0-34.603 12.328-34.603 35.342l-.131 44.162h79.345l-9.352 88.225-69.927.029-.065 256z\"></path></svg></a></li>\n",
            "</ul>\n",
            "</div>\n",
            "</div>\n",
            "</li>\n",
            "<li class=\"mk-employee-item a_colitem a_align-center a_display-inline-block a_float-left m_7 \">\n",
            "<div class=\"item-holder\">\n",
            "<div class=\"team-thumbnail a_position-relative a_width-100-per a_height-100-per a_overflow-hidden rounded-false\">\n",
            "<a href=\"https://www.onebane.com/team/michael-durand-attorney/\">\n",
            "<img alt=\"Michael G. Durand\" data-mk-image-src-set='{\"default\":\"https://www.onebane.com/wp-content/uploads/2019/06/mike-durand_crop-500x500.jpg\",\"2x\":\"https://www.onebane.com/wp-content/uploads/2019/06/mike-durand_crop.jpg\",\"mobile\":\"\",\"responsive\":\"true\"}' src=\"https://www.onebane.com/wp-content/uploads/bfi_thumb/dummy-transparent-o9k3d67cg9mjqa7ixjynf5p6lqga8j2syt9b1rryx4.png\" title=\"Michael G. Durand\"/>\n",
            "</a>\n",
            "</div>\n",
            "<div class=\"team-info-wrapper m_7\" itemscope=\"itemscope\" itemtype=\"https://schema.org/Person\">\n",
            "<a class=\"team-member-name\" href=\"https://www.onebane.com/team/michael-durand-attorney/\">\n",
            "<span class=\"team-member-name a_font-16 a_display-block a_font-weight-bold a_text-transform-up a_color-333\">Michael G. Durand</span>\n",
            "</a>\n",
            "<span class=\"team-member-position a_font-12 a_text-transform-up a_display-block a_color-777 a_letter-spacing-1\">Attorney at Law</span>\n",
            "<div class=\"team-member-desc a_margin-top-20 a_margin-bottom-10 a_display-block\"></div>\n",
            "<div class=\"clearboth\"></div>\n",
            "<ul class=\"mk-employeee-networks\">\n",
            "<li><a href=\"mailto:durandm@onebane.com\" target=\"_blank\" title=\"Get In Touch With Michael G. Durand\"><svg class=\"mk-svg-icon\" data-cacheid=\"icon-60719d3a82be4\" data-name=\"mk-icon-envelope\" style=\" height:16px; width: 16px; \" viewbox=\"0 0 1792 1792\" xmlns=\"http://www.w3.org/2000/svg\"><path d=\"M1792 710v794q0 66-47 113t-113 47h-1472q-66 0-113-47t-47-113v-794q44 49 101 87 362 246 497 345 57 42 92.5 65.5t94.5 48 110 24.5h2q51 0 110-24.5t94.5-48 92.5-65.5q170-123 498-345 57-39 100-87zm0-294q0 79-49 151t-122 123q-376 261-468 325-10 7-42.5 30.5t-54 38-52 32.5-57.5 27-50 9h-2q-23 0-50-9t-57.5-27-52-32.5-54-38-42.5-30.5q-91-64-262-182.5t-205-142.5q-62-42-117-115.5t-55-136.5q0-78 41.5-130t118.5-52h1472q65 0 112.5 47t47.5 113z\"></path></svg></a></li>\n",
            "<li><a href=\"https://www.facebook.com/onebanelawfirm/\" target=\"_blank\" title=\"Michael G. Durand On Facebook\"><svg class=\"mk-svg-icon\" data-cacheid=\"icon-60719d3a835eb\" data-name=\"mk-moon-facebook\" style=\" height:16px; width: 16px; \" viewbox=\"0 0 512 512\" xmlns=\"http://www.w3.org/2000/svg\"><path d=\"M287.935 512h-95.935v-256h-64v-88.225l64-.029-.104-51.976c0-71.976 19.517-115.77 104.299-115.77h70.588v88.242h-44.115c-33.016 0-34.603 12.328-34.603 35.342l-.131 44.162h79.345l-9.352 88.225-69.927.029-.065 256z\"></path></svg></a></li>\n",
            "</ul>\n",
            "</div>\n",
            "</div>\n",
            "</li>\n",
            "<div class=\"clearboth\"></div>\n",
            "<li class=\"mk-employee-item a_colitem a_align-center a_display-inline-block a_float-left m_7 \">\n",
            "<div class=\"item-holder\">\n",
            "<div class=\"team-thumbnail a_position-relative a_width-100-per a_height-100-per a_overflow-hidden rounded-false\">\n",
            "<a href=\"https://www.onebane.com/team/roger-ishee-attorney/\">\n",
            "<img alt=\"Roger E. Ishee\" data-mk-image-src-set='{\"default\":\"https://www.onebane.com/wp-content/uploads/2019/06/roger-ishee_crop-500x500.jpg\",\"2x\":\"https://www.onebane.com/wp-content/uploads/2019/06/roger-ishee_crop.jpg\",\"mobile\":\"\",\"responsive\":\"true\"}' src=\"https://www.onebane.com/wp-content/uploads/bfi_thumb/dummy-transparent-o9k3d67cg9mjqa7ixjynf5p6lqga8j2syt9b1rryx4.png\" title=\"Roger E. Ishee\"/>\n",
            "</a>\n",
            "</div>\n",
            "<div class=\"team-info-wrapper m_7\" itemscope=\"itemscope\" itemtype=\"https://schema.org/Person\">\n",
            "<a class=\"team-member-name\" href=\"https://www.onebane.com/team/roger-ishee-attorney/\">\n",
            "<span class=\"team-member-name a_font-16 a_display-block a_font-weight-bold a_text-transform-up a_color-333\">Roger E. Ishee</span>\n",
            "</a>\n",
            "<span class=\"team-member-position a_font-12 a_text-transform-up a_display-block a_color-777 a_letter-spacing-1\">Attorney at Law</span>\n",
            "<div class=\"team-member-desc a_margin-top-20 a_margin-bottom-10 a_display-block\"></div>\n",
            "<div class=\"clearboth\"></div>\n",
            "<ul class=\"mk-employeee-networks\">\n",
            "<li><a href=\"mailto:isheer@onebane.com\" target=\"_blank\" title=\"Get In Touch With Roger E. Ishee\"><svg class=\"mk-svg-icon\" data-cacheid=\"icon-60719d3a85e0c\" data-name=\"mk-icon-envelope\" style=\" height:16px; width: 16px; \" viewbox=\"0 0 1792 1792\" xmlns=\"http://www.w3.org/2000/svg\"><path d=\"M1792 710v794q0 66-47 113t-113 47h-1472q-66 0-113-47t-47-113v-794q44 49 101 87 362 246 497 345 57 42 92.5 65.5t94.5 48 110 24.5h2q51 0 110-24.5t94.5-48 92.5-65.5q170-123 498-345 57-39 100-87zm0-294q0 79-49 151t-122 123q-376 261-468 325-10 7-42.5 30.5t-54 38-52 32.5-57.5 27-50 9h-2q-23 0-50-9t-57.5-27-52-32.5-54-38-42.5-30.5q-91-64-262-182.5t-205-142.5q-62-42-117-115.5t-55-136.5q0-78 41.5-130t118.5-52h1472q65 0 112.5 47t47.5 113z\"></path></svg></a></li>\n",
            "<li><a href=\"https://www.facebook.com/onebanelawfirm/\" target=\"_blank\" title=\"Roger E. Ishee On Facebook\"><svg class=\"mk-svg-icon\" data-cacheid=\"icon-60719d3a86849\" data-name=\"mk-moon-facebook\" style=\" height:16px; width: 16px; \" viewbox=\"0 0 512 512\" xmlns=\"http://www.w3.org/2000/svg\"><path d=\"M287.935 512h-95.935v-256h-64v-88.225l64-.029-.104-51.976c0-71.976 19.517-115.77 104.299-115.77h70.588v88.242h-44.115c-33.016 0-34.603 12.328-34.603 35.342l-.131 44.162h79.345l-9.352 88.225-69.927.029-.065 256z\"></path></svg></a></li>\n",
            "</ul>\n",
            "</div>\n",
            "</div>\n",
            "</li>\n",
            "<li class=\"mk-employee-item a_colitem a_align-center a_display-inline-block a_float-left m_7 \">\n",
            "<div class=\"item-holder\">\n",
            "<div class=\"team-thumbnail a_position-relative a_width-100-per a_height-100-per a_overflow-hidden rounded-false\">\n",
            "<a href=\"https://www.onebane.com/team/william-kellner-attorney/\">\n",
            "<img alt=\"William E. Kellner\" data-mk-image-src-set='{\"default\":\"https://www.onebane.com/wp-content/uploads/2019/06/bill-kellner_crop-500x500.jpg\",\"2x\":\"https://www.onebane.com/wp-content/uploads/2019/06/bill-kellner_crop.jpg\",\"mobile\":\"\",\"responsive\":\"true\"}' src=\"https://www.onebane.com/wp-content/uploads/bfi_thumb/dummy-transparent-o9k3d67cg9mjqa7ixjynf5p6lqga8j2syt9b1rryx4.png\" title=\"William E. Kellner\"/>\n",
            "</a>\n",
            "</div>\n",
            "<div class=\"team-info-wrapper m_7\" itemscope=\"itemscope\" itemtype=\"https://schema.org/Person\">\n",
            "<a class=\"team-member-name\" href=\"https://www.onebane.com/team/william-kellner-attorney/\">\n",
            "<span class=\"team-member-name a_font-16 a_display-block a_font-weight-bold a_text-transform-up a_color-333\">William E. Kellner</span>\n",
            "</a>\n",
            "<span class=\"team-member-position a_font-12 a_text-transform-up a_display-block a_color-777 a_letter-spacing-1\">Attorney at Law</span>\n",
            "<div class=\"team-member-desc a_margin-top-20 a_margin-bottom-10 a_display-block\"></div>\n",
            "<div class=\"clearboth\"></div>\n",
            "<ul class=\"mk-employeee-networks\">\n",
            "<li><a href=\"mailto:kellnerw@onebane.com\" target=\"_blank\" title=\"Get In Touch With William E. Kellner\"><svg class=\"mk-svg-icon\" data-cacheid=\"icon-60719d3a89148\" data-name=\"mk-icon-envelope\" style=\" height:16px; width: 16px; \" viewbox=\"0 0 1792 1792\" xmlns=\"http://www.w3.org/2000/svg\"><path d=\"M1792 710v794q0 66-47 113t-113 47h-1472q-66 0-113-47t-47-113v-794q44 49 101 87 362 246 497 345 57 42 92.5 65.5t94.5 48 110 24.5h2q51 0 110-24.5t94.5-48 92.5-65.5q170-123 498-345 57-39 100-87zm0-294q0 79-49 151t-122 123q-376 261-468 325-10 7-42.5 30.5t-54 38-52 32.5-57.5 27-50 9h-2q-23 0-50-9t-57.5-27-52-32.5-54-38-42.5-30.5q-91-64-262-182.5t-205-142.5q-62-42-117-115.5t-55-136.5q0-78 41.5-130t118.5-52h1472q65 0 112.5 47t47.5 113z\"></path></svg></a></li>\n",
            "<li><a href=\"https://www.facebook.com/onebanelawfirm/\" target=\"_blank\" title=\"William E. Kellner On Facebook\"><svg class=\"mk-svg-icon\" data-cacheid=\"icon-60719d3a89b74\" data-name=\"mk-moon-facebook\" style=\" height:16px; width: 16px; \" viewbox=\"0 0 512 512\" xmlns=\"http://www.w3.org/2000/svg\"><path d=\"M287.935 512h-95.935v-256h-64v-88.225l64-.029-.104-51.976c0-71.976 19.517-115.77 104.299-115.77h70.588v88.242h-44.115c-33.016 0-34.603 12.328-34.603 35.342l-.131 44.162h79.345l-9.352 88.225-69.927.029-.065 256z\"></path></svg></a></li>\n",
            "</ul>\n",
            "</div>\n",
            "</div>\n",
            "</li>\n",
            "<li class=\"mk-employee-item a_colitem a_align-center a_display-inline-block a_float-left m_7 \">\n",
            "<div class=\"item-holder\">\n",
            "<div class=\"team-thumbnail a_position-relative a_width-100-per a_height-100-per a_overflow-hidden rounded-false\">\n",
            "<a href=\"https://www.onebane.com/team/steven-lanza-attorney/\">\n",
            "<img alt=\"Steven C. Lanza\" data-mk-image-src-set='{\"default\":\"https://www.onebane.com/wp-content/uploads/2019/06/steve-lanza_crop-500x500.jpg\",\"2x\":\"https://www.onebane.com/wp-content/uploads/2019/06/steve-lanza_crop.jpg\",\"mobile\":\"\",\"responsive\":\"true\"}' src=\"https://www.onebane.com/wp-content/uploads/bfi_thumb/dummy-transparent-o9k3d67cg9mjqa7ixjynf5p6lqga8j2syt9b1rryx4.png\" title=\"Steven C. Lanza\"/>\n",
            "</a>\n",
            "</div>\n",
            "<div class=\"team-info-wrapper m_7\" itemscope=\"itemscope\" itemtype=\"https://schema.org/Person\">\n",
            "<a class=\"team-member-name\" href=\"https://www.onebane.com/team/steven-lanza-attorney/\">\n",
            "<span class=\"team-member-name a_font-16 a_display-block a_font-weight-bold a_text-transform-up a_color-333\">Steven C. Lanza</span>\n",
            "</a>\n",
            "<span class=\"team-member-position a_font-12 a_text-transform-up a_display-block a_color-777 a_letter-spacing-1\">Attorney at Law</span>\n",
            "<div class=\"team-member-desc a_margin-top-20 a_margin-bottom-10 a_display-block\"></div>\n",
            "<div class=\"clearboth\"></div>\n",
            "<ul class=\"mk-employeee-networks\">\n",
            "<li><a href=\"mailto:lanza@onebane.com\" target=\"_blank\" title=\"Get In Touch With Steven C. Lanza\"><svg class=\"mk-svg-icon\" data-cacheid=\"icon-60719d3a8c513\" data-name=\"mk-icon-envelope\" style=\" height:16px; width: 16px; \" viewbox=\"0 0 1792 1792\" xmlns=\"http://www.w3.org/2000/svg\"><path d=\"M1792 710v794q0 66-47 113t-113 47h-1472q-66 0-113-47t-47-113v-794q44 49 101 87 362 246 497 345 57 42 92.5 65.5t94.5 48 110 24.5h2q51 0 110-24.5t94.5-48 92.5-65.5q170-123 498-345 57-39 100-87zm0-294q0 79-49 151t-122 123q-376 261-468 325-10 7-42.5 30.5t-54 38-52 32.5-57.5 27-50 9h-2q-23 0-50-9t-57.5-27-52-32.5-54-38-42.5-30.5q-91-64-262-182.5t-205-142.5q-62-42-117-115.5t-55-136.5q0-78 41.5-130t118.5-52h1472q65 0 112.5 47t47.5 113z\"></path></svg></a></li>\n",
            "<li><a href=\"https://www.facebook.com/onebanelawfirm/\" target=\"_blank\" title=\"Steven C. Lanza On Facebook\"><svg class=\"mk-svg-icon\" data-cacheid=\"icon-60719d3a8cf70\" data-name=\"mk-moon-facebook\" style=\" height:16px; width: 16px; \" viewbox=\"0 0 512 512\" xmlns=\"http://www.w3.org/2000/svg\"><path d=\"M287.935 512h-95.935v-256h-64v-88.225l64-.029-.104-51.976c0-71.976 19.517-115.77 104.299-115.77h70.588v88.242h-44.115c-33.016 0-34.603 12.328-34.603 35.342l-.131 44.162h79.345l-9.352 88.225-69.927.029-.065 256z\"></path></svg></a></li>\n",
            "</ul>\n",
            "</div>\n",
            "</div>\n",
            "</li>\n",
            "<div class=\"clearboth\"></div>\n",
            "<li class=\"mk-employee-item a_colitem a_align-center a_display-inline-block a_float-left m_7 \">\n",
            "<div class=\"item-holder\">\n",
            "<div class=\"team-thumbnail a_position-relative a_width-100-per a_height-100-per a_overflow-hidden rounded-false\">\n",
            "<a href=\"https://www.onebane.com/team/lawrence-lewis-attorney/\">\n",
            "<img alt=\"Lawrence L. Lewis III\" data-mk-image-src-set='{\"default\":\"https://www.onebane.com/wp-content/uploads/2019/06/larry-lewis_crop-500x500.jpg\",\"2x\":\"https://www.onebane.com/wp-content/uploads/2019/06/larry-lewis_crop.jpg\",\"mobile\":\"\",\"responsive\":\"true\"}' src=\"https://www.onebane.com/wp-content/uploads/bfi_thumb/dummy-transparent-o9k3d67cg9mjqa7ixjynf5p6lqga8j2syt9b1rryx4.png\" title=\"Lawrence L. Lewis III\"/>\n",
            "</a>\n",
            "</div>\n",
            "<div class=\"team-info-wrapper m_7\" itemscope=\"itemscope\" itemtype=\"https://schema.org/Person\">\n",
            "<a class=\"team-member-name\" href=\"https://www.onebane.com/team/lawrence-lewis-attorney/\">\n",
            "<span class=\"team-member-name a_font-16 a_display-block a_font-weight-bold a_text-transform-up a_color-333\">Lawrence L. Lewis III</span>\n",
            "</a>\n",
            "<span class=\"team-member-position a_font-12 a_text-transform-up a_display-block a_color-777 a_letter-spacing-1\">Attorney at Law</span>\n",
            "<div class=\"team-member-desc a_margin-top-20 a_margin-bottom-10 a_display-block\"></div>\n",
            "<div class=\"clearboth\"></div>\n",
            "<ul class=\"mk-employeee-networks\">\n",
            "<li><a href=\"mailto:lewisl@onebane.com\" target=\"_blank\" title=\"Get In Touch With Lawrence L. Lewis III\"><svg class=\"mk-svg-icon\" data-cacheid=\"icon-60719d3a8f8bf\" data-name=\"mk-icon-envelope\" style=\" height:16px; width: 16px; \" viewbox=\"0 0 1792 1792\" xmlns=\"http://www.w3.org/2000/svg\"><path d=\"M1792 710v794q0 66-47 113t-113 47h-1472q-66 0-113-47t-47-113v-794q44 49 101 87 362 246 497 345 57 42 92.5 65.5t94.5 48 110 24.5h2q51 0 110-24.5t94.5-48 92.5-65.5q170-123 498-345 57-39 100-87zm0-294q0 79-49 151t-122 123q-376 261-468 325-10 7-42.5 30.5t-54 38-52 32.5-57.5 27-50 9h-2q-23 0-50-9t-57.5-27-52-32.5-54-38-42.5-30.5q-91-64-262-182.5t-205-142.5q-62-42-117-115.5t-55-136.5q0-78 41.5-130t118.5-52h1472q65 0 112.5 47t47.5 113z\"></path></svg></a></li>\n",
            "<li><a href=\"https://www.facebook.com/onebanelawfirm/\" target=\"_blank\" title=\"Lawrence L. Lewis III On Facebook\"><svg class=\"mk-svg-icon\" data-cacheid=\"icon-60719d3a90342\" data-name=\"mk-moon-facebook\" style=\" height:16px; width: 16px; \" viewbox=\"0 0 512 512\" xmlns=\"http://www.w3.org/2000/svg\"><path d=\"M287.935 512h-95.935v-256h-64v-88.225l64-.029-.104-51.976c0-71.976 19.517-115.77 104.299-115.77h70.588v88.242h-44.115c-33.016 0-34.603 12.328-34.603 35.342l-.131 44.162h79.345l-9.352 88.225-69.927.029-.065 256z\"></path></svg></a></li>\n",
            "</ul>\n",
            "</div>\n",
            "</div>\n",
            "</li>\n",
            "<li class=\"mk-employee-item a_colitem a_align-center a_display-inline-block a_float-left m_7 \">\n",
            "<div class=\"item-holder\">\n",
            "<div class=\"team-thumbnail a_position-relative a_width-100-per a_height-100-per a_overflow-hidden rounded-false\">\n",
            "<a href=\"https://www.onebane.com/team/sue-mann-attorney/\">\n",
            "<img alt=\"Sue “Sudie” Tannehill Mann\" data-mk-image-src-set='{\"default\":\"https://www.onebane.com/wp-content/uploads/2019/06/sue-mann_crop-500x500.jpg\",\"2x\":\"https://www.onebane.com/wp-content/uploads/2019/06/sue-mann_crop.jpg\",\"mobile\":\"\",\"responsive\":\"true\"}' src=\"https://www.onebane.com/wp-content/uploads/bfi_thumb/dummy-transparent-o9k3d67cg9mjqa7ixjynf5p6lqga8j2syt9b1rryx4.png\" title=\"Sue “Sudie” Tannehill Mann\"/>\n",
            "</a>\n",
            "</div>\n",
            "<div class=\"team-info-wrapper m_7\" itemscope=\"itemscope\" itemtype=\"https://schema.org/Person\">\n",
            "<a class=\"team-member-name\" href=\"https://www.onebane.com/team/sue-mann-attorney/\">\n",
            "<span class=\"team-member-name a_font-16 a_display-block a_font-weight-bold a_text-transform-up a_color-333\">Sue “Sudie” Tannehill Mann</span>\n",
            "</a>\n",
            "<span class=\"team-member-position a_font-12 a_text-transform-up a_display-block a_color-777 a_letter-spacing-1\">Attorney at Law</span>\n",
            "<div class=\"team-member-desc a_margin-top-20 a_margin-bottom-10 a_display-block\"></div>\n",
            "<div class=\"clearboth\"></div>\n",
            "<ul class=\"mk-employeee-networks\">\n",
            "<li><a href=\"mailto:manns@onebane.com\" target=\"_blank\" title=\"Get In Touch With Sue “Sudie” Tannehill Mann\"><svg class=\"mk-svg-icon\" data-cacheid=\"icon-60719d3a92ce1\" data-name=\"mk-icon-envelope\" style=\" height:16px; width: 16px; \" viewbox=\"0 0 1792 1792\" xmlns=\"http://www.w3.org/2000/svg\"><path d=\"M1792 710v794q0 66-47 113t-113 47h-1472q-66 0-113-47t-47-113v-794q44 49 101 87 362 246 497 345 57 42 92.5 65.5t94.5 48 110 24.5h2q51 0 110-24.5t94.5-48 92.5-65.5q170-123 498-345 57-39 100-87zm0-294q0 79-49 151t-122 123q-376 261-468 325-10 7-42.5 30.5t-54 38-52 32.5-57.5 27-50 9h-2q-23 0-50-9t-57.5-27-52-32.5-54-38-42.5-30.5q-91-64-262-182.5t-205-142.5q-62-42-117-115.5t-55-136.5q0-78 41.5-130t118.5-52h1472q65 0 112.5 47t47.5 113z\"></path></svg></a></li>\n",
            "<li><a href=\"https://www.facebook.com/onebanelawfirm/\" target=\"_blank\" title=\"Sue “Sudie” Tannehill Mann On Facebook\"><svg class=\"mk-svg-icon\" data-cacheid=\"icon-60719d3a93746\" data-name=\"mk-moon-facebook\" style=\" height:16px; width: 16px; \" viewbox=\"0 0 512 512\" xmlns=\"http://www.w3.org/2000/svg\"><path d=\"M287.935 512h-95.935v-256h-64v-88.225l64-.029-.104-51.976c0-71.976 19.517-115.77 104.299-115.77h70.588v88.242h-44.115c-33.016 0-34.603 12.328-34.603 35.342l-.131 44.162h79.345l-9.352 88.225-69.927.029-.065 256z\"></path></svg></a></li>\n",
            "</ul>\n",
            "</div>\n",
            "</div>\n",
            "</li>\n",
            "<li class=\"mk-employee-item a_colitem a_align-center a_display-inline-block a_float-left m_7 \">\n",
            "<div class=\"item-holder\">\n",
            "<div class=\"team-thumbnail a_position-relative a_width-100-per a_height-100-per a_overflow-hidden rounded-false\">\n",
            "<a href=\"https://www.onebane.com/team/gregory-moroux-attorney/\">\n",
            "<img alt=\"Gregory K. Moroux\" data-mk-image-src-set='{\"default\":\"https://www.onebane.com/wp-content/uploads/2019/06/greg-m-thumb-250x250-500x500.jpg\",\"2x\":\"https://www.onebane.com/wp-content/uploads/2019/06/greg-m-thumb-250x250.jpg\",\"mobile\":\"\",\"responsive\":\"true\"}' src=\"https://www.onebane.com/wp-content/uploads/bfi_thumb/dummy-transparent-o9k3d67cg9mjqa7ixjynf5p6lqga8j2syt9b1rryx4.png\" title=\"Gregory K. Moroux\"/>\n",
            "</a>\n",
            "</div>\n",
            "<div class=\"team-info-wrapper m_7\" itemscope=\"itemscope\" itemtype=\"https://schema.org/Person\">\n",
            "<a class=\"team-member-name\" href=\"https://www.onebane.com/team/gregory-moroux-attorney/\">\n",
            "<span class=\"team-member-name a_font-16 a_display-block a_font-weight-bold a_text-transform-up a_color-333\">Gregory K. Moroux</span>\n",
            "</a>\n",
            "<span class=\"team-member-position a_font-12 a_text-transform-up a_display-block a_color-777 a_letter-spacing-1\">Attorney at Law</span>\n",
            "<div class=\"team-member-desc a_margin-top-20 a_margin-bottom-10 a_display-block\"></div>\n",
            "<div class=\"clearboth\"></div>\n",
            "<ul class=\"mk-employeee-networks\">\n",
            "<li><a href=\"mailto:morouxg@onebane.com\" target=\"_blank\" title=\"Get In Touch With Gregory K. Moroux\"><svg class=\"mk-svg-icon\" data-cacheid=\"icon-60719d3a960b0\" data-name=\"mk-icon-envelope\" style=\" height:16px; width: 16px; \" viewbox=\"0 0 1792 1792\" xmlns=\"http://www.w3.org/2000/svg\"><path d=\"M1792 710v794q0 66-47 113t-113 47h-1472q-66 0-113-47t-47-113v-794q44 49 101 87 362 246 497 345 57 42 92.5 65.5t94.5 48 110 24.5h2q51 0 110-24.5t94.5-48 92.5-65.5q170-123 498-345 57-39 100-87zm0-294q0 79-49 151t-122 123q-376 261-468 325-10 7-42.5 30.5t-54 38-52 32.5-57.5 27-50 9h-2q-23 0-50-9t-57.5-27-52-32.5-54-38-42.5-30.5q-91-64-262-182.5t-205-142.5q-62-42-117-115.5t-55-136.5q0-78 41.5-130t118.5-52h1472q65 0 112.5 47t47.5 113z\"></path></svg></a></li>\n",
            "<li><a href=\"https://www.facebook.com/onebanelawfirm/\" target=\"_blank\" title=\"Gregory K. Moroux On Facebook\"><svg class=\"mk-svg-icon\" data-cacheid=\"icon-60719d3a96aeb\" data-name=\"mk-moon-facebook\" style=\" height:16px; width: 16px; \" viewbox=\"0 0 512 512\" xmlns=\"http://www.w3.org/2000/svg\"><path d=\"M287.935 512h-95.935v-256h-64v-88.225l64-.029-.104-51.976c0-71.976 19.517-115.77 104.299-115.77h70.588v88.242h-44.115c-33.016 0-34.603 12.328-34.603 35.342l-.131 44.162h79.345l-9.352 88.225-69.927.029-.065 256z\"></path></svg></a></li>\n",
            "</ul>\n",
            "</div>\n",
            "</div>\n",
            "</li>\n",
            "<div class=\"clearboth\"></div>\n",
            "<li class=\"mk-employee-item a_colitem a_align-center a_display-inline-block a_float-left m_7 \">\n",
            "<div class=\"item-holder\">\n",
            "<div class=\"team-thumbnail a_position-relative a_width-100-per a_height-100-per a_overflow-hidden rounded-false\">\n",
            "<a href=\"https://www.onebane.com/team/richard-petre-attorney/\">\n",
            "<img alt=\"Richard J. Petre, Jr.\" data-mk-image-src-set='{\"default\":\"https://www.onebane.com/wp-content/uploads/2019/06/richard-petre_crop-500x500.jpg\",\"2x\":\"https://www.onebane.com/wp-content/uploads/2019/06/richard-petre_crop.jpg\",\"mobile\":\"\",\"responsive\":\"true\"}' src=\"https://www.onebane.com/wp-content/uploads/bfi_thumb/dummy-transparent-o9k3d67cg9mjqa7ixjynf5p6lqga8j2syt9b1rryx4.png\" title=\"Richard J. Petre, Jr.\"/>\n",
            "</a>\n",
            "</div>\n",
            "<div class=\"team-info-wrapper m_7\" itemscope=\"itemscope\" itemtype=\"https://schema.org/Person\">\n",
            "<a class=\"team-member-name\" href=\"https://www.onebane.com/team/richard-petre-attorney/\">\n",
            "<span class=\"team-member-name a_font-16 a_display-block a_font-weight-bold a_text-transform-up a_color-333\">Richard J. Petre, Jr.</span>\n",
            "</a>\n",
            "<span class=\"team-member-position a_font-12 a_text-transform-up a_display-block a_color-777 a_letter-spacing-1\">Attorney at Law</span>\n",
            "<div class=\"team-member-desc a_margin-top-20 a_margin-bottom-10 a_display-block\"></div>\n",
            "<div class=\"clearboth\"></div>\n",
            "<ul class=\"mk-employeee-networks\">\n",
            "<li><a href=\"mailto:petrer@onebane.com\" target=\"_blank\" title=\"Get In Touch With Richard J. Petre, Jr.\"><svg class=\"mk-svg-icon\" data-cacheid=\"icon-60719d3a99421\" data-name=\"mk-icon-envelope\" style=\" height:16px; width: 16px; \" viewbox=\"0 0 1792 1792\" xmlns=\"http://www.w3.org/2000/svg\"><path d=\"M1792 710v794q0 66-47 113t-113 47h-1472q-66 0-113-47t-47-113v-794q44 49 101 87 362 246 497 345 57 42 92.5 65.5t94.5 48 110 24.5h2q51 0 110-24.5t94.5-48 92.5-65.5q170-123 498-345 57-39 100-87zm0-294q0 79-49 151t-122 123q-376 261-468 325-10 7-42.5 30.5t-54 38-52 32.5-57.5 27-50 9h-2q-23 0-50-9t-57.5-27-52-32.5-54-38-42.5-30.5q-91-64-262-182.5t-205-142.5q-62-42-117-115.5t-55-136.5q0-78 41.5-130t118.5-52h1472q65 0 112.5 47t47.5 113z\"></path></svg></a></li>\n",
            "<li><a href=\"https://www.facebook.com/onebanelawfirm/\" target=\"_blank\" title=\"Richard J. Petre, Jr. On Facebook\"><svg class=\"mk-svg-icon\" data-cacheid=\"icon-60719d3a99e59\" data-name=\"mk-moon-facebook\" style=\" height:16px; width: 16px; \" viewbox=\"0 0 512 512\" xmlns=\"http://www.w3.org/2000/svg\"><path d=\"M287.935 512h-95.935v-256h-64v-88.225l64-.029-.104-51.976c0-71.976 19.517-115.77 104.299-115.77h70.588v88.242h-44.115c-33.016 0-34.603 12.328-34.603 35.342l-.131 44.162h79.345l-9.352 88.225-69.927.029-.065 256z\"></path></svg></a></li>\n",
            "</ul>\n",
            "</div>\n",
            "</div>\n",
            "</li>\n",
            "<li class=\"mk-employee-item a_colitem a_align-center a_display-inline-block a_float-left m_7 \">\n",
            "<div class=\"item-holder\">\n",
            "<div class=\"team-thumbnail a_position-relative a_width-100-per a_height-100-per a_overflow-hidden rounded-false\">\n",
            "<a href=\"https://www.onebane.com/team/christopher-peyton-attorney/\">\n",
            "<img alt=\"Christopher J. Peyton\" data-mk-image-src-set='{\"default\":\"https://www.onebane.com/wp-content/uploads/2019/06/chris_crop-500x500.jpg\",\"2x\":\"https://www.onebane.com/wp-content/uploads/2019/06/chris_crop.jpg\",\"mobile\":\"\",\"responsive\":\"true\"}' src=\"https://www.onebane.com/wp-content/uploads/bfi_thumb/dummy-transparent-o9k3d67cg9mjqa7ixjynf5p6lqga8j2syt9b1rryx4.png\" title=\"Christopher J. Peyton\"/>\n",
            "</a>\n",
            "</div>\n",
            "<div class=\"team-info-wrapper m_7\" itemscope=\"itemscope\" itemtype=\"https://schema.org/Person\">\n",
            "<a class=\"team-member-name\" href=\"https://www.onebane.com/team/christopher-peyton-attorney/\">\n",
            "<span class=\"team-member-name a_font-16 a_display-block a_font-weight-bold a_text-transform-up a_color-333\">Christopher J. Peyton</span>\n",
            "</a>\n",
            "<span class=\"team-member-position a_font-12 a_text-transform-up a_display-block a_color-777 a_letter-spacing-1\">Attorney at Law</span>\n",
            "<div class=\"team-member-desc a_margin-top-20 a_margin-bottom-10 a_display-block\"></div>\n",
            "<div class=\"clearboth\"></div>\n",
            "<ul class=\"mk-employeee-networks\">\n",
            "<li><a href=\"mailto:peytonc@onebane.com\" target=\"_blank\" title=\"Get In Touch With Christopher J. Peyton\"><svg class=\"mk-svg-icon\" data-cacheid=\"icon-60719d3a9c7e3\" data-name=\"mk-icon-envelope\" style=\" height:16px; width: 16px; \" viewbox=\"0 0 1792 1792\" xmlns=\"http://www.w3.org/2000/svg\"><path d=\"M1792 710v794q0 66-47 113t-113 47h-1472q-66 0-113-47t-47-113v-794q44 49 101 87 362 246 497 345 57 42 92.5 65.5t94.5 48 110 24.5h2q51 0 110-24.5t94.5-48 92.5-65.5q170-123 498-345 57-39 100-87zm0-294q0 79-49 151t-122 123q-376 261-468 325-10 7-42.5 30.5t-54 38-52 32.5-57.5 27-50 9h-2q-23 0-50-9t-57.5-27-52-32.5-54-38-42.5-30.5q-91-64-262-182.5t-205-142.5q-62-42-117-115.5t-55-136.5q0-78 41.5-130t118.5-52h1472q65 0 112.5 47t47.5 113z\"></path></svg></a></li>\n",
            "<li><a href=\"https://www.facebook.com/onebanelawfirm/\" target=\"_blank\" title=\"Christopher J. Peyton On Facebook\"><svg class=\"mk-svg-icon\" data-cacheid=\"icon-60719d3a9d269\" data-name=\"mk-moon-facebook\" style=\" height:16px; width: 16px; \" viewbox=\"0 0 512 512\" xmlns=\"http://www.w3.org/2000/svg\"><path d=\"M287.935 512h-95.935v-256h-64v-88.225l64-.029-.104-51.976c0-71.976 19.517-115.77 104.299-115.77h70.588v88.242h-44.115c-33.016 0-34.603 12.328-34.603 35.342l-.131 44.162h79.345l-9.352 88.225-69.927.029-.065 256z\"></path></svg></a></li>\n",
            "</ul>\n",
            "</div>\n",
            "</div>\n",
            "</li>\n",
            "<li class=\"mk-employee-item a_colitem a_align-center a_display-inline-block a_float-left m_7 \">\n",
            "<div class=\"item-holder\">\n",
            "<div class=\"team-thumbnail a_position-relative a_width-100-per a_height-100-per a_overflow-hidden rounded-false\">\n",
            "<a href=\"https://www.onebane.com/team/craig-ryan-attorney/\">\n",
            "<img alt=\"Craig A. Ryan\" data-mk-image-src-set='{\"default\":\"https://www.onebane.com/wp-content/uploads/2019/06/craig-ryan_img_5702_crop-500x500.jpg\",\"2x\":\"https://www.onebane.com/wp-content/uploads/2019/06/craig-ryan_img_5702_crop.jpg\",\"mobile\":\"\",\"responsive\":\"true\"}' src=\"https://www.onebane.com/wp-content/uploads/bfi_thumb/dummy-transparent-o9k3d67cg9mjqa7ixjynf5p6lqga8j2syt9b1rryx4.png\" title=\"Craig A. Ryan\"/>\n",
            "</a>\n",
            "</div>\n",
            "<div class=\"team-info-wrapper m_7\" itemscope=\"itemscope\" itemtype=\"https://schema.org/Person\">\n",
            "<a class=\"team-member-name\" href=\"https://www.onebane.com/team/craig-ryan-attorney/\">\n",
            "<span class=\"team-member-name a_font-16 a_display-block a_font-weight-bold a_text-transform-up a_color-333\">Craig A. Ryan</span>\n",
            "</a>\n",
            "<span class=\"team-member-position a_font-12 a_text-transform-up a_display-block a_color-777 a_letter-spacing-1\">Attorney at Law</span>\n",
            "<div class=\"team-member-desc a_margin-top-20 a_margin-bottom-10 a_display-block\"></div>\n",
            "<div class=\"clearboth\"></div>\n",
            "<ul class=\"mk-employeee-networks\">\n",
            "<li><a href=\"mailto:ryanc@onebane.com\" target=\"_blank\" title=\"Get In Touch With Craig A. Ryan\"><svg class=\"mk-svg-icon\" data-cacheid=\"icon-60719d3a9fc51\" data-name=\"mk-icon-envelope\" style=\" height:16px; width: 16px; \" viewbox=\"0 0 1792 1792\" xmlns=\"http://www.w3.org/2000/svg\"><path d=\"M1792 710v794q0 66-47 113t-113 47h-1472q-66 0-113-47t-47-113v-794q44 49 101 87 362 246 497 345 57 42 92.5 65.5t94.5 48 110 24.5h2q51 0 110-24.5t94.5-48 92.5-65.5q170-123 498-345 57-39 100-87zm0-294q0 79-49 151t-122 123q-376 261-468 325-10 7-42.5 30.5t-54 38-52 32.5-57.5 27-50 9h-2q-23 0-50-9t-57.5-27-52-32.5-54-38-42.5-30.5q-91-64-262-182.5t-205-142.5q-62-42-117-115.5t-55-136.5q0-78 41.5-130t118.5-52h1472q65 0 112.5 47t47.5 113z\"></path></svg></a></li>\n",
            "<li><a href=\"https://www.facebook.com/onebanelawfirm/\" target=\"_blank\" title=\"Craig A. Ryan On Facebook\"><svg class=\"mk-svg-icon\" data-cacheid=\"icon-60719d3aa069b\" data-name=\"mk-moon-facebook\" style=\" height:16px; width: 16px; \" viewbox=\"0 0 512 512\" xmlns=\"http://www.w3.org/2000/svg\"><path d=\"M287.935 512h-95.935v-256h-64v-88.225l64-.029-.104-51.976c0-71.976 19.517-115.77 104.299-115.77h70.588v88.242h-44.115c-33.016 0-34.603 12.328-34.603 35.342l-.131 44.162h79.345l-9.352 88.225-69.927.029-.065 256z\"></path></svg></a></li>\n",
            "</ul>\n",
            "</div>\n",
            "</div>\n",
            "</li>\n",
            "<div class=\"clearboth\"></div>\n",
            "<li class=\"mk-employee-item a_colitem a_align-center a_display-inline-block a_float-left m_7 \">\n",
            "<div class=\"item-holder\">\n",
            "<div class=\"team-thumbnail a_position-relative a_width-100-per a_height-100-per a_overflow-hidden rounded-false\">\n",
            "<a href=\"https://www.onebane.com/team/jeremy-shealy-attorney/\">\n",
            "<img alt=\"Jeremy B. Shealy\" data-mk-image-src-set='{\"default\":\"https://www.onebane.com/wp-content/uploads/2019/06/jeremy-shealy_crop-500x500.jpg\",\"2x\":\"https://www.onebane.com/wp-content/uploads/2019/06/jeremy-shealy_crop.jpg\",\"mobile\":\"\",\"responsive\":\"true\"}' src=\"https://www.onebane.com/wp-content/uploads/bfi_thumb/dummy-transparent-o9k3d67cg9mjqa7ixjynf5p6lqga8j2syt9b1rryx4.png\" title=\"Jeremy B. Shealy\"/>\n",
            "</a>\n",
            "</div>\n",
            "<div class=\"team-info-wrapper m_7\" itemscope=\"itemscope\" itemtype=\"https://schema.org/Person\">\n",
            "<a class=\"team-member-name\" href=\"https://www.onebane.com/team/jeremy-shealy-attorney/\">\n",
            "<span class=\"team-member-name a_font-16 a_display-block a_font-weight-bold a_text-transform-up a_color-333\">Jeremy B. Shealy</span>\n",
            "</a>\n",
            "<span class=\"team-member-position a_font-12 a_text-transform-up a_display-block a_color-777 a_letter-spacing-1\">Attorney at Law</span>\n",
            "<div class=\"team-member-desc a_margin-top-20 a_margin-bottom-10 a_display-block\"></div>\n",
            "<div class=\"clearboth\"></div>\n",
            "<ul class=\"mk-employeee-networks\">\n",
            "<li><a href=\"mailto:shealyj@onebane.com\" target=\"_blank\" title=\"Get In Touch With Jeremy B. Shealy\"><svg class=\"mk-svg-icon\" data-cacheid=\"icon-60719d3aa309a\" data-name=\"mk-icon-envelope\" style=\" height:16px; width: 16px; \" viewbox=\"0 0 1792 1792\" xmlns=\"http://www.w3.org/2000/svg\"><path d=\"M1792 710v794q0 66-47 113t-113 47h-1472q-66 0-113-47t-47-113v-794q44 49 101 87 362 246 497 345 57 42 92.5 65.5t94.5 48 110 24.5h2q51 0 110-24.5t94.5-48 92.5-65.5q170-123 498-345 57-39 100-87zm0-294q0 79-49 151t-122 123q-376 261-468 325-10 7-42.5 30.5t-54 38-52 32.5-57.5 27-50 9h-2q-23 0-50-9t-57.5-27-52-32.5-54-38-42.5-30.5q-91-64-262-182.5t-205-142.5q-62-42-117-115.5t-55-136.5q0-78 41.5-130t118.5-52h1472q65 0 112.5 47t47.5 113z\"></path></svg></a></li>\n",
            "<li><a href=\"https://www.facebook.com/onebanelawfirm/\" target=\"_blank\" title=\"Jeremy B. Shealy On Facebook\"><svg class=\"mk-svg-icon\" data-cacheid=\"icon-60719d3aa3ae3\" data-name=\"mk-moon-facebook\" style=\" height:16px; width: 16px; \" viewbox=\"0 0 512 512\" xmlns=\"http://www.w3.org/2000/svg\"><path d=\"M287.935 512h-95.935v-256h-64v-88.225l64-.029-.104-51.976c0-71.976 19.517-115.77 104.299-115.77h70.588v88.242h-44.115c-33.016 0-34.603 12.328-34.603 35.342l-.131 44.162h79.345l-9.352 88.225-69.927.029-.065 256z\"></path></svg></a></li>\n",
            "</ul>\n",
            "</div>\n",
            "</div>\n",
            "</li>\n",
            "<li class=\"mk-employee-item a_colitem a_align-center a_display-inline-block a_float-left m_7 \">\n",
            "<div class=\"item-holder\">\n",
            "<div class=\"team-thumbnail a_position-relative a_width-100-per a_height-100-per a_overflow-hidden rounded-false\">\n",
            "<a href=\"https://www.onebane.com/team/thomas-smart-attorney/\">\n",
            "<img alt=\"Thomas G. Smart\" data-mk-image-src-set='{\"default\":\"https://www.onebane.com/wp-content/uploads/2019/06/tommy-smart_crop-500x500.jpg\",\"2x\":\"https://www.onebane.com/wp-content/uploads/2019/06/tommy-smart_crop.jpg\",\"mobile\":\"\",\"responsive\":\"true\"}' src=\"https://www.onebane.com/wp-content/uploads/bfi_thumb/dummy-transparent-o9k3d67cg9mjqa7ixjynf5p6lqga8j2syt9b1rryx4.png\" title=\"Thomas G. Smart\"/>\n",
            "</a>\n",
            "</div>\n",
            "<div class=\"team-info-wrapper m_7\" itemscope=\"itemscope\" itemtype=\"https://schema.org/Person\">\n",
            "<a class=\"team-member-name\" href=\"https://www.onebane.com/team/thomas-smart-attorney/\">\n",
            "<span class=\"team-member-name a_font-16 a_display-block a_font-weight-bold a_text-transform-up a_color-333\">Thomas G. Smart</span>\n",
            "</a>\n",
            "<span class=\"team-member-position a_font-12 a_text-transform-up a_display-block a_color-777 a_letter-spacing-1\">Attorney at Law</span>\n",
            "<div class=\"team-member-desc a_margin-top-20 a_margin-bottom-10 a_display-block\"></div>\n",
            "<div class=\"clearboth\"></div>\n",
            "<ul class=\"mk-employeee-networks\">\n",
            "<li><a href=\"mailto:smartt@onebane.com\" target=\"_blank\" title=\"Get In Touch With Thomas G. Smart\"><svg class=\"mk-svg-icon\" data-cacheid=\"icon-60719d3aa64f1\" data-name=\"mk-icon-envelope\" style=\" height:16px; width: 16px; \" viewbox=\"0 0 1792 1792\" xmlns=\"http://www.w3.org/2000/svg\"><path d=\"M1792 710v794q0 66-47 113t-113 47h-1472q-66 0-113-47t-47-113v-794q44 49 101 87 362 246 497 345 57 42 92.5 65.5t94.5 48 110 24.5h2q51 0 110-24.5t94.5-48 92.5-65.5q170-123 498-345 57-39 100-87zm0-294q0 79-49 151t-122 123q-376 261-468 325-10 7-42.5 30.5t-54 38-52 32.5-57.5 27-50 9h-2q-23 0-50-9t-57.5-27-52-32.5-54-38-42.5-30.5q-91-64-262-182.5t-205-142.5q-62-42-117-115.5t-55-136.5q0-78 41.5-130t118.5-52h1472q65 0 112.5 47t47.5 113z\"></path></svg></a></li>\n",
            "<li><a href=\"https://www.facebook.com/onebanelawfirm/\" target=\"_blank\" title=\"Thomas G. Smart On Facebook\"><svg class=\"mk-svg-icon\" data-cacheid=\"icon-60719d3aa6f7b\" data-name=\"mk-moon-facebook\" style=\" height:16px; width: 16px; \" viewbox=\"0 0 512 512\" xmlns=\"http://www.w3.org/2000/svg\"><path d=\"M287.935 512h-95.935v-256h-64v-88.225l64-.029-.104-51.976c0-71.976 19.517-115.77 104.299-115.77h70.588v88.242h-44.115c-33.016 0-34.603 12.328-34.603 35.342l-.131 44.162h79.345l-9.352 88.225-69.927.029-.065 256z\"></path></svg></a></li>\n",
            "</ul>\n",
            "</div>\n",
            "</div>\n",
            "</li>\n",
            "<li class=\"mk-employee-item a_colitem a_align-center a_display-inline-block a_float-left m_7 \">\n",
            "<div class=\"item-holder\">\n",
            "<div class=\"team-thumbnail a_position-relative a_width-100-per a_height-100-per a_overflow-hidden rounded-false\">\n",
            "<a href=\"https://www.onebane.com/team/douglas-truxillo-attorney/\">\n",
            "<img alt=\"Douglas W. Truxillo\" data-mk-image-src-set='{\"default\":\"https://www.onebane.com/wp-content/uploads/2019/06/doug-truxillo_crop-500x500.jpg\",\"2x\":\"https://www.onebane.com/wp-content/uploads/2019/06/doug-truxillo_crop.jpg\",\"mobile\":\"\",\"responsive\":\"true\"}' src=\"https://www.onebane.com/wp-content/uploads/bfi_thumb/dummy-transparent-o9k3d67cg9mjqa7ixjynf5p6lqga8j2syt9b1rryx4.png\" title=\"Douglas W. Truxillo\"/>\n",
            "</a>\n",
            "</div>\n",
            "<div class=\"team-info-wrapper m_7\" itemscope=\"itemscope\" itemtype=\"https://schema.org/Person\">\n",
            "<a class=\"team-member-name\" href=\"https://www.onebane.com/team/douglas-truxillo-attorney/\">\n",
            "<span class=\"team-member-name a_font-16 a_display-block a_font-weight-bold a_text-transform-up a_color-333\">Douglas W. Truxillo</span>\n",
            "</a>\n",
            "<span class=\"team-member-position a_font-12 a_text-transform-up a_display-block a_color-777 a_letter-spacing-1\">Attorney at Law</span>\n",
            "<div class=\"team-member-desc a_margin-top-20 a_margin-bottom-10 a_display-block\"></div>\n",
            "<div class=\"clearboth\"></div>\n",
            "<ul class=\"mk-employeee-networks\">\n",
            "<li><a href=\"mailto:truxillod@onebane.com\" target=\"_blank\" title=\"Get In Touch With Douglas W. Truxillo\"><svg class=\"mk-svg-icon\" data-cacheid=\"icon-60719d3aa994d\" data-name=\"mk-icon-envelope\" style=\" height:16px; width: 16px; \" viewbox=\"0 0 1792 1792\" xmlns=\"http://www.w3.org/2000/svg\"><path d=\"M1792 710v794q0 66-47 113t-113 47h-1472q-66 0-113-47t-47-113v-794q44 49 101 87 362 246 497 345 57 42 92.5 65.5t94.5 48 110 24.5h2q51 0 110-24.5t94.5-48 92.5-65.5q170-123 498-345 57-39 100-87zm0-294q0 79-49 151t-122 123q-376 261-468 325-10 7-42.5 30.5t-54 38-52 32.5-57.5 27-50 9h-2q-23 0-50-9t-57.5-27-52-32.5-54-38-42.5-30.5q-91-64-262-182.5t-205-142.5q-62-42-117-115.5t-55-136.5q0-78 41.5-130t118.5-52h1472q65 0 112.5 47t47.5 113z\"></path></svg></a></li>\n",
            "<li><a href=\"https://www.facebook.com/onebanelawfirm/\" target=\"_blank\" title=\"Douglas W. Truxillo On Facebook\"><svg class=\"mk-svg-icon\" data-cacheid=\"icon-60719d3aaa391\" data-name=\"mk-moon-facebook\" style=\" height:16px; width: 16px; \" viewbox=\"0 0 512 512\" xmlns=\"http://www.w3.org/2000/svg\"><path d=\"M287.935 512h-95.935v-256h-64v-88.225l64-.029-.104-51.976c0-71.976 19.517-115.77 104.299-115.77h70.588v88.242h-44.115c-33.016 0-34.603 12.328-34.603 35.342l-.131 44.162h79.345l-9.352 88.225-69.927.029-.065 256z\"></path></svg></a></li>\n",
            "</ul>\n",
            "</div>\n",
            "</div>\n",
            "</li>\n",
            "<div class=\"clearboth\"></div>\n",
            "<li class=\"mk-employee-item a_colitem a_align-center a_display-inline-block a_float-left m_7 \">\n",
            "<div class=\"item-holder\">\n",
            "<div class=\"team-thumbnail a_position-relative a_width-100-per a_height-100-per a_overflow-hidden rounded-false\">\n",
            "<a href=\"https://www.onebane.com/team/emily-breaux-attorney/\">\n",
            "<img alt=\"Emily B. Wright\" data-mk-image-src-set='{\"default\":\"https://www.onebane.com/wp-content/uploads/2019/06/emily-breaux_crop-500x500.jpg\",\"2x\":\"https://www.onebane.com/wp-content/uploads/2019/06/emily-breaux_crop.jpg\",\"mobile\":\"\",\"responsive\":\"true\"}' src=\"https://www.onebane.com/wp-content/uploads/bfi_thumb/dummy-transparent-o9k3d67cg9mjqa7ixjynf5p6lqga8j2syt9b1rryx4.png\" title=\"Emily B. Wright\"/>\n",
            "</a>\n",
            "</div>\n",
            "<div class=\"team-info-wrapper m_7\" itemscope=\"itemscope\" itemtype=\"https://schema.org/Person\">\n",
            "<a class=\"team-member-name\" href=\"https://www.onebane.com/team/emily-breaux-attorney/\">\n",
            "<span class=\"team-member-name a_font-16 a_display-block a_font-weight-bold a_text-transform-up a_color-333\">Emily B. Wright</span>\n",
            "</a>\n",
            "<span class=\"team-member-position a_font-12 a_text-transform-up a_display-block a_color-777 a_letter-spacing-1\">Attorney at Law</span>\n",
            "<div class=\"team-member-desc a_margin-top-20 a_margin-bottom-10 a_display-block\"></div>\n",
            "<div class=\"clearboth\"></div>\n",
            "<ul class=\"mk-employeee-networks\">\n",
            "<li><a href=\"mailto:breauxe@onebane.com\" target=\"_blank\" title=\"Get In Touch With Emily B. Wright\"><svg class=\"mk-svg-icon\" data-cacheid=\"icon-60719d3aacc70\" data-name=\"mk-icon-envelope\" style=\" height:16px; width: 16px; \" viewbox=\"0 0 1792 1792\" xmlns=\"http://www.w3.org/2000/svg\"><path d=\"M1792 710v794q0 66-47 113t-113 47h-1472q-66 0-113-47t-47-113v-794q44 49 101 87 362 246 497 345 57 42 92.5 65.5t94.5 48 110 24.5h2q51 0 110-24.5t94.5-48 92.5-65.5q170-123 498-345 57-39 100-87zm0-294q0 79-49 151t-122 123q-376 261-468 325-10 7-42.5 30.5t-54 38-52 32.5-57.5 27-50 9h-2q-23 0-50-9t-57.5-27-52-32.5-54-38-42.5-30.5q-91-64-262-182.5t-205-142.5q-62-42-117-115.5t-55-136.5q0-78 41.5-130t118.5-52h1472q65 0 112.5 47t47.5 113z\"></path></svg></a></li>\n",
            "<li><a href=\"https://www.facebook.com/onebanelawfirm/\" target=\"_blank\" title=\"Emily B. Wright On Facebook\"><svg class=\"mk-svg-icon\" data-cacheid=\"icon-60719d3aad71d\" data-name=\"mk-moon-facebook\" style=\" height:16px; width: 16px; \" viewbox=\"0 0 512 512\" xmlns=\"http://www.w3.org/2000/svg\"><path d=\"M287.935 512h-95.935v-256h-64v-88.225l64-.029-.104-51.976c0-71.976 19.517-115.77 104.299-115.77h70.588v88.242h-44.115c-33.016 0-34.603 12.328-34.603 35.342l-.131 44.162h79.345l-9.352 88.225-69.927.029-.065 256z\"></path></svg></a></li>\n",
            "</ul>\n",
            "</div>\n",
            "</div>\n",
            "</li>\n",
            "</ul>\n",
            "<div class=\"clearboth\"></div>\n",
            "</div>\n",
            "<div class=\"vc_separator wpb_content_element vc_separator_align_center vc_sep_width_100 vc_sep_pos_align_center vc_separator_no_text vc_sep_color_grey\"><span class=\"vc_sep_holder vc_sep_holder_l\"><span class=\"vc_sep_line\"></span></span><span class=\"vc_sep_holder vc_sep_holder_r\"><span class=\"vc_sep_line\"></span></span>\n",
            "</div></div>\n",
            "</div>\n",
            "<div class=\"mk-page-section-wrapper\" data-mk-full-width=\"true\" data-mk-full-width-init=\"true\" data-mk-stretch-content=\"true\">\n",
            "<div class=\"mk-page-section self-hosted full_layout full-width-21 js-el js-master-row \" data-intro-effect=\"false\" id=\"page-section-21\">\n",
            "<div class=\"mk-page-section-inner\">\n",
            "<div class=\"mk-video-color-mask\"></div>\n",
            "</div>\n",
            "<div class=\"page-section-content vc_row-fluid mk-grid \">\n",
            "<div class=\"mk-padding-wrapper wpb_row\">\n",
            "<div class=\"vc_col-sm-12 wpb_column column_container _ height-full\">\n",
            "<h2 class=\"mk-fancy-title mk-animate-element fade-in simple-style color-single\" id=\"fancy-title-23\">\n",
            "<span>\n",
            "\t\t\t\tEmployee Resources\n",
            "\t\t\t</span>\n",
            "</h2>\n",
            "<div class=\"clearboth\"></div>\n",
            "<style>#fancy-title-23 {font-family: \"Playfair Display\"}</style>\n",
            "<div class=\"mk-button-container _ relative block text-center \" id=\"mk-button-24\">\n",
            "<a class=\"mk-button js-smooth-scroll mk-button--dimension-savvy mk-button--size-x-large mk-button--corner-pointed skin-light _ relative text-center font-weight-700 no-backface letter-spacing-2 inline\" href=\"https://www.onebane.com/employee-resources/\" target=\"_blank\"><span class=\"mk-button--text\">LOGIN</span></a>\n",
            "</div>\n",
            "</div>\n",
            "</div>\n",
            "<div class=\"clearboth\"></div>\n",
            "</div>\n",
            "<div class=\"clearboth\"></div>\n",
            "</div>\n",
            "</div>\n",
            "<div class=\"vc_row-full-width vc_clearfix\"></div>\n",
            "<div class=\"wpb_row vc_row vc_row-fluid mk-fullwidth-false attched-false js-master-row mk-grid\" data-mk-stretch-content=\"true\">\n",
            "<div class=\"vc_col-sm-12 wpb_column column_container _ height-full\">\n",
            "<div class=\"mk-padding-divider clearfix\" id=\"padding-26\"></div>\n",
            "<div class=\"vc_separator wpb_content_element vc_separator_align_center vc_sep_width_100 vc_sep_pos_align_center vc_separator_no_text vc_sep_color_grey\" id=\"anchor\"><span class=\"vc_sep_holder vc_sep_holder_l\"><span class=\"vc_sep_line\"></span></span><span class=\"vc_sep_holder vc_sep_holder_r\"><span class=\"vc_sep_line\"></span></span>\n",
            "</div></div>\n",
            "</div>\n",
            "<div class=\"mk-page-section-wrapper\" data-mk-full-width=\"true\" data-mk-full-width-init=\"true\" data-mk-stretch-content=\"true\">\n",
            "<div class=\"mk-page-section self-hosted full_layout full-width-27 js-el js-master-row \" data-intro-effect=\"false\" id=\"page-section-27\">\n",
            "<div class=\"mk-page-section-inner\">\n",
            "<div class=\"mk-video-mask\"></div>\n",
            "<div class=\"mk-video-color-mask\" style=\"background-color:#717f8f;opacity:0.8;\"></div>\n",
            "<div class=\"mk-section-preloader js-el\" data-mk-component=\"Preloader\">\n",
            "<div class=\"mk-section-preloader__icon\"></div>\n",
            "</div>\n",
            "<div class=\"background-layer-holder\">\n",
            "<div class=\"background-layer mk-background-stretch none-blend-effect js-el\" data-mk-component=\"Parallax\" data-mk-img-set='{\"landscape\":{\"desktop\":\"https://www.onebane.com/wp-content/uploads/2015/04/bg-civil-law.jpg\",\"tablet\":\"https://www.onebane.com/wp-content/uploads/2015/04/bg-civil-law-1024x768.jpg\",\"mobile\":\"https://www.onebane.com/wp-content/uploads/2015/04/bg-civil-law-736x414.jpg\"},\"responsive\":\"true\"}' data-mk-lazyload=\"false\" data-parallax-config='{\"speed\" : 0.3 }' id=\"background-layer--27\">\n",
            "<div class=\"mk-color-layer\"></div>\n",
            "</div>\n",
            "</div>\n",
            "</div>\n",
            "<div class=\"page-section-content vc_row-fluid page-section-fullwidth \">\n",
            "<div class=\"mk-padding-wrapper wpb_row\">\n",
            "<div class=\"vc_col-sm-3 wpb_column column_container _ height-full\">\n",
            "</div>\n",
            "<div class=\"vc_col-sm-6 wpb_column column_container _ height-full\">\n",
            "<h2 class=\"mk-fancy-title simple-style anchor color-single\" id=\"fancy-title-30\">\n",
            "<span>\n",
            "<p>Contact Us Today</p>\n",
            "</span>\n",
            "</h2>\n",
            "<div class=\"clearboth\"></div>\n",
            "<style>#fancy-title-30 {font-family: \"Playfair Display\"}</style>\n",
            "<div class=\"mk-contact-form-wrapper s_contact modern-style s_modern contact-light light \">\n",
            "<form class=\"mk-contact-form clearfix\" enctype=\"multipart/form-data\" id=\"mk-contact-form-31\" method=\"post\" novalidate=\"novalidate\">\n",
            "<div class=\"mk-form-row \">\n",
            "<input class=\"text-input s_txt-input\" name=\"name\" placeholder=\"Your Name\" required=\"required\" tabindex=\"186\" type=\"text\" value=\"\"/>\n",
            "</div>\n",
            "<div class=\"mk-form-row \">\n",
            "<input class=\"text-input s_txt-input\" name=\"phone\" placeholder=\"Your Phone Number\" tabindex=\"187\" type=\"text\" value=\"\"/>\n",
            "</div>\n",
            "<div class=\"mk-form-row \">\n",
            "<input class=\"text-input s_txt-input\" data-type=\"email\" name=\"email\" placeholder=\"Your Email\" required=\"required\" tabindex=\"188\" type=\"email\" value=\"\"/>\n",
            "</div><div class=\"mk-form-row\">\n",
            "<textarea class=\"mk-textarea s_txt-input\" name=\"content\" placeholder=\"Your Message\" required=\"required\" tabindex=\"189\"></textarea>\n",
            "</div><div class=\"mk-form-row mk-gdpr-consent-check\">\n",
            "<div class=\"s_form-all\">\n",
            "<input class=\"mk-checkbox\" id=\"gdpr_check_190\" name=\"contact_form_gdpr_check\" required=\"required\" tabindex=\"190\" type=\"checkbox\" value=\"\"/> <label for=\"gdpr_check_190\">I consent to Onebane Law Firm collecting my details through this form.</label>\n",
            "</div>\n",
            "</div>\n",
            "<div class=\"mk-form-row\" style=\"float:left;\">\n",
            "<button class=\"mk-progress-button mk-button contact-form-button mk-button--dimension-outline mk-button--size-medium skin-light\" data-style=\"move-up\" tabindex=\"191\">\n",
            "<span class=\"mk-progress-button-content\">\n",
            "            SEND        </span>\n",
            "<span class=\"mk-progress\">\n",
            "<span class=\"mk-progress-inner\"></span>\n",
            "</span>\n",
            "<span class=\"state-success\">\n",
            "<svg class=\"mk-svg-icon\" data-cacheid=\"icon-60719d3ab33f9\" data-name=\"mk-moon-checkmark\" style=\" height:16px; width: 16px; \" viewbox=\"0 0 512 512\" xmlns=\"http://www.w3.org/2000/svg\"><path d=\"M432 64l-240 240-112-112-80 80 192 192 320-320z\"></path></svg> </span>\n",
            "<span class=\"state-error\">\n",
            "<svg class=\"mk-svg-icon\" data-cacheid=\"icon-60719d3ab3f46\" data-name=\"mk-moon-close\" style=\" height:16px; width: 16px; \" viewbox=\"0 0 512 512\" xmlns=\"http://www.w3.org/2000/svg\"><path d=\"M507.331 411.33l-.006-.005-155.322-155.325 155.322-155.325.006-.005c1.672-1.673 2.881-3.627 3.656-5.708 2.123-5.688.912-12.341-3.662-16.915l-73.373-73.373c-4.574-4.573-11.225-5.783-16.914-3.66-2.08.775-4.035 1.984-5.709 3.655l-.004.005-155.324 155.326-155.324-155.325-.005-.005c-1.673-1.671-3.627-2.88-5.707-3.655-5.69-2.124-12.341-.913-16.915 3.66l-73.374 73.374c-4.574 4.574-5.784 11.226-3.661 16.914.776 2.08 1.985 4.036 3.656 5.708l.005.005 155.325 155.324-155.325 155.326-.004.005c-1.671 1.673-2.88 3.627-3.657 5.707-2.124 5.688-.913 12.341 3.661 16.915l73.374 73.373c4.575 4.574 11.226 5.784 16.915 3.661 2.08-.776 4.035-1.985 5.708-3.656l.005-.005 155.324-155.325 155.324 155.325.006.004c1.674 1.672 3.627 2.881 5.707 3.657 5.689 2.123 12.342.913 16.914-3.661l73.373-73.374c4.574-4.574 5.785-11.227 3.662-16.915-.776-2.08-1.985-4.034-3.657-5.707z\"></path></svg> </span>\n",
            "</button>\n",
            "</div>\n",
            "<input id=\"security\" name=\"security\" type=\"hidden\" value=\"3b49c2af9d\"/><input name=\"_wp_http_referer\" type=\"hidden\" value=\"/\"/><input id=\"sh_id\" name=\"sh_id\" type=\"hidden\" value=\"192\"/><input id=\"p_id\" name=\"p_id\" type=\"hidden\" value=\"5233\"/> <div class=\"contact-form-message clearfix\"></div>\n",
            "</form>\n",
            "</div>\n",
            "</div>\n",
            "<div class=\"vc_col-sm-3 wpb_column column_container _ height-full\">\n",
            "</div>\n",
            "</div>\n",
            "<div class=\"clearboth\"></div>\n",
            "</div>\n",
            "<div class=\"clearboth\"></div>\n",
            "</div>\n",
            "</div>\n",
            "<div class=\"vc_row-full-width vc_clearfix\"></div>\n",
            "<div class=\"wpb_row vc_row vc_row-fluid mk-fullwidth-false attched-false js-master-row mk-grid\" data-mk-stretch-content=\"true\">\n",
            "<div class=\"vc_col-sm-12 wpb_column column_container _ height-full\">\n",
            "<div class=\"wpb_gmaps_widget wpb_content_element\"><div class=\"wpb_wrapper\"><div class=\"wpb_map_wraper\"><iframe allowfullscreen=\"\" frameborder=\"0\" height=\"450\" src=\"https://www.google.com/maps/embed?pb=!1m18!1m12!1m3!1d3449.2534930255088!2d-92.04269368357865!3d30.17275198183592!2m3!1f0!2f0!3f0!3m2!1i1024!2i768!4f13.1!3m3!1m2!1s0x86249dbb921a90ab%3A0x7e4451c036b80ba0!2sOnebane+Law+Firm!5e0!3m2!1sen!2sus!4v1563818210172!5m2!1sen!2sus\" style=\"border:0\" width=\"600\"></iframe></div></div></div></div>\n",
            "</div>\n",
            "<div class=\"clearboth\"></div>\n",
            "<div class=\"clearboth\"></div>\n",
            "</div>\n",
            "<div class=\"clearboth\"></div>\n",
            "</div>\n",
            "</div>\n",
            "</div>\n",
            "<section id=\"mk-footer-unfold-spacer\"></section>\n",
            "<section class=\" mk-footer-unfold\" id=\"mk-footer\" itemscope=\"itemscope\" itemtype=\"https://schema.org/WPFooter\" role=\"contentinfo\">\n",
            "<div class=\"footer-wrapper mk-grid\">\n",
            "<div class=\"mk-padding-wrapper\">\n",
            "<div class=\"mk-col-1-4\"><section class=\"widget widget_text\" id=\"text-8\"><div class=\"widgettitle\">PHYSICAL ADDRESS</div> <div class=\"textwidget\"><p>1200 Camellia Blvd. Suite 300<br/>\n",
            "Lafayette, LA 70508<br/>\n",
            "Email: info@onebane.com<br/>\n",
            "Phone: (337) 237-2660</p>\n",
            "</div>\n",
            "</section></div>\n",
            "<div class=\"mk-col-1-4\"><section class=\"widget widget_text\" id=\"text-9\"><div class=\"widgettitle\">MAILING ADDRESS</div> <div class=\"textwidget\">Post Office Box 3507</div></section></div></div></div></section></div></div></body></html>\r\n",
            "Lafayette, LA 70502-3507\n",
            "\n",
            "<div class=\"mk-col-1-4\"><section class=\"widget widget_text\" id=\"text-11\"><div class=\"widgettitle\">DISCLAIMER</div> <div class=\"textwidget\"><p>The information contained herein presents general information about our firm and is not intended to constitute legal advice. Before acting on any of the materials presented here, we advise you to seek legal counsel. </p>\n",
            "</div>\n",
            "</section></div>\n",
            "<div class=\"mk-col-1-4\"><section class=\"widget widget_text\" id=\"text-13\"> <div class=\"textwidget\"><p>We invite you to contact us and welcome your calls, letters, and e-mail; however, contacting us does not create an attorney-client relationship. Please refrain from sending any confidential information to us until such time as an attorney-client relationship has been established.</p>\n",
            "</div>\n",
            "</section></div>\n",
            "<div class=\"clearboth\"></div>\n",
            "\n",
            "\n",
            "<div id=\"sub-footer\">\n",
            "<div class=\" mk-grid\">\n",
            "<span class=\"mk-footer-copyright\">All Rights Reserved ©2019 Onebane Law Firm</span>\n",
            "</div>\n",
            "<div class=\"clearboth\"></div>\n",
            "</div>\n",
            "\n",
            "\n",
            "\n",
            "<div class=\"bottom-corner-btns js-bottom-corner-btns\">\n",
            "<a class=\"mk-go-top js-smooth-scroll js-bottom-corner-btn js-bottom-corner-btn--back\" href=\"#top-of-page\">\n",
            "<svg class=\"mk-svg-icon\" data-cacheid=\"icon-60719d3ab9155\" data-name=\"mk-icon-chevron-up\" style=\" height:16px; width: 16px; \" viewbox=\"0 0 1792 1792\" xmlns=\"http://www.w3.org/2000/svg\"><path d=\"M1683 1331l-166 165q-19 19-45 19t-45-19l-531-531-531 531q-19 19-45 19t-45-19l-166-165q-19-19-19-45.5t19-45.5l742-741q19-19 45-19t45 19l742 741q19 19 19 45.5t-19 45.5z\"></path></svg></a>\n",
            "</div>\n",
            "<style type=\"text/css\"></style><style id=\"mk-shortcode-static-styles\" type=\"text/css\"> #padding-4 { height:200px; } .full-width-2 { min-height:940px; margin-bottom:0px; background-color:#0a0a0a; } .full-width-2 .page-section-content { padding:149px 0 0px; } #background-layer--2 { ; background-position:center bottom; background-repeat:no-repeat; ; } #background-layer--2 .mk-color-layer { ; width:100%; height:100%; position:absolute; top:0; left:0; } .full-width-2 .mk-fancy-title.pattern-style span, .full-width-2 .mk-blog-view-all { background-color:#0a0a0a !important; } #page-section-2.mk-adaptive-height { } .mk-adaptive-height #background-layer--2 { } #page-section-2 .mk-adaptive-image { opacity:0; max-height:1441px; min-height:940px } #page-section-2 .mk-adaptive-image.mk-background-stretch { width:100%; } .vc_custom_1562428066083 { } #fancy-title-6{letter-spacing:0px;text-transform:none;font-size:16px;color:#ffffff;text-align:center;font-style:inherit;font-weight:inherit;padding-top:26px;padding-bottom:6px;}#fancy-title-6 span{}#fancy-title-6 span i{font-style:inherit;} @media handheld, only screen and (max-width:767px) { #fancy-title-6 { text-align:center !important; } }  #fancy-title-8{letter-spacing:0px;text-transform:capitalize;font-size:50px;color:#29497a;text-align:center;font-style:inherit;font-weight:inherit;padding-top:120px;padding-bottom:0px;}#fancy-title-8 span{}#fancy-title-8 span i{font-style:inherit;} @media handheld, only screen and (max-width:767px) { #fancy-title-8 { text-align:center !important; } } #text-block-9 { margin-bottom:0px; text-align:center; } #divider-10 { padding:30px 0 120px; } #divider-10 .divider-inner { border-top-width:3px; width:30px } #divider-10 .divider-inner:after { }  .full-width-12 { min-height:404px; margin-bottom:0px; } .full-width-12 .page-section-content { padding:10px 0 10px; } #background-layer--12 { ; background-position:left top; background-repeat:repeat; ; } #background-layer--12 .mk-color-layer { ; width:100%; height:100%; position:absolute; top:0; left:0; }  #padding-14 { height:120px; }  #fancy-title-16{letter-spacing:0px;text-transform:capitalize;font-size:50px;color:#29497a;text-align:center;font-style:inherit;font-weight:inherit;padding-top:120px;padding-bottom:0px;}#fancy-title-16 span{}#fancy-title-16 span i{font-style:inherit;} @media handheld, only screen and (max-width:767px) { #fancy-title-16 { text-align:center !important; } } #divider-17 { padding:30px 0 80px; } #divider-17 .divider-inner { border-top-width:3px; border-top-color:#bfbfbf; width:30px } #divider-17 .divider-inner:after { } .full-width-18 { min-height:100px; margin-bottom:0px; } .full-width-18 .page-section-content { padding:10px 0 10px; } #background-layer--18 { ; background-position:left top; background-repeat:repeat; ; } #background-layer--18 .mk-color-layer { ; width:100%; height:100%; position:absolute; top:0; left:0; }   #fancy-title-23{letter-spacing:0px;text-transform:initial;font-size:48px;color:#ffffff;text-align:center;font-style:inherit;font-weight:600;padding-top:79px;padding-bottom:11px;}#fancy-title-23 span{}#fancy-title-23 span i{font-style:inherit;} @media handheld, only screen and (max-width:767px) { #fancy-title-23 { text-align:center !important; } } #mk-button-24 { margin-bottom:15px; margin-top:0px; margin-right:15px; } #mk-button-24 .mk-button { display:inline-block; max-width:100%; } .full-width-21 { min-height:100px; margin-bottom:0px; background-color:#29497a; } .full-width-21 .page-section-content { padding:10px 0 10px; } #background-layer--21 { ; background-position:center center; background-repeat:repeat; ; } #background-layer--21 .mk-color-layer { ; width:100%; height:100%; position:absolute; top:0; left:0; } .full-width-21 .mk-fancy-title.pattern-style span, .full-width-21 .mk-blog-view-all { background-color:#29497a !important; }  #padding-26 { height:120px; }   #fancy-title-30{letter-spacing:0px;text-transform:capitalize;font-size:60px;color:#ffffff;text-align:center;font-style:inherit;font-weight:inherit;padding-top:0px;padding-bottom:18px;}#fancy-title-30 span{}#fancy-title-30 span i{font-style:inherit;} @media handheld, only screen and (max-width:767px) { #fancy-title-30 { text-align:left !important; } }  .full-width-27 { min-height:0px; margin-bottom:0px; } .full-width-27 .page-section-content { padding:120px 0 120px; } #background-layer--27 { ; background-position:left top; background-repeat:no-repeat; position:absolute;; } #background-layer--27 .mk-color-layer { ; width:100%; height:100%; position:absolute; top:0; left:0; } </style><script type=\"text/javascript\">\n",
            "    php = {\n",
            "        hasAdminbar: false,\n",
            "        json: (null != null) ? null : \"\",\n",
            "        jsPath: 'https://www.onebane.com/wp-content/themes/jupiter/assets/js'\n",
            "      };\n",
            "    </script><link href=\"//fonts.googleapis.com/css?family=Playfair+Display%3A100italic%2C200italic%2C300italic%2C400italic%2C500italic%2C600italic%2C700italic%2C800italic%2C900italic%2C100%2C200%2C300%2C400%2C500%2C600%2C700%2C800%2C900&amp;ver=5.7\" id=\"Playfair+Display-css\" media=\"all\" rel=\"stylesheet\" type=\"text/css\"/>\n",
            "<script id=\"core-scripts-js\" src=\"https://www.onebane.com/wp-content/themes/jupiter/assets/js/core-scripts.6.2.0.js?ver=1560960268\" type=\"text/javascript\"></script>\n",
            "<script id=\"components-full-js\" src=\"https://www.onebane.com/wp-content/themes/jupiter/assets/js/components-full.6.2.0.js?ver=1560960268\" type=\"text/javascript\"></script>\n",
            "<script id=\"smoothscroll-js\" src=\"https://www.onebane.com/wp-content/themes/jupiter/assets/js/plugins/wp-enqueue/smoothscroll.js?ver=1560960268\" type=\"text/javascript\"></script>\n",
            "<script id=\"mkhb-render-js\" src=\"https://www.onebane.com/wp-content/themes/jupiter/header-builder/includes/assets/js/mkhb-render.js?ver=6.2.0\" type=\"text/javascript\"></script>\n",
            "<script id=\"mkhb-column-js\" src=\"https://www.onebane.com/wp-content/themes/jupiter/header-builder/includes/assets/js/mkhb-column.js?ver=6.2.0\" type=\"text/javascript\"></script>\n",
            "<script id=\"wp-embed-js\" src=\"https://www.onebane.com/wp-includes/js/wp-embed.min.js?ver=5.7\" type=\"text/javascript\"></script>\n",
            "<script id=\"wpb_composer_front_js-js\" src=\"https://www.onebane.com/wp-content/plugins/js_composer_theme/assets/js/dist/js_composer_front.min.js?ver=6.0.3\" type=\"text/javascript\"></script>\n",
            "<script type=\"text/javascript\">\twindow.get = {};\twindow.get.captcha = function(enteredCaptcha) {\n",
            "                  return jQuery.get(ajaxurl, { action : \"mk_validate_captcha_input\", captcha: enteredCaptcha });\n",
            "              \t};</script>\n",
            "\n",
            "\n",
            "\n"
          ],
          "name": "stdout"
        }
      ]
    },
    {
      "cell_type": "code",
      "metadata": {
        "colab": {
          "base_uri": "https://localhost:8080/"
        },
        "id": "IdDbPr6AF-mu",
        "outputId": "d2a63a42-4ffb-42d5-8526-409dc43a67a0"
      },
      "source": [
        "team_members"
      ],
      "execution_count": 180,
      "outputs": [
        {
          "output_type": "execute_result",
          "data": {
            "text/plain": [
              "[<div class=\"team-thumbnail a_position-relative a_width-100-per a_height-100-per a_overflow-hidden rounded-false\">\n",
              " <a href=\"https://www.onebane.com/team/karen-ancelet-attorney/\">\n",
              " <img alt=\"Karen Daniel Ancelet\" data-mk-image-src-set='{\"default\":\"https://www.onebane.com/wp-content/uploads/2019/06/karen-ancelet_crop-500x500.jpg\",\"2x\":\"https://www.onebane.com/wp-content/uploads/2019/06/karen-ancelet_crop.jpg\",\"mobile\":\"\",\"responsive\":\"true\"}' src=\"https://www.onebane.com/wp-content/uploads/bfi_thumb/dummy-transparent-o9k3d67cg9mjqa7ixjynf5p6lqga8j2syt9b1rryx4.png\" title=\"Karen Daniel Ancelet\"/>\n",
              " </a>\n",
              " </div>,\n",
              " <div class=\"team-thumbnail a_position-relative a_width-100-per a_height-100-per a_overflow-hidden rounded-false\">\n",
              " <a href=\"https://www.onebane.com/team/james-bayard-attorney/\">\n",
              " <img alt=\"James D. Bayard\" data-mk-image-src-set='{\"default\":\"https://www.onebane.com/wp-content/uploads/2019/06/james-bayard_crop-500x500.jpg\",\"2x\":\"https://www.onebane.com/wp-content/uploads/2019/06/james-bayard_crop.jpg\",\"mobile\":\"\",\"responsive\":\"true\"}' src=\"https://www.onebane.com/wp-content/uploads/bfi_thumb/dummy-transparent-o9k3d67cg9mjqa7ixjynf5p6lqga8j2syt9b1rryx4.png\" title=\"James D. Bayard\"/>\n",
              " </a>\n",
              " </div>,\n",
              " <div class=\"team-thumbnail a_position-relative a_width-100-per a_height-100-per a_overflow-hidden rounded-false\">\n",
              " <a href=\"https://www.onebane.com/team/michael-durand-attorney/\">\n",
              " <img alt=\"Michael G. Durand\" data-mk-image-src-set='{\"default\":\"https://www.onebane.com/wp-content/uploads/2019/06/mike-durand_crop-500x500.jpg\",\"2x\":\"https://www.onebane.com/wp-content/uploads/2019/06/mike-durand_crop.jpg\",\"mobile\":\"\",\"responsive\":\"true\"}' src=\"https://www.onebane.com/wp-content/uploads/bfi_thumb/dummy-transparent-o9k3d67cg9mjqa7ixjynf5p6lqga8j2syt9b1rryx4.png\" title=\"Michael G. Durand\"/>\n",
              " </a>\n",
              " </div>,\n",
              " <div class=\"team-thumbnail a_position-relative a_width-100-per a_height-100-per a_overflow-hidden rounded-false\">\n",
              " <a href=\"https://www.onebane.com/team/roger-ishee-attorney/\">\n",
              " <img alt=\"Roger E. Ishee\" data-mk-image-src-set='{\"default\":\"https://www.onebane.com/wp-content/uploads/2019/06/roger-ishee_crop-500x500.jpg\",\"2x\":\"https://www.onebane.com/wp-content/uploads/2019/06/roger-ishee_crop.jpg\",\"mobile\":\"\",\"responsive\":\"true\"}' src=\"https://www.onebane.com/wp-content/uploads/bfi_thumb/dummy-transparent-o9k3d67cg9mjqa7ixjynf5p6lqga8j2syt9b1rryx4.png\" title=\"Roger E. Ishee\"/>\n",
              " </a>\n",
              " </div>,\n",
              " <div class=\"team-thumbnail a_position-relative a_width-100-per a_height-100-per a_overflow-hidden rounded-false\">\n",
              " <a href=\"https://www.onebane.com/team/william-kellner-attorney/\">\n",
              " <img alt=\"William E. Kellner\" data-mk-image-src-set='{\"default\":\"https://www.onebane.com/wp-content/uploads/2019/06/bill-kellner_crop-500x500.jpg\",\"2x\":\"https://www.onebane.com/wp-content/uploads/2019/06/bill-kellner_crop.jpg\",\"mobile\":\"\",\"responsive\":\"true\"}' src=\"https://www.onebane.com/wp-content/uploads/bfi_thumb/dummy-transparent-o9k3d67cg9mjqa7ixjynf5p6lqga8j2syt9b1rryx4.png\" title=\"William E. Kellner\"/>\n",
              " </a>\n",
              " </div>,\n",
              " <div class=\"team-thumbnail a_position-relative a_width-100-per a_height-100-per a_overflow-hidden rounded-false\">\n",
              " <a href=\"https://www.onebane.com/team/steven-lanza-attorney/\">\n",
              " <img alt=\"Steven C. Lanza\" data-mk-image-src-set='{\"default\":\"https://www.onebane.com/wp-content/uploads/2019/06/steve-lanza_crop-500x500.jpg\",\"2x\":\"https://www.onebane.com/wp-content/uploads/2019/06/steve-lanza_crop.jpg\",\"mobile\":\"\",\"responsive\":\"true\"}' src=\"https://www.onebane.com/wp-content/uploads/bfi_thumb/dummy-transparent-o9k3d67cg9mjqa7ixjynf5p6lqga8j2syt9b1rryx4.png\" title=\"Steven C. Lanza\"/>\n",
              " </a>\n",
              " </div>,\n",
              " <div class=\"team-thumbnail a_position-relative a_width-100-per a_height-100-per a_overflow-hidden rounded-false\">\n",
              " <a href=\"https://www.onebane.com/team/lawrence-lewis-attorney/\">\n",
              " <img alt=\"Lawrence L. Lewis III\" data-mk-image-src-set='{\"default\":\"https://www.onebane.com/wp-content/uploads/2019/06/larry-lewis_crop-500x500.jpg\",\"2x\":\"https://www.onebane.com/wp-content/uploads/2019/06/larry-lewis_crop.jpg\",\"mobile\":\"\",\"responsive\":\"true\"}' src=\"https://www.onebane.com/wp-content/uploads/bfi_thumb/dummy-transparent-o9k3d67cg9mjqa7ixjynf5p6lqga8j2syt9b1rryx4.png\" title=\"Lawrence L. Lewis III\"/>\n",
              " </a>\n",
              " </div>,\n",
              " <div class=\"team-thumbnail a_position-relative a_width-100-per a_height-100-per a_overflow-hidden rounded-false\">\n",
              " <a href=\"https://www.onebane.com/team/sue-mann-attorney/\">\n",
              " <img alt=\"Sue “Sudie” Tannehill Mann\" data-mk-image-src-set='{\"default\":\"https://www.onebane.com/wp-content/uploads/2019/06/sue-mann_crop-500x500.jpg\",\"2x\":\"https://www.onebane.com/wp-content/uploads/2019/06/sue-mann_crop.jpg\",\"mobile\":\"\",\"responsive\":\"true\"}' src=\"https://www.onebane.com/wp-content/uploads/bfi_thumb/dummy-transparent-o9k3d67cg9mjqa7ixjynf5p6lqga8j2syt9b1rryx4.png\" title=\"Sue “Sudie” Tannehill Mann\"/>\n",
              " </a>\n",
              " </div>,\n",
              " <div class=\"team-thumbnail a_position-relative a_width-100-per a_height-100-per a_overflow-hidden rounded-false\">\n",
              " <a href=\"https://www.onebane.com/team/gregory-moroux-attorney/\">\n",
              " <img alt=\"Gregory K. Moroux\" data-mk-image-src-set='{\"default\":\"https://www.onebane.com/wp-content/uploads/2019/06/greg-m-thumb-250x250-500x500.jpg\",\"2x\":\"https://www.onebane.com/wp-content/uploads/2019/06/greg-m-thumb-250x250.jpg\",\"mobile\":\"\",\"responsive\":\"true\"}' src=\"https://www.onebane.com/wp-content/uploads/bfi_thumb/dummy-transparent-o9k3d67cg9mjqa7ixjynf5p6lqga8j2syt9b1rryx4.png\" title=\"Gregory K. Moroux\"/>\n",
              " </a>\n",
              " </div>,\n",
              " <div class=\"team-thumbnail a_position-relative a_width-100-per a_height-100-per a_overflow-hidden rounded-false\">\n",
              " <a href=\"https://www.onebane.com/team/richard-petre-attorney/\">\n",
              " <img alt=\"Richard J. Petre, Jr.\" data-mk-image-src-set='{\"default\":\"https://www.onebane.com/wp-content/uploads/2019/06/richard-petre_crop-500x500.jpg\",\"2x\":\"https://www.onebane.com/wp-content/uploads/2019/06/richard-petre_crop.jpg\",\"mobile\":\"\",\"responsive\":\"true\"}' src=\"https://www.onebane.com/wp-content/uploads/bfi_thumb/dummy-transparent-o9k3d67cg9mjqa7ixjynf5p6lqga8j2syt9b1rryx4.png\" title=\"Richard J. Petre, Jr.\"/>\n",
              " </a>\n",
              " </div>,\n",
              " <div class=\"team-thumbnail a_position-relative a_width-100-per a_height-100-per a_overflow-hidden rounded-false\">\n",
              " <a href=\"https://www.onebane.com/team/christopher-peyton-attorney/\">\n",
              " <img alt=\"Christopher J. Peyton\" data-mk-image-src-set='{\"default\":\"https://www.onebane.com/wp-content/uploads/2019/06/chris_crop-500x500.jpg\",\"2x\":\"https://www.onebane.com/wp-content/uploads/2019/06/chris_crop.jpg\",\"mobile\":\"\",\"responsive\":\"true\"}' src=\"https://www.onebane.com/wp-content/uploads/bfi_thumb/dummy-transparent-o9k3d67cg9mjqa7ixjynf5p6lqga8j2syt9b1rryx4.png\" title=\"Christopher J. Peyton\"/>\n",
              " </a>\n",
              " </div>,\n",
              " <div class=\"team-thumbnail a_position-relative a_width-100-per a_height-100-per a_overflow-hidden rounded-false\">\n",
              " <a href=\"https://www.onebane.com/team/craig-ryan-attorney/\">\n",
              " <img alt=\"Craig A. Ryan\" data-mk-image-src-set='{\"default\":\"https://www.onebane.com/wp-content/uploads/2019/06/craig-ryan_img_5702_crop-500x500.jpg\",\"2x\":\"https://www.onebane.com/wp-content/uploads/2019/06/craig-ryan_img_5702_crop.jpg\",\"mobile\":\"\",\"responsive\":\"true\"}' src=\"https://www.onebane.com/wp-content/uploads/bfi_thumb/dummy-transparent-o9k3d67cg9mjqa7ixjynf5p6lqga8j2syt9b1rryx4.png\" title=\"Craig A. Ryan\"/>\n",
              " </a>\n",
              " </div>,\n",
              " <div class=\"team-thumbnail a_position-relative a_width-100-per a_height-100-per a_overflow-hidden rounded-false\">\n",
              " <a href=\"https://www.onebane.com/team/jeremy-shealy-attorney/\">\n",
              " <img alt=\"Jeremy B. Shealy\" data-mk-image-src-set='{\"default\":\"https://www.onebane.com/wp-content/uploads/2019/06/jeremy-shealy_crop-500x500.jpg\",\"2x\":\"https://www.onebane.com/wp-content/uploads/2019/06/jeremy-shealy_crop.jpg\",\"mobile\":\"\",\"responsive\":\"true\"}' src=\"https://www.onebane.com/wp-content/uploads/bfi_thumb/dummy-transparent-o9k3d67cg9mjqa7ixjynf5p6lqga8j2syt9b1rryx4.png\" title=\"Jeremy B. Shealy\"/>\n",
              " </a>\n",
              " </div>,\n",
              " <div class=\"team-thumbnail a_position-relative a_width-100-per a_height-100-per a_overflow-hidden rounded-false\">\n",
              " <a href=\"https://www.onebane.com/team/thomas-smart-attorney/\">\n",
              " <img alt=\"Thomas G. Smart\" data-mk-image-src-set='{\"default\":\"https://www.onebane.com/wp-content/uploads/2019/06/tommy-smart_crop-500x500.jpg\",\"2x\":\"https://www.onebane.com/wp-content/uploads/2019/06/tommy-smart_crop.jpg\",\"mobile\":\"\",\"responsive\":\"true\"}' src=\"https://www.onebane.com/wp-content/uploads/bfi_thumb/dummy-transparent-o9k3d67cg9mjqa7ixjynf5p6lqga8j2syt9b1rryx4.png\" title=\"Thomas G. Smart\"/>\n",
              " </a>\n",
              " </div>,\n",
              " <div class=\"team-thumbnail a_position-relative a_width-100-per a_height-100-per a_overflow-hidden rounded-false\">\n",
              " <a href=\"https://www.onebane.com/team/douglas-truxillo-attorney/\">\n",
              " <img alt=\"Douglas W. Truxillo\" data-mk-image-src-set='{\"default\":\"https://www.onebane.com/wp-content/uploads/2019/06/doug-truxillo_crop-500x500.jpg\",\"2x\":\"https://www.onebane.com/wp-content/uploads/2019/06/doug-truxillo_crop.jpg\",\"mobile\":\"\",\"responsive\":\"true\"}' src=\"https://www.onebane.com/wp-content/uploads/bfi_thumb/dummy-transparent-o9k3d67cg9mjqa7ixjynf5p6lqga8j2syt9b1rryx4.png\" title=\"Douglas W. Truxillo\"/>\n",
              " </a>\n",
              " </div>,\n",
              " <div class=\"team-thumbnail a_position-relative a_width-100-per a_height-100-per a_overflow-hidden rounded-false\">\n",
              " <a href=\"https://www.onebane.com/team/emily-breaux-attorney/\">\n",
              " <img alt=\"Emily B. Wright\" data-mk-image-src-set='{\"default\":\"https://www.onebane.com/wp-content/uploads/2019/06/emily-breaux_crop-500x500.jpg\",\"2x\":\"https://www.onebane.com/wp-content/uploads/2019/06/emily-breaux_crop.jpg\",\"mobile\":\"\",\"responsive\":\"true\"}' src=\"https://www.onebane.com/wp-content/uploads/bfi_thumb/dummy-transparent-o9k3d67cg9mjqa7ixjynf5p6lqga8j2syt9b1rryx4.png\" title=\"Emily B. Wright\"/>\n",
              " </a>\n",
              " </div>]"
            ]
          },
          "metadata": {
            "tags": []
          },
          "execution_count": 180
        }
      ]
    },
    {
      "cell_type": "code",
      "metadata": {
        "id": "UOiMrHLy6965",
        "colab": {
          "base_uri": "https://localhost:8080/",
          "height": 35
        },
        "outputId": "15c8bd4a-12c5-46d7-8302-80d151b470cd"
      },
      "source": [
        "team_members= soup.find_all('div', class_ = \"team-thumbnail\")\n",
        "team_members[1].a['href']\n"
      ],
      "execution_count": 181,
      "outputs": [
        {
          "output_type": "execute_result",
          "data": {
            "application/vnd.google.colaboratory.intrinsic+json": {
              "type": "string"
            },
            "text/plain": [
              "'https://www.onebane.com/team/james-bayard-attorney/'"
            ]
          },
          "metadata": {
            "tags": []
          },
          "execution_count": 181
        }
      ]
    },
    {
      "cell_type": "code",
      "metadata": {
        "colab": {
          "base_uri": "https://localhost:8080/"
        },
        "id": "J7JcCXzyGFyY",
        "outputId": "c856fc00-0baa-454c-f636-2b4f8bbb50f2"
      },
      "source": [
        "len(team_members)"
      ],
      "execution_count": 182,
      "outputs": [
        {
          "output_type": "execute_result",
          "data": {
            "text/plain": [
              "16"
            ]
          },
          "metadata": {
            "tags": []
          },
          "execution_count": 182
        }
      ]
    },
    {
      "cell_type": "code",
      "metadata": {
        "colab": {
          "base_uri": "https://localhost:8080/",
          "height": 35
        },
        "id": "b3zEXcOXFm_N",
        "outputId": "6eef8d7b-f137-494c-d561-88054bc54433"
      },
      "source": [
        "team_members[1].a.img['alt']\n"
      ],
      "execution_count": 183,
      "outputs": [
        {
          "output_type": "execute_result",
          "data": {
            "application/vnd.google.colaboratory.intrinsic+json": {
              "type": "string"
            },
            "text/plain": [
              "'James D. Bayard'"
            ]
          },
          "metadata": {
            "tags": []
          },
          "execution_count": 183
        }
      ]
    },
    {
      "cell_type": "code",
      "metadata": {
        "id": "1ygRLZ6n97pe"
      },
      "source": [
        "team = []\n",
        "attorney_names = []\n",
        "for i in range(len(attorney_list)):\n",
        "    team.append(team_members[i].a['href'])\n",
        "    attorney_names.append(team_members[i].a.img['alt'])\n",
        "\n"
      ],
      "execution_count": 185,
      "outputs": []
    },
    {
      "cell_type": "code",
      "metadata": {
        "colab": {
          "base_uri": "https://localhost:8080/"
        },
        "id": "y2bbzgUeHM8g",
        "outputId": "1201c64b-84d2-4ff8-9ac1-cb9083ae941c"
      },
      "source": [
        "pprint(team)"
      ],
      "execution_count": 186,
      "outputs": [
        {
          "output_type": "stream",
          "text": [
            "['https://www.onebane.com/team/karen-ancelet-attorney/',\n",
            " 'https://www.onebane.com/team/james-bayard-attorney/',\n",
            " 'https://www.onebane.com/team/michael-durand-attorney/',\n",
            " 'https://www.onebane.com/team/roger-ishee-attorney/',\n",
            " 'https://www.onebane.com/team/william-kellner-attorney/',\n",
            " 'https://www.onebane.com/team/steven-lanza-attorney/',\n",
            " 'https://www.onebane.com/team/lawrence-lewis-attorney/',\n",
            " 'https://www.onebane.com/team/sue-mann-attorney/',\n",
            " 'https://www.onebane.com/team/gregory-moroux-attorney/',\n",
            " 'https://www.onebane.com/team/richard-petre-attorney/',\n",
            " 'https://www.onebane.com/team/christopher-peyton-attorney/',\n",
            " 'https://www.onebane.com/team/craig-ryan-attorney/',\n",
            " 'https://www.onebane.com/team/jeremy-shealy-attorney/',\n",
            " 'https://www.onebane.com/team/thomas-smart-attorney/',\n",
            " 'https://www.onebane.com/team/douglas-truxillo-attorney/',\n",
            " 'https://www.onebane.com/team/emily-breaux-attorney/']\n"
          ],
          "name": "stdout"
        }
      ]
    },
    {
      "cell_type": "code",
      "metadata": {
        "colab": {
          "base_uri": "https://localhost:8080/"
        },
        "id": "7q1UI-kIHUVc",
        "outputId": "1da11fe0-0171-4ff1-be1f-224d7ee1cf24"
      },
      "source": [
        "pprint(attorney_names)"
      ],
      "execution_count": 187,
      "outputs": [
        {
          "output_type": "stream",
          "text": [
            "['Karen Daniel Ancelet',\n",
            " 'James D. Bayard',\n",
            " 'Michael G. Durand',\n",
            " 'Roger E. Ishee',\n",
            " 'William E. Kellner',\n",
            " 'Steven C. Lanza',\n",
            " 'Lawrence L. Lewis III',\n",
            " 'Sue “Sudie” Tannehill Mann',\n",
            " 'Gregory K. Moroux',\n",
            " 'Richard J. Petre, Jr.',\n",
            " 'Christopher J. Peyton',\n",
            " 'Craig A. Ryan',\n",
            " 'Jeremy B. Shealy',\n",
            " 'Thomas G. Smart',\n",
            " 'Douglas W. Truxillo',\n",
            " 'Emily B. Wright']\n"
          ],
          "name": "stdout"
        }
      ]
    },
    {
      "cell_type": "code",
      "metadata": {
        "colab": {
          "base_uri": "https://localhost:8080/"
        },
        "id": "KrmRE9nVHXsE",
        "outputId": "c2f8f0f9-0979-43f6-950e-aee996d8fa6c"
      },
      "source": [
        "dict = {attorney_names[i]: team[i] for i in range(len(attorney_list))}\n",
        "dict\n"
      ],
      "execution_count": 190,
      "outputs": [
        {
          "output_type": "execute_result",
          "data": {
            "text/plain": [
              "{'Christopher J. Peyton': 'https://www.onebane.com/team/christopher-peyton-attorney/',\n",
              " 'Craig A. Ryan': 'https://www.onebane.com/team/craig-ryan-attorney/',\n",
              " 'Douglas W. Truxillo': 'https://www.onebane.com/team/douglas-truxillo-attorney/',\n",
              " 'Emily B. Wright': 'https://www.onebane.com/team/emily-breaux-attorney/',\n",
              " 'Gregory K. Moroux': 'https://www.onebane.com/team/gregory-moroux-attorney/',\n",
              " 'James D. Bayard': 'https://www.onebane.com/team/james-bayard-attorney/',\n",
              " 'Jeremy B. Shealy': 'https://www.onebane.com/team/jeremy-shealy-attorney/',\n",
              " 'Karen Daniel Ancelet': 'https://www.onebane.com/team/karen-ancelet-attorney/',\n",
              " 'Lawrence L. Lewis III': 'https://www.onebane.com/team/lawrence-lewis-attorney/',\n",
              " 'Michael G. Durand': 'https://www.onebane.com/team/michael-durand-attorney/',\n",
              " 'Richard J. Petre, Jr.': 'https://www.onebane.com/team/richard-petre-attorney/',\n",
              " 'Roger E. Ishee': 'https://www.onebane.com/team/roger-ishee-attorney/',\n",
              " 'Steven C. Lanza': 'https://www.onebane.com/team/steven-lanza-attorney/',\n",
              " 'Sue “Sudie” Tannehill Mann': 'https://www.onebane.com/team/sue-mann-attorney/',\n",
              " 'Thomas G. Smart': 'https://www.onebane.com/team/thomas-smart-attorney/',\n",
              " 'William E. Kellner': 'https://www.onebane.com/team/william-kellner-attorney/'}"
            ]
          },
          "metadata": {
            "tags": []
          },
          "execution_count": 190
        }
      ]
    },
    {
      "cell_type": "code",
      "metadata": {
        "id": "9JEhL1nkH10M"
      },
      "source": [
        ""
      ],
      "execution_count": null,
      "outputs": []
    }
  ]
}