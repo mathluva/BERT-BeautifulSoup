{
  "nbformat": 4,
  "nbformat_minor": 0,
  "metadata": {
    "colab": {
      "name": "BERT-BeautifulSoup.ipynb",
      "provenance": [],
      "collapsed_sections": [],
      "authorship_tag": "ABX9TyO6uJ5sVtj/ej9I80519K5L",
      "include_colab_link": true
    },
    "kernelspec": {
      "name": "python3",
      "display_name": "Python 3"
    },
    "language_info": {
      "name": "python"
    },
    "accelerator": "GPU",
    "widgets": {
      "application/vnd.jupyter.widget-state+json": {
        "9d0f6f7b9d65423eaec43a2c234270a1": {
          "model_module": "@jupyter-widgets/controls",
          "model_name": "HBoxModel",
          "state": {
            "_view_name": "HBoxView",
            "_dom_classes": [],
            "_model_name": "HBoxModel",
            "_view_module": "@jupyter-widgets/controls",
            "_model_module_version": "1.5.0",
            "_view_count": null,
            "_view_module_version": "1.5.0",
            "box_style": "",
            "layout": "IPY_MODEL_38e50013ccd444c0b2ae7ebb853aabdd",
            "_model_module": "@jupyter-widgets/controls",
            "children": [
              "IPY_MODEL_af47eae2235042c0a0aa400d2a2f01c9",
              "IPY_MODEL_bef8247b65c44f9289f0d21016b640b7"
            ]
          }
        },
        "38e50013ccd444c0b2ae7ebb853aabdd": {
          "model_module": "@jupyter-widgets/base",
          "model_name": "LayoutModel",
          "state": {
            "_view_name": "LayoutView",
            "grid_template_rows": null,
            "right": null,
            "justify_content": null,
            "_view_module": "@jupyter-widgets/base",
            "overflow": null,
            "_model_module_version": "1.2.0",
            "_view_count": null,
            "flex_flow": null,
            "width": null,
            "min_width": null,
            "border": null,
            "align_items": null,
            "bottom": null,
            "_model_module": "@jupyter-widgets/base",
            "top": null,
            "grid_column": null,
            "overflow_y": null,
            "overflow_x": null,
            "grid_auto_flow": null,
            "grid_area": null,
            "grid_template_columns": null,
            "flex": null,
            "_model_name": "LayoutModel",
            "justify_items": null,
            "grid_row": null,
            "max_height": null,
            "align_content": null,
            "visibility": null,
            "align_self": null,
            "height": null,
            "min_height": null,
            "padding": null,
            "grid_auto_rows": null,
            "grid_gap": null,
            "max_width": null,
            "order": null,
            "_view_module_version": "1.2.0",
            "grid_template_areas": null,
            "object_position": null,
            "object_fit": null,
            "grid_auto_columns": null,
            "margin": null,
            "display": null,
            "left": null
          }
        },
        "af47eae2235042c0a0aa400d2a2f01c9": {
          "model_module": "@jupyter-widgets/controls",
          "model_name": "FloatProgressModel",
          "state": {
            "_view_name": "ProgressView",
            "style": "IPY_MODEL_92277720d5184bddb80f4aceadb97d00",
            "_dom_classes": [],
            "description": "Downloading: 100%",
            "_model_name": "FloatProgressModel",
            "bar_style": "success",
            "max": 443,
            "_view_module": "@jupyter-widgets/controls",
            "_model_module_version": "1.5.0",
            "value": 443,
            "_view_count": null,
            "_view_module_version": "1.5.0",
            "orientation": "horizontal",
            "min": 0,
            "description_tooltip": null,
            "_model_module": "@jupyter-widgets/controls",
            "layout": "IPY_MODEL_b0755fa7b5e042c19f7b03d510b626ca"
          }
        },
        "bef8247b65c44f9289f0d21016b640b7": {
          "model_module": "@jupyter-widgets/controls",
          "model_name": "HTMLModel",
          "state": {
            "_view_name": "HTMLView",
            "style": "IPY_MODEL_b9448619f2664a4989d02b480407219a",
            "_dom_classes": [],
            "description": "",
            "_model_name": "HTMLModel",
            "placeholder": "​",
            "_view_module": "@jupyter-widgets/controls",
            "_model_module_version": "1.5.0",
            "value": " 443/443 [00:35&lt;00:00, 12.5B/s]",
            "_view_count": null,
            "_view_module_version": "1.5.0",
            "description_tooltip": null,
            "_model_module": "@jupyter-widgets/controls",
            "layout": "IPY_MODEL_f1dcdc5db69c4854b4fe5f8d067b8887"
          }
        },
        "92277720d5184bddb80f4aceadb97d00": {
          "model_module": "@jupyter-widgets/controls",
          "model_name": "ProgressStyleModel",
          "state": {
            "_view_name": "StyleView",
            "_model_name": "ProgressStyleModel",
            "description_width": "initial",
            "_view_module": "@jupyter-widgets/base",
            "_model_module_version": "1.5.0",
            "_view_count": null,
            "_view_module_version": "1.2.0",
            "bar_color": null,
            "_model_module": "@jupyter-widgets/controls"
          }
        },
        "b0755fa7b5e042c19f7b03d510b626ca": {
          "model_module": "@jupyter-widgets/base",
          "model_name": "LayoutModel",
          "state": {
            "_view_name": "LayoutView",
            "grid_template_rows": null,
            "right": null,
            "justify_content": null,
            "_view_module": "@jupyter-widgets/base",
            "overflow": null,
            "_model_module_version": "1.2.0",
            "_view_count": null,
            "flex_flow": null,
            "width": null,
            "min_width": null,
            "border": null,
            "align_items": null,
            "bottom": null,
            "_model_module": "@jupyter-widgets/base",
            "top": null,
            "grid_column": null,
            "overflow_y": null,
            "overflow_x": null,
            "grid_auto_flow": null,
            "grid_area": null,
            "grid_template_columns": null,
            "flex": null,
            "_model_name": "LayoutModel",
            "justify_items": null,
            "grid_row": null,
            "max_height": null,
            "align_content": null,
            "visibility": null,
            "align_self": null,
            "height": null,
            "min_height": null,
            "padding": null,
            "grid_auto_rows": null,
            "grid_gap": null,
            "max_width": null,
            "order": null,
            "_view_module_version": "1.2.0",
            "grid_template_areas": null,
            "object_position": null,
            "object_fit": null,
            "grid_auto_columns": null,
            "margin": null,
            "display": null,
            "left": null
          }
        },
        "b9448619f2664a4989d02b480407219a": {
          "model_module": "@jupyter-widgets/controls",
          "model_name": "DescriptionStyleModel",
          "state": {
            "_view_name": "StyleView",
            "_model_name": "DescriptionStyleModel",
            "description_width": "",
            "_view_module": "@jupyter-widgets/base",
            "_model_module_version": "1.5.0",
            "_view_count": null,
            "_view_module_version": "1.2.0",
            "_model_module": "@jupyter-widgets/controls"
          }
        },
        "f1dcdc5db69c4854b4fe5f8d067b8887": {
          "model_module": "@jupyter-widgets/base",
          "model_name": "LayoutModel",
          "state": {
            "_view_name": "LayoutView",
            "grid_template_rows": null,
            "right": null,
            "justify_content": null,
            "_view_module": "@jupyter-widgets/base",
            "overflow": null,
            "_model_module_version": "1.2.0",
            "_view_count": null,
            "flex_flow": null,
            "width": null,
            "min_width": null,
            "border": null,
            "align_items": null,
            "bottom": null,
            "_model_module": "@jupyter-widgets/base",
            "top": null,
            "grid_column": null,
            "overflow_y": null,
            "overflow_x": null,
            "grid_auto_flow": null,
            "grid_area": null,
            "grid_template_columns": null,
            "flex": null,
            "_model_name": "LayoutModel",
            "justify_items": null,
            "grid_row": null,
            "max_height": null,
            "align_content": null,
            "visibility": null,
            "align_self": null,
            "height": null,
            "min_height": null,
            "padding": null,
            "grid_auto_rows": null,
            "grid_gap": null,
            "max_width": null,
            "order": null,
            "_view_module_version": "1.2.0",
            "grid_template_areas": null,
            "object_position": null,
            "object_fit": null,
            "grid_auto_columns": null,
            "margin": null,
            "display": null,
            "left": null
          }
        },
        "da1f25f4162a4be7bbdf3f0b89b7717a": {
          "model_module": "@jupyter-widgets/controls",
          "model_name": "HBoxModel",
          "state": {
            "_view_name": "HBoxView",
            "_dom_classes": [],
            "_model_name": "HBoxModel",
            "_view_module": "@jupyter-widgets/controls",
            "_model_module_version": "1.5.0",
            "_view_count": null,
            "_view_module_version": "1.5.0",
            "box_style": "",
            "layout": "IPY_MODEL_a5bb6c7835e748e194f41bb2e364ff21",
            "_model_module": "@jupyter-widgets/controls",
            "children": [
              "IPY_MODEL_65150f3db2cc47a1aab4d8830d2eea72",
              "IPY_MODEL_0cf825bdd577407d9c74dd673959e973"
            ]
          }
        },
        "a5bb6c7835e748e194f41bb2e364ff21": {
          "model_module": "@jupyter-widgets/base",
          "model_name": "LayoutModel",
          "state": {
            "_view_name": "LayoutView",
            "grid_template_rows": null,
            "right": null,
            "justify_content": null,
            "_view_module": "@jupyter-widgets/base",
            "overflow": null,
            "_model_module_version": "1.2.0",
            "_view_count": null,
            "flex_flow": null,
            "width": null,
            "min_width": null,
            "border": null,
            "align_items": null,
            "bottom": null,
            "_model_module": "@jupyter-widgets/base",
            "top": null,
            "grid_column": null,
            "overflow_y": null,
            "overflow_x": null,
            "grid_auto_flow": null,
            "grid_area": null,
            "grid_template_columns": null,
            "flex": null,
            "_model_name": "LayoutModel",
            "justify_items": null,
            "grid_row": null,
            "max_height": null,
            "align_content": null,
            "visibility": null,
            "align_self": null,
            "height": null,
            "min_height": null,
            "padding": null,
            "grid_auto_rows": null,
            "grid_gap": null,
            "max_width": null,
            "order": null,
            "_view_module_version": "1.2.0",
            "grid_template_areas": null,
            "object_position": null,
            "object_fit": null,
            "grid_auto_columns": null,
            "margin": null,
            "display": null,
            "left": null
          }
        },
        "65150f3db2cc47a1aab4d8830d2eea72": {
          "model_module": "@jupyter-widgets/controls",
          "model_name": "FloatProgressModel",
          "state": {
            "_view_name": "ProgressView",
            "style": "IPY_MODEL_36a5247e265549048d9c7b4acc795b3c",
            "_dom_classes": [],
            "description": "Downloading: 100%",
            "_model_name": "FloatProgressModel",
            "bar_style": "success",
            "max": 1340675298,
            "_view_module": "@jupyter-widgets/controls",
            "_model_module_version": "1.5.0",
            "value": 1340675298,
            "_view_count": null,
            "_view_module_version": "1.5.0",
            "orientation": "horizontal",
            "min": 0,
            "description_tooltip": null,
            "_model_module": "@jupyter-widgets/controls",
            "layout": "IPY_MODEL_68457695c7b94bf2b2f2c0d1ccabca72"
          }
        },
        "0cf825bdd577407d9c74dd673959e973": {
          "model_module": "@jupyter-widgets/controls",
          "model_name": "HTMLModel",
          "state": {
            "_view_name": "HTMLView",
            "style": "IPY_MODEL_c8825cf32c174c9ea6ab4a60616da4c2",
            "_dom_classes": [],
            "description": "",
            "_model_name": "HTMLModel",
            "placeholder": "​",
            "_view_module": "@jupyter-widgets/controls",
            "_model_module_version": "1.5.0",
            "value": " 1.34G/1.34G [00:26&lt;00:00, 50.4MB/s]",
            "_view_count": null,
            "_view_module_version": "1.5.0",
            "description_tooltip": null,
            "_model_module": "@jupyter-widgets/controls",
            "layout": "IPY_MODEL_a4b1c46194264d359489088a416e50e4"
          }
        },
        "36a5247e265549048d9c7b4acc795b3c": {
          "model_module": "@jupyter-widgets/controls",
          "model_name": "ProgressStyleModel",
          "state": {
            "_view_name": "StyleView",
            "_model_name": "ProgressStyleModel",
            "description_width": "initial",
            "_view_module": "@jupyter-widgets/base",
            "_model_module_version": "1.5.0",
            "_view_count": null,
            "_view_module_version": "1.2.0",
            "bar_color": null,
            "_model_module": "@jupyter-widgets/controls"
          }
        },
        "68457695c7b94bf2b2f2c0d1ccabca72": {
          "model_module": "@jupyter-widgets/base",
          "model_name": "LayoutModel",
          "state": {
            "_view_name": "LayoutView",
            "grid_template_rows": null,
            "right": null,
            "justify_content": null,
            "_view_module": "@jupyter-widgets/base",
            "overflow": null,
            "_model_module_version": "1.2.0",
            "_view_count": null,
            "flex_flow": null,
            "width": null,
            "min_width": null,
            "border": null,
            "align_items": null,
            "bottom": null,
            "_model_module": "@jupyter-widgets/base",
            "top": null,
            "grid_column": null,
            "overflow_y": null,
            "overflow_x": null,
            "grid_auto_flow": null,
            "grid_area": null,
            "grid_template_columns": null,
            "flex": null,
            "_model_name": "LayoutModel",
            "justify_items": null,
            "grid_row": null,
            "max_height": null,
            "align_content": null,
            "visibility": null,
            "align_self": null,
            "height": null,
            "min_height": null,
            "padding": null,
            "grid_auto_rows": null,
            "grid_gap": null,
            "max_width": null,
            "order": null,
            "_view_module_version": "1.2.0",
            "grid_template_areas": null,
            "object_position": null,
            "object_fit": null,
            "grid_auto_columns": null,
            "margin": null,
            "display": null,
            "left": null
          }
        },
        "c8825cf32c174c9ea6ab4a60616da4c2": {
          "model_module": "@jupyter-widgets/controls",
          "model_name": "DescriptionStyleModel",
          "state": {
            "_view_name": "StyleView",
            "_model_name": "DescriptionStyleModel",
            "description_width": "",
            "_view_module": "@jupyter-widgets/base",
            "_model_module_version": "1.5.0",
            "_view_count": null,
            "_view_module_version": "1.2.0",
            "_model_module": "@jupyter-widgets/controls"
          }
        },
        "a4b1c46194264d359489088a416e50e4": {
          "model_module": "@jupyter-widgets/base",
          "model_name": "LayoutModel",
          "state": {
            "_view_name": "LayoutView",
            "grid_template_rows": null,
            "right": null,
            "justify_content": null,
            "_view_module": "@jupyter-widgets/base",
            "overflow": null,
            "_model_module_version": "1.2.0",
            "_view_count": null,
            "flex_flow": null,
            "width": null,
            "min_width": null,
            "border": null,
            "align_items": null,
            "bottom": null,
            "_model_module": "@jupyter-widgets/base",
            "top": null,
            "grid_column": null,
            "overflow_y": null,
            "overflow_x": null,
            "grid_auto_flow": null,
            "grid_area": null,
            "grid_template_columns": null,
            "flex": null,
            "_model_name": "LayoutModel",
            "justify_items": null,
            "grid_row": null,
            "max_height": null,
            "align_content": null,
            "visibility": null,
            "align_self": null,
            "height": null,
            "min_height": null,
            "padding": null,
            "grid_auto_rows": null,
            "grid_gap": null,
            "max_width": null,
            "order": null,
            "_view_module_version": "1.2.0",
            "grid_template_areas": null,
            "object_position": null,
            "object_fit": null,
            "grid_auto_columns": null,
            "margin": null,
            "display": null,
            "left": null
          }
        },
        "a78230157cf14088a4c65c14979b8c3f": {
          "model_module": "@jupyter-widgets/controls",
          "model_name": "HBoxModel",
          "state": {
            "_view_name": "HBoxView",
            "_dom_classes": [],
            "_model_name": "HBoxModel",
            "_view_module": "@jupyter-widgets/controls",
            "_model_module_version": "1.5.0",
            "_view_count": null,
            "_view_module_version": "1.5.0",
            "box_style": "",
            "layout": "IPY_MODEL_5f708facc0e245a0893fec5c414972d4",
            "_model_module": "@jupyter-widgets/controls",
            "children": [
              "IPY_MODEL_c48297c5970c41999bb0c3763cea3233",
              "IPY_MODEL_00c21bbb546147439075692060b2ef00"
            ]
          }
        },
        "5f708facc0e245a0893fec5c414972d4": {
          "model_module": "@jupyter-widgets/base",
          "model_name": "LayoutModel",
          "state": {
            "_view_name": "LayoutView",
            "grid_template_rows": null,
            "right": null,
            "justify_content": null,
            "_view_module": "@jupyter-widgets/base",
            "overflow": null,
            "_model_module_version": "1.2.0",
            "_view_count": null,
            "flex_flow": null,
            "width": null,
            "min_width": null,
            "border": null,
            "align_items": null,
            "bottom": null,
            "_model_module": "@jupyter-widgets/base",
            "top": null,
            "grid_column": null,
            "overflow_y": null,
            "overflow_x": null,
            "grid_auto_flow": null,
            "grid_area": null,
            "grid_template_columns": null,
            "flex": null,
            "_model_name": "LayoutModel",
            "justify_items": null,
            "grid_row": null,
            "max_height": null,
            "align_content": null,
            "visibility": null,
            "align_self": null,
            "height": null,
            "min_height": null,
            "padding": null,
            "grid_auto_rows": null,
            "grid_gap": null,
            "max_width": null,
            "order": null,
            "_view_module_version": "1.2.0",
            "grid_template_areas": null,
            "object_position": null,
            "object_fit": null,
            "grid_auto_columns": null,
            "margin": null,
            "display": null,
            "left": null
          }
        },
        "c48297c5970c41999bb0c3763cea3233": {
          "model_module": "@jupyter-widgets/controls",
          "model_name": "FloatProgressModel",
          "state": {
            "_view_name": "ProgressView",
            "style": "IPY_MODEL_efaa87af6b8f46c8abe15a74061190ef",
            "_dom_classes": [],
            "description": "Downloading: 100%",
            "_model_name": "FloatProgressModel",
            "bar_style": "success",
            "max": 231508,
            "_view_module": "@jupyter-widgets/controls",
            "_model_module_version": "1.5.0",
            "value": 231508,
            "_view_count": null,
            "_view_module_version": "1.5.0",
            "orientation": "horizontal",
            "min": 0,
            "description_tooltip": null,
            "_model_module": "@jupyter-widgets/controls",
            "layout": "IPY_MODEL_29252d4cbf3740bd82a983505c4c01d4"
          }
        },
        "00c21bbb546147439075692060b2ef00": {
          "model_module": "@jupyter-widgets/controls",
          "model_name": "HTMLModel",
          "state": {
            "_view_name": "HTMLView",
            "style": "IPY_MODEL_e2b69952672744088bf1982b58b30588",
            "_dom_classes": [],
            "description": "",
            "_model_name": "HTMLModel",
            "placeholder": "​",
            "_view_module": "@jupyter-widgets/controls",
            "_model_module_version": "1.5.0",
            "value": " 232k/232k [00:01&lt;00:00, 169kB/s]",
            "_view_count": null,
            "_view_module_version": "1.5.0",
            "description_tooltip": null,
            "_model_module": "@jupyter-widgets/controls",
            "layout": "IPY_MODEL_d3ad156975164fe9b0aaf778e9b2d99b"
          }
        },
        "efaa87af6b8f46c8abe15a74061190ef": {
          "model_module": "@jupyter-widgets/controls",
          "model_name": "ProgressStyleModel",
          "state": {
            "_view_name": "StyleView",
            "_model_name": "ProgressStyleModel",
            "description_width": "initial",
            "_view_module": "@jupyter-widgets/base",
            "_model_module_version": "1.5.0",
            "_view_count": null,
            "_view_module_version": "1.2.0",
            "bar_color": null,
            "_model_module": "@jupyter-widgets/controls"
          }
        },
        "29252d4cbf3740bd82a983505c4c01d4": {
          "model_module": "@jupyter-widgets/base",
          "model_name": "LayoutModel",
          "state": {
            "_view_name": "LayoutView",
            "grid_template_rows": null,
            "right": null,
            "justify_content": null,
            "_view_module": "@jupyter-widgets/base",
            "overflow": null,
            "_model_module_version": "1.2.0",
            "_view_count": null,
            "flex_flow": null,
            "width": null,
            "min_width": null,
            "border": null,
            "align_items": null,
            "bottom": null,
            "_model_module": "@jupyter-widgets/base",
            "top": null,
            "grid_column": null,
            "overflow_y": null,
            "overflow_x": null,
            "grid_auto_flow": null,
            "grid_area": null,
            "grid_template_columns": null,
            "flex": null,
            "_model_name": "LayoutModel",
            "justify_items": null,
            "grid_row": null,
            "max_height": null,
            "align_content": null,
            "visibility": null,
            "align_self": null,
            "height": null,
            "min_height": null,
            "padding": null,
            "grid_auto_rows": null,
            "grid_gap": null,
            "max_width": null,
            "order": null,
            "_view_module_version": "1.2.0",
            "grid_template_areas": null,
            "object_position": null,
            "object_fit": null,
            "grid_auto_columns": null,
            "margin": null,
            "display": null,
            "left": null
          }
        },
        "e2b69952672744088bf1982b58b30588": {
          "model_module": "@jupyter-widgets/controls",
          "model_name": "DescriptionStyleModel",
          "state": {
            "_view_name": "StyleView",
            "_model_name": "DescriptionStyleModel",
            "description_width": "",
            "_view_module": "@jupyter-widgets/base",
            "_model_module_version": "1.5.0",
            "_view_count": null,
            "_view_module_version": "1.2.0",
            "_model_module": "@jupyter-widgets/controls"
          }
        },
        "d3ad156975164fe9b0aaf778e9b2d99b": {
          "model_module": "@jupyter-widgets/base",
          "model_name": "LayoutModel",
          "state": {
            "_view_name": "LayoutView",
            "grid_template_rows": null,
            "right": null,
            "justify_content": null,
            "_view_module": "@jupyter-widgets/base",
            "overflow": null,
            "_model_module_version": "1.2.0",
            "_view_count": null,
            "flex_flow": null,
            "width": null,
            "min_width": null,
            "border": null,
            "align_items": null,
            "bottom": null,
            "_model_module": "@jupyter-widgets/base",
            "top": null,
            "grid_column": null,
            "overflow_y": null,
            "overflow_x": null,
            "grid_auto_flow": null,
            "grid_area": null,
            "grid_template_columns": null,
            "flex": null,
            "_model_name": "LayoutModel",
            "justify_items": null,
            "grid_row": null,
            "max_height": null,
            "align_content": null,
            "visibility": null,
            "align_self": null,
            "height": null,
            "min_height": null,
            "padding": null,
            "grid_auto_rows": null,
            "grid_gap": null,
            "max_width": null,
            "order": null,
            "_view_module_version": "1.2.0",
            "grid_template_areas": null,
            "object_position": null,
            "object_fit": null,
            "grid_auto_columns": null,
            "margin": null,
            "display": null,
            "left": null
          }
        },
        "2565d1dfcf84400099eba094693b5968": {
          "model_module": "@jupyter-widgets/controls",
          "model_name": "HBoxModel",
          "state": {
            "_view_name": "HBoxView",
            "_dom_classes": [],
            "_model_name": "HBoxModel",
            "_view_module": "@jupyter-widgets/controls",
            "_model_module_version": "1.5.0",
            "_view_count": null,
            "_view_module_version": "1.5.0",
            "box_style": "",
            "layout": "IPY_MODEL_96d71780801c4f84b725d07138c901b6",
            "_model_module": "@jupyter-widgets/controls",
            "children": [
              "IPY_MODEL_a78a6b947f53499ea66ba5d2552e85f6",
              "IPY_MODEL_51dfa00f89d14772bcc7daa70721448f"
            ]
          }
        },
        "96d71780801c4f84b725d07138c901b6": {
          "model_module": "@jupyter-widgets/base",
          "model_name": "LayoutModel",
          "state": {
            "_view_name": "LayoutView",
            "grid_template_rows": null,
            "right": null,
            "justify_content": null,
            "_view_module": "@jupyter-widgets/base",
            "overflow": null,
            "_model_module_version": "1.2.0",
            "_view_count": null,
            "flex_flow": null,
            "width": null,
            "min_width": null,
            "border": null,
            "align_items": null,
            "bottom": null,
            "_model_module": "@jupyter-widgets/base",
            "top": null,
            "grid_column": null,
            "overflow_y": null,
            "overflow_x": null,
            "grid_auto_flow": null,
            "grid_area": null,
            "grid_template_columns": null,
            "flex": null,
            "_model_name": "LayoutModel",
            "justify_items": null,
            "grid_row": null,
            "max_height": null,
            "align_content": null,
            "visibility": null,
            "align_self": null,
            "height": null,
            "min_height": null,
            "padding": null,
            "grid_auto_rows": null,
            "grid_gap": null,
            "max_width": null,
            "order": null,
            "_view_module_version": "1.2.0",
            "grid_template_areas": null,
            "object_position": null,
            "object_fit": null,
            "grid_auto_columns": null,
            "margin": null,
            "display": null,
            "left": null
          }
        },
        "a78a6b947f53499ea66ba5d2552e85f6": {
          "model_module": "@jupyter-widgets/controls",
          "model_name": "FloatProgressModel",
          "state": {
            "_view_name": "ProgressView",
            "style": "IPY_MODEL_2e8987d1b3774592bb774a8d825cc59c",
            "_dom_classes": [],
            "description": "Downloading: 100%",
            "_model_name": "FloatProgressModel",
            "bar_style": "success",
            "max": 28,
            "_view_module": "@jupyter-widgets/controls",
            "_model_module_version": "1.5.0",
            "value": 28,
            "_view_count": null,
            "_view_module_version": "1.5.0",
            "orientation": "horizontal",
            "min": 0,
            "description_tooltip": null,
            "_model_module": "@jupyter-widgets/controls",
            "layout": "IPY_MODEL_0d0039db3905420cbeb3590340b443fc"
          }
        },
        "51dfa00f89d14772bcc7daa70721448f": {
          "model_module": "@jupyter-widgets/controls",
          "model_name": "HTMLModel",
          "state": {
            "_view_name": "HTMLView",
            "style": "IPY_MODEL_f77ca075e3f746b0818aa7a334d0b0e1",
            "_dom_classes": [],
            "description": "",
            "_model_name": "HTMLModel",
            "placeholder": "​",
            "_view_module": "@jupyter-widgets/controls",
            "_model_module_version": "1.5.0",
            "value": " 28.0/28.0 [00:00&lt;00:00, 96.9B/s]",
            "_view_count": null,
            "_view_module_version": "1.5.0",
            "description_tooltip": null,
            "_model_module": "@jupyter-widgets/controls",
            "layout": "IPY_MODEL_636683fd41004647ae15941439f4bf8b"
          }
        },
        "2e8987d1b3774592bb774a8d825cc59c": {
          "model_module": "@jupyter-widgets/controls",
          "model_name": "ProgressStyleModel",
          "state": {
            "_view_name": "StyleView",
            "_model_name": "ProgressStyleModel",
            "description_width": "initial",
            "_view_module": "@jupyter-widgets/base",
            "_model_module_version": "1.5.0",
            "_view_count": null,
            "_view_module_version": "1.2.0",
            "bar_color": null,
            "_model_module": "@jupyter-widgets/controls"
          }
        },
        "0d0039db3905420cbeb3590340b443fc": {
          "model_module": "@jupyter-widgets/base",
          "model_name": "LayoutModel",
          "state": {
            "_view_name": "LayoutView",
            "grid_template_rows": null,
            "right": null,
            "justify_content": null,
            "_view_module": "@jupyter-widgets/base",
            "overflow": null,
            "_model_module_version": "1.2.0",
            "_view_count": null,
            "flex_flow": null,
            "width": null,
            "min_width": null,
            "border": null,
            "align_items": null,
            "bottom": null,
            "_model_module": "@jupyter-widgets/base",
            "top": null,
            "grid_column": null,
            "overflow_y": null,
            "overflow_x": null,
            "grid_auto_flow": null,
            "grid_area": null,
            "grid_template_columns": null,
            "flex": null,
            "_model_name": "LayoutModel",
            "justify_items": null,
            "grid_row": null,
            "max_height": null,
            "align_content": null,
            "visibility": null,
            "align_self": null,
            "height": null,
            "min_height": null,
            "padding": null,
            "grid_auto_rows": null,
            "grid_gap": null,
            "max_width": null,
            "order": null,
            "_view_module_version": "1.2.0",
            "grid_template_areas": null,
            "object_position": null,
            "object_fit": null,
            "grid_auto_columns": null,
            "margin": null,
            "display": null,
            "left": null
          }
        },
        "f77ca075e3f746b0818aa7a334d0b0e1": {
          "model_module": "@jupyter-widgets/controls",
          "model_name": "DescriptionStyleModel",
          "state": {
            "_view_name": "StyleView",
            "_model_name": "DescriptionStyleModel",
            "description_width": "",
            "_view_module": "@jupyter-widgets/base",
            "_model_module_version": "1.5.0",
            "_view_count": null,
            "_view_module_version": "1.2.0",
            "_model_module": "@jupyter-widgets/controls"
          }
        },
        "636683fd41004647ae15941439f4bf8b": {
          "model_module": "@jupyter-widgets/base",
          "model_name": "LayoutModel",
          "state": {
            "_view_name": "LayoutView",
            "grid_template_rows": null,
            "right": null,
            "justify_content": null,
            "_view_module": "@jupyter-widgets/base",
            "overflow": null,
            "_model_module_version": "1.2.0",
            "_view_count": null,
            "flex_flow": null,
            "width": null,
            "min_width": null,
            "border": null,
            "align_items": null,
            "bottom": null,
            "_model_module": "@jupyter-widgets/base",
            "top": null,
            "grid_column": null,
            "overflow_y": null,
            "overflow_x": null,
            "grid_auto_flow": null,
            "grid_area": null,
            "grid_template_columns": null,
            "flex": null,
            "_model_name": "LayoutModel",
            "justify_items": null,
            "grid_row": null,
            "max_height": null,
            "align_content": null,
            "visibility": null,
            "align_self": null,
            "height": null,
            "min_height": null,
            "padding": null,
            "grid_auto_rows": null,
            "grid_gap": null,
            "max_width": null,
            "order": null,
            "_view_module_version": "1.2.0",
            "grid_template_areas": null,
            "object_position": null,
            "object_fit": null,
            "grid_auto_columns": null,
            "margin": null,
            "display": null,
            "left": null
          }
        },
        "8b124c8ea7f540ce8d8a86721c5a0aaf": {
          "model_module": "@jupyter-widgets/controls",
          "model_name": "HBoxModel",
          "state": {
            "_view_name": "HBoxView",
            "_dom_classes": [],
            "_model_name": "HBoxModel",
            "_view_module": "@jupyter-widgets/controls",
            "_model_module_version": "1.5.0",
            "_view_count": null,
            "_view_module_version": "1.5.0",
            "box_style": "",
            "layout": "IPY_MODEL_7e2d66634ead4379b3fa7b6532427d8a",
            "_model_module": "@jupyter-widgets/controls",
            "children": [
              "IPY_MODEL_5afd28583fa04b11ad0421067fbc596a",
              "IPY_MODEL_f7648f14b2934f00a58fee4f3f42b505"
            ]
          }
        },
        "7e2d66634ead4379b3fa7b6532427d8a": {
          "model_module": "@jupyter-widgets/base",
          "model_name": "LayoutModel",
          "state": {
            "_view_name": "LayoutView",
            "grid_template_rows": null,
            "right": null,
            "justify_content": null,
            "_view_module": "@jupyter-widgets/base",
            "overflow": null,
            "_model_module_version": "1.2.0",
            "_view_count": null,
            "flex_flow": null,
            "width": null,
            "min_width": null,
            "border": null,
            "align_items": null,
            "bottom": null,
            "_model_module": "@jupyter-widgets/base",
            "top": null,
            "grid_column": null,
            "overflow_y": null,
            "overflow_x": null,
            "grid_auto_flow": null,
            "grid_area": null,
            "grid_template_columns": null,
            "flex": null,
            "_model_name": "LayoutModel",
            "justify_items": null,
            "grid_row": null,
            "max_height": null,
            "align_content": null,
            "visibility": null,
            "align_self": null,
            "height": null,
            "min_height": null,
            "padding": null,
            "grid_auto_rows": null,
            "grid_gap": null,
            "max_width": null,
            "order": null,
            "_view_module_version": "1.2.0",
            "grid_template_areas": null,
            "object_position": null,
            "object_fit": null,
            "grid_auto_columns": null,
            "margin": null,
            "display": null,
            "left": null
          }
        },
        "5afd28583fa04b11ad0421067fbc596a": {
          "model_module": "@jupyter-widgets/controls",
          "model_name": "FloatProgressModel",
          "state": {
            "_view_name": "ProgressView",
            "style": "IPY_MODEL_fbc87e2e5fde424da07073a58babd81e",
            "_dom_classes": [],
            "description": "Downloading: 100%",
            "_model_name": "FloatProgressModel",
            "bar_style": "success",
            "max": 466062,
            "_view_module": "@jupyter-widgets/controls",
            "_model_module_version": "1.5.0",
            "value": 466062,
            "_view_count": null,
            "_view_module_version": "1.5.0",
            "orientation": "horizontal",
            "min": 0,
            "description_tooltip": null,
            "_model_module": "@jupyter-widgets/controls",
            "layout": "IPY_MODEL_e2c3f42d529245238cb561662a7f965c"
          }
        },
        "f7648f14b2934f00a58fee4f3f42b505": {
          "model_module": "@jupyter-widgets/controls",
          "model_name": "HTMLModel",
          "state": {
            "_view_name": "HTMLView",
            "style": "IPY_MODEL_87c8503f9b514a6eb81f8e5722adc99c",
            "_dom_classes": [],
            "description": "",
            "_model_name": "HTMLModel",
            "placeholder": "​",
            "_view_module": "@jupyter-widgets/controls",
            "_model_module_version": "1.5.0",
            "value": " 466k/466k [00:00&lt;00:00, 1.34MB/s]",
            "_view_count": null,
            "_view_module_version": "1.5.0",
            "description_tooltip": null,
            "_model_module": "@jupyter-widgets/controls",
            "layout": "IPY_MODEL_34de182bfdaf42e8847dc038a960b829"
          }
        },
        "fbc87e2e5fde424da07073a58babd81e": {
          "model_module": "@jupyter-widgets/controls",
          "model_name": "ProgressStyleModel",
          "state": {
            "_view_name": "StyleView",
            "_model_name": "ProgressStyleModel",
            "description_width": "initial",
            "_view_module": "@jupyter-widgets/base",
            "_model_module_version": "1.5.0",
            "_view_count": null,
            "_view_module_version": "1.2.0",
            "bar_color": null,
            "_model_module": "@jupyter-widgets/controls"
          }
        },
        "e2c3f42d529245238cb561662a7f965c": {
          "model_module": "@jupyter-widgets/base",
          "model_name": "LayoutModel",
          "state": {
            "_view_name": "LayoutView",
            "grid_template_rows": null,
            "right": null,
            "justify_content": null,
            "_view_module": "@jupyter-widgets/base",
            "overflow": null,
            "_model_module_version": "1.2.0",
            "_view_count": null,
            "flex_flow": null,
            "width": null,
            "min_width": null,
            "border": null,
            "align_items": null,
            "bottom": null,
            "_model_module": "@jupyter-widgets/base",
            "top": null,
            "grid_column": null,
            "overflow_y": null,
            "overflow_x": null,
            "grid_auto_flow": null,
            "grid_area": null,
            "grid_template_columns": null,
            "flex": null,
            "_model_name": "LayoutModel",
            "justify_items": null,
            "grid_row": null,
            "max_height": null,
            "align_content": null,
            "visibility": null,
            "align_self": null,
            "height": null,
            "min_height": null,
            "padding": null,
            "grid_auto_rows": null,
            "grid_gap": null,
            "max_width": null,
            "order": null,
            "_view_module_version": "1.2.0",
            "grid_template_areas": null,
            "object_position": null,
            "object_fit": null,
            "grid_auto_columns": null,
            "margin": null,
            "display": null,
            "left": null
          }
        },
        "87c8503f9b514a6eb81f8e5722adc99c": {
          "model_module": "@jupyter-widgets/controls",
          "model_name": "DescriptionStyleModel",
          "state": {
            "_view_name": "StyleView",
            "_model_name": "DescriptionStyleModel",
            "description_width": "",
            "_view_module": "@jupyter-widgets/base",
            "_model_module_version": "1.5.0",
            "_view_count": null,
            "_view_module_version": "1.2.0",
            "_model_module": "@jupyter-widgets/controls"
          }
        },
        "34de182bfdaf42e8847dc038a960b829": {
          "model_module": "@jupyter-widgets/base",
          "model_name": "LayoutModel",
          "state": {
            "_view_name": "LayoutView",
            "grid_template_rows": null,
            "right": null,
            "justify_content": null,
            "_view_module": "@jupyter-widgets/base",
            "overflow": null,
            "_model_module_version": "1.2.0",
            "_view_count": null,
            "flex_flow": null,
            "width": null,
            "min_width": null,
            "border": null,
            "align_items": null,
            "bottom": null,
            "_model_module": "@jupyter-widgets/base",
            "top": null,
            "grid_column": null,
            "overflow_y": null,
            "overflow_x": null,
            "grid_auto_flow": null,
            "grid_area": null,
            "grid_template_columns": null,
            "flex": null,
            "_model_name": "LayoutModel",
            "justify_items": null,
            "grid_row": null,
            "max_height": null,
            "align_content": null,
            "visibility": null,
            "align_self": null,
            "height": null,
            "min_height": null,
            "padding": null,
            "grid_auto_rows": null,
            "grid_gap": null,
            "max_width": null,
            "order": null,
            "_view_module_version": "1.2.0",
            "grid_template_areas": null,
            "object_position": null,
            "object_fit": null,
            "grid_auto_columns": null,
            "margin": null,
            "display": null,
            "left": null
          }
        }
      }
    }
  },
  "cells": [
    {
      "cell_type": "markdown",
      "metadata": {
        "id": "view-in-github",
        "colab_type": "text"
      },
      "source": [
        "<a href=\"https://colab.research.google.com/github/mathluva/BERT-BeautifulSoup/blob/main/BERT_BeautifulSoup.ipynb\" target=\"_parent\"><img src=\"https://colab.research.google.com/assets/colab-badge.svg\" alt=\"Open In Colab\"/></a>"
      ]
    },
    {
      "cell_type": "code",
      "metadata": {
        "colab": {
          "base_uri": "https://localhost:8080/"
        },
        "id": "wM4H7HtpljA7",
        "outputId": "77518acb-153c-4ce1-d5f6-eb0da9b36e8e"
      },
      "source": [
        "!pip install transformers\n",
        "!pip install torch"
      ],
      "execution_count": 1,
      "outputs": [
        {
          "output_type": "stream",
          "text": [
            "Collecting transformers\n",
            "\u001b[?25l  Downloading https://files.pythonhosted.org/packages/81/91/61d69d58a1af1bd81d9ca9d62c90a6de3ab80d77f27c5df65d9a2c1f5626/transformers-4.5.0-py3-none-any.whl (2.1MB)\n",
            "\u001b[K     |████████████████████████████████| 2.2MB 10.6MB/s \n",
            "\u001b[?25hRequirement already satisfied: tqdm>=4.27 in /usr/local/lib/python3.7/dist-packages (from transformers) (4.41.1)\n",
            "Requirement already satisfied: numpy>=1.17 in /usr/local/lib/python3.7/dist-packages (from transformers) (1.19.5)\n",
            "Requirement already satisfied: requests in /usr/local/lib/python3.7/dist-packages (from transformers) (2.23.0)\n",
            "Requirement already satisfied: regex!=2019.12.17 in /usr/local/lib/python3.7/dist-packages (from transformers) (2019.12.20)\n",
            "Requirement already satisfied: packaging in /usr/local/lib/python3.7/dist-packages (from transformers) (20.9)\n",
            "Collecting tokenizers<0.11,>=0.10.1\n",
            "\u001b[?25l  Downloading https://files.pythonhosted.org/packages/ae/04/5b870f26a858552025a62f1649c20d29d2672c02ff3c3fb4c688ca46467a/tokenizers-0.10.2-cp37-cp37m-manylinux2010_x86_64.whl (3.3MB)\n",
            "\u001b[K     |████████████████████████████████| 3.3MB 49.4MB/s \n",
            "\u001b[?25hCollecting sacremoses\n",
            "\u001b[?25l  Downloading https://files.pythonhosted.org/packages/08/cd/342e584ee544d044fb573ae697404ce22ede086c9e87ce5960772084cad0/sacremoses-0.0.44.tar.gz (862kB)\n",
            "\u001b[K     |████████████████████████████████| 870kB 49.8MB/s \n",
            "\u001b[?25hRequirement already satisfied: importlib-metadata; python_version < \"3.8\" in /usr/local/lib/python3.7/dist-packages (from transformers) (3.8.1)\n",
            "Requirement already satisfied: filelock in /usr/local/lib/python3.7/dist-packages (from transformers) (3.0.12)\n",
            "Requirement already satisfied: urllib3!=1.25.0,!=1.25.1,<1.26,>=1.21.1 in /usr/local/lib/python3.7/dist-packages (from requests->transformers) (1.24.3)\n",
            "Requirement already satisfied: chardet<4,>=3.0.2 in /usr/local/lib/python3.7/dist-packages (from requests->transformers) (3.0.4)\n",
            "Requirement already satisfied: certifi>=2017.4.17 in /usr/local/lib/python3.7/dist-packages (from requests->transformers) (2020.12.5)\n",
            "Requirement already satisfied: idna<3,>=2.5 in /usr/local/lib/python3.7/dist-packages (from requests->transformers) (2.10)\n",
            "Requirement already satisfied: pyparsing>=2.0.2 in /usr/local/lib/python3.7/dist-packages (from packaging->transformers) (2.4.7)\n",
            "Requirement already satisfied: six in /usr/local/lib/python3.7/dist-packages (from sacremoses->transformers) (1.15.0)\n",
            "Requirement already satisfied: click in /usr/local/lib/python3.7/dist-packages (from sacremoses->transformers) (7.1.2)\n",
            "Requirement already satisfied: joblib in /usr/local/lib/python3.7/dist-packages (from sacremoses->transformers) (1.0.1)\n",
            "Requirement already satisfied: zipp>=0.5 in /usr/local/lib/python3.7/dist-packages (from importlib-metadata; python_version < \"3.8\"->transformers) (3.4.1)\n",
            "Requirement already satisfied: typing-extensions>=3.6.4; python_version < \"3.8\" in /usr/local/lib/python3.7/dist-packages (from importlib-metadata; python_version < \"3.8\"->transformers) (3.7.4.3)\n",
            "Building wheels for collected packages: sacremoses\n",
            "  Building wheel for sacremoses (setup.py) ... \u001b[?25l\u001b[?25hdone\n",
            "  Created wheel for sacremoses: filename=sacremoses-0.0.44-cp37-none-any.whl size=886084 sha256=8f5e94df50b7eedf8ecc5ab670d532327c378214e7ff9f959f538f09fb2728bb\n",
            "  Stored in directory: /root/.cache/pip/wheels/3e/fb/c0/13ab4d63d537658f448366744654323077c4d90069b6512f3c\n",
            "Successfully built sacremoses\n",
            "Installing collected packages: tokenizers, sacremoses, transformers\n",
            "Successfully installed sacremoses-0.0.44 tokenizers-0.10.2 transformers-4.5.0\n",
            "Requirement already satisfied: torch in /usr/local/lib/python3.7/dist-packages (1.8.1+cu101)\n",
            "Requirement already satisfied: numpy in /usr/local/lib/python3.7/dist-packages (from torch) (1.19.5)\n",
            "Requirement already satisfied: typing-extensions in /usr/local/lib/python3.7/dist-packages (from torch) (3.7.4.3)\n"
          ],
          "name": "stdout"
        }
      ]
    },
    {
      "cell_type": "code",
      "metadata": {
        "id": "hoCuD0vdl74B"
      },
      "source": [
        "import torch\n",
        "import numpy as np\n",
        "import math\n",
        "import re\n",
        "import pandas as pd\n",
        "import random"
      ],
      "execution_count": 3,
      "outputs": []
    },
    {
      "cell_type": "code",
      "metadata": {
        "colab": {
          "base_uri": "https://localhost:8080/"
        },
        "id": "3qMrwNHBmEAq",
        "outputId": "4d155997-b872-4687-85a2-b94279533f89"
      },
      "source": [
        "from google.colab import drive\n",
        "drive.mount(\"/content/drive\")"
      ],
      "execution_count": 4,
      "outputs": [
        {
          "output_type": "stream",
          "text": [
            "Mounted at /content/drive\n"
          ],
          "name": "stdout"
        }
      ]
    },
    {
      "cell_type": "code",
      "metadata": {
        "colab": {
          "base_uri": "https://localhost:8080/",
          "height": 632
        },
        "id": "UFdlF34Cbanm",
        "outputId": "50a9160a-cf55-47bc-ed9a-770407a7e3a7"
      },
      "source": [
        "train_data = pd.read_excel(\"/content/drive/MyDrive/Attorney_text_Hackathon[1]/RoBERTa/attorney_answers_training.xlsx\", \"Answers\")\n",
        "train_data.head()"
      ],
      "execution_count": 5,
      "outputs": [
        {
          "output_type": "execute_result",
          "data": {
            "text/html": [
              "<div>\n",
              "<style scoped>\n",
              "    .dataframe tbody tr th:only-of-type {\n",
              "        vertical-align: middle;\n",
              "    }\n",
              "\n",
              "    .dataframe tbody tr th {\n",
              "        vertical-align: top;\n",
              "    }\n",
              "\n",
              "    .dataframe thead th {\n",
              "        text-align: right;\n",
              "    }\n",
              "</style>\n",
              "<table border=\"1\" class=\"dataframe\">\n",
              "  <thead>\n",
              "    <tr style=\"text-align: right;\">\n",
              "      <th></th>\n",
              "      <th>FileName</th>\n",
              "      <th>AttorneyName</th>\n",
              "      <th>Title</th>\n",
              "      <th>Is Attorney</th>\n",
              "      <th>Employment Start Year</th>\n",
              "      <th>Phones</th>\n",
              "      <th>Fax</th>\n",
              "      <th>Locations</th>\n",
              "      <th>Email Address</th>\n",
              "      <th>Education</th>\n",
              "      <th>Admissions</th>\n",
              "      <th>Practice Areas</th>\n",
              "      <th>Prior Employments</th>\n",
              "      <th>clerkships</th>\n",
              "      <th>note</th>\n",
              "      <th>note2</th>\n",
              "    </tr>\n",
              "  </thead>\n",
              "  <tbody>\n",
              "    <tr>\n",
              "      <th>0</th>\n",
              "      <td>207legal.html</td>\n",
              "      <td>Andrews Bruce Campbell</td>\n",
              "      <td>NaN</td>\n",
              "      <td>True</td>\n",
              "      <td>NaN</td>\n",
              "      <td>NaN</td>\n",
              "      <td>NaN</td>\n",
              "      <td>NaN</td>\n",
              "      <td>[\"abc@207legal.com\"]</td>\n",
              "      <td>[{\"institution\" : \"George Washington Universit...</td>\n",
              "      <td>NaN</td>\n",
              "      <td>[\"murder\", \"homicide cases\", \"major drug traff...</td>\n",
              "      <td>[{\"employer\" : \"CAMPBELL LAW OFFICES\", \"startY...</td>\n",
              "      <td>NaN</td>\n",
              "      <td>NaN</td>\n",
              "      <td>NaN</td>\n",
              "    </tr>\n",
              "    <tr>\n",
              "      <th>1</th>\n",
              "      <td>1800law1010.html</td>\n",
              "      <td>Alex C. Turnello</td>\n",
              "      <td>Attorney</td>\n",
              "      <td>True</td>\n",
              "      <td>NaN</td>\n",
              "      <td>[\"518-724-2232\", \"877-724-2232\"]</td>\n",
              "      <td>NaN</td>\n",
              "      <td>NaN</td>\n",
              "      <td>[\"Alex.Turnello@1800law1010.com\"]</td>\n",
              "      <td>[{\"institution\" : \"New Mexico State University...</td>\n",
              "      <td>[{\"institution\"\" : \"Texas\", \"admissionYear\" : ...</td>\n",
              "      <td>[\"personal injury\"]</td>\n",
              "      <td>[{\"employer\" : \"Cervantes, Scherr &amp; Legate Law...</td>\n",
              "      <td>NaN</td>\n",
              "      <td>NaN</td>\n",
              "      <td>NaN</td>\n",
              "    </tr>\n",
              "    <tr>\n",
              "      <th>2</th>\n",
              "      <td>aa-law.html</td>\n",
              "      <td>Renee C. Fell</td>\n",
              "      <td>Attorney</td>\n",
              "      <td>True</td>\n",
              "      <td>NaN</td>\n",
              "      <td>[\"312-795-9110\"]</td>\n",
              "      <td>NaN</td>\n",
              "      <td>[\"100 North LaSalle #2115 Chicago, Illinois 60...</td>\n",
              "      <td>NaN</td>\n",
              "      <td>[{\"institution\" : \"Loyola University Chicago S...</td>\n",
              "      <td>[{\"institution\" : \"Supreme Court of Illinois\"}...</td>\n",
              "      <td>[\"whistleblower claims\", \"discrimination claim...</td>\n",
              "      <td>NaN</td>\n",
              "      <td>[{\"court\" : \"Cook County Public Defender\"}]</td>\n",
              "      <td>NaN</td>\n",
              "      <td>NaN</td>\n",
              "    </tr>\n",
              "    <tr>\n",
              "      <th>3</th>\n",
              "      <td>abdurrahmanlaw.html</td>\n",
              "      <td>Mahdi Abdur-Rahman</td>\n",
              "      <td>Founder</td>\n",
              "      <td>True</td>\n",
              "      <td>NaN</td>\n",
              "      <td>[\"470-225-8642\"]</td>\n",
              "      <td>[\"404-393-1849\"]</td>\n",
              "      <td>[\"206 Pryor Street, Suite C-2, Atlanta, GA 303...</td>\n",
              "      <td>NaN</td>\n",
              "      <td>[{\"institution\" : \"Morehouse College\", \"degree...</td>\n",
              "      <td>NaN</td>\n",
              "      <td>[\"personal injury\", \"workplace victims\", \"smal...</td>\n",
              "      <td>NaN</td>\n",
              "      <td>NaN</td>\n",
              "      <td>NaN</td>\n",
              "      <td>NaN</td>\n",
              "    </tr>\n",
              "    <tr>\n",
              "      <th>4</th>\n",
              "      <td>aclunc.html</td>\n",
              "      <td>Shilpi Agarwal</td>\n",
              "      <td>staff attorney</td>\n",
              "      <td>True</td>\n",
              "      <td>NaN</td>\n",
              "      <td>NaN</td>\n",
              "      <td>NaN</td>\n",
              "      <td>NaN</td>\n",
              "      <td>NaN</td>\n",
              "      <td>[{\"institution\" : \"Stanford University\", \"degr...</td>\n",
              "      <td>NaN</td>\n",
              "      <td>[\"criminal justice\", \"democracy &amp; civic engage...</td>\n",
              "      <td>[{\"employer\" : \"federal public defender in San...</td>\n",
              "      <td>[{\"court\" : \"Southern District of Texas\"},\\n{\"...</td>\n",
              "      <td>NaN</td>\n",
              "      <td>NaN</td>\n",
              "    </tr>\n",
              "  </tbody>\n",
              "</table>\n",
              "</div>"
            ],
            "text/plain": [
              "              FileName            AttorneyName  ... note note2\n",
              "0        207legal.html  Andrews Bruce Campbell  ...  NaN   NaN\n",
              "1     1800law1010.html        Alex C. Turnello  ...  NaN   NaN\n",
              "2          aa-law.html           Renee C. Fell  ...  NaN   NaN\n",
              "3  abdurrahmanlaw.html      Mahdi Abdur-Rahman  ...  NaN   NaN\n",
              "4          aclunc.html          Shilpi Agarwal  ...  NaN   NaN\n",
              "\n",
              "[5 rows x 16 columns]"
            ]
          },
          "metadata": {
            "tags": []
          },
          "execution_count": 5
        }
      ]
    },
    {
      "cell_type": "code",
      "metadata": {
        "colab": {
          "base_uri": "https://localhost:8080/"
        },
        "id": "5Vdd68XBmpqm",
        "outputId": "4b292b0c-7304-45fb-c868-b9e433851ad8"
      },
      "source": [
        "train_data.nunique()"
      ],
      "execution_count": 8,
      "outputs": [
        {
          "output_type": "execute_result",
          "data": {
            "text/plain": [
              "FileName                 100\n",
              "AttorneyName             146\n",
              "Title                     41\n",
              "Is Attorney                3\n",
              "Employment Start Year     24\n",
              "Phones                    92\n",
              "Fax                       29\n",
              "Locations                 71\n",
              "Email Address             51\n",
              "Education                115\n",
              "Admissions                91\n",
              "Practice Areas            99\n",
              "Prior Employments         39\n",
              "clerkships                13\n",
              "note                       3\n",
              "note2                      1\n",
              "dtype: int64"
            ]
          },
          "metadata": {
            "tags": []
          },
          "execution_count": 8
        }
      ]
    },
    {
      "cell_type": "code",
      "metadata": {
        "id": "Dt4jjfq1nMQi"
      },
      "source": [
        "import transformers\n",
        "from transformers import BertForQuestionAnswering\n",
        "from transformers import BertTokenizer"
      ],
      "execution_count": 13,
      "outputs": []
    },
    {
      "cell_type": "code",
      "metadata": {
        "colab": {
          "base_uri": "https://localhost:8080/",
          "height": 267,
          "referenced_widgets": [
            "9d0f6f7b9d65423eaec43a2c234270a1",
            "38e50013ccd444c0b2ae7ebb853aabdd",
            "af47eae2235042c0a0aa400d2a2f01c9",
            "bef8247b65c44f9289f0d21016b640b7",
            "92277720d5184bddb80f4aceadb97d00",
            "b0755fa7b5e042c19f7b03d510b626ca",
            "b9448619f2664a4989d02b480407219a",
            "f1dcdc5db69c4854b4fe5f8d067b8887",
            "da1f25f4162a4be7bbdf3f0b89b7717a",
            "a5bb6c7835e748e194f41bb2e364ff21",
            "65150f3db2cc47a1aab4d8830d2eea72",
            "0cf825bdd577407d9c74dd673959e973",
            "36a5247e265549048d9c7b4acc795b3c",
            "68457695c7b94bf2b2f2c0d1ccabca72",
            "c8825cf32c174c9ea6ab4a60616da4c2",
            "a4b1c46194264d359489088a416e50e4",
            "a78230157cf14088a4c65c14979b8c3f",
            "5f708facc0e245a0893fec5c414972d4",
            "c48297c5970c41999bb0c3763cea3233",
            "00c21bbb546147439075692060b2ef00",
            "efaa87af6b8f46c8abe15a74061190ef",
            "29252d4cbf3740bd82a983505c4c01d4",
            "e2b69952672744088bf1982b58b30588",
            "d3ad156975164fe9b0aaf778e9b2d99b",
            "2565d1dfcf84400099eba094693b5968",
            "96d71780801c4f84b725d07138c901b6",
            "a78a6b947f53499ea66ba5d2552e85f6",
            "51dfa00f89d14772bcc7daa70721448f",
            "2e8987d1b3774592bb774a8d825cc59c",
            "0d0039db3905420cbeb3590340b443fc",
            "f77ca075e3f746b0818aa7a334d0b0e1",
            "636683fd41004647ae15941439f4bf8b",
            "8b124c8ea7f540ce8d8a86721c5a0aaf",
            "7e2d66634ead4379b3fa7b6532427d8a",
            "5afd28583fa04b11ad0421067fbc596a",
            "f7648f14b2934f00a58fee4f3f42b505",
            "fbc87e2e5fde424da07073a58babd81e",
            "e2c3f42d529245238cb561662a7f965c",
            "87c8503f9b514a6eb81f8e5722adc99c",
            "34de182bfdaf42e8847dc038a960b829"
          ]
        },
        "id": "VZe0xJ9isd7R",
        "outputId": "a40e7d65-88d9-42dd-8cb6-39df185afcc2"
      },
      "source": [
        "model = BertForQuestionAnswering.from_pretrained(\"bert-large-uncased-whole-word-masking-finetuned-squad\")\n",
        "tokenizer_for_bert = BertTokenizer.from_pretrained(\"bert-large-uncased-whole-word-masking-finetuned-squad\")"
      ],
      "execution_count": 35,
      "outputs": [
        {
          "output_type": "display_data",
          "data": {
            "application/vnd.jupyter.widget-view+json": {
              "model_id": "9d0f6f7b9d65423eaec43a2c234270a1",
              "version_minor": 0,
              "version_major": 2
            },
            "text/plain": [
              "HBox(children=(FloatProgress(value=0.0, description='Downloading', max=443.0, style=ProgressStyle(description_…"
            ]
          },
          "metadata": {
            "tags": []
          }
        },
        {
          "output_type": "stream",
          "text": [
            "\n"
          ],
          "name": "stdout"
        },
        {
          "output_type": "display_data",
          "data": {
            "application/vnd.jupyter.widget-view+json": {
              "model_id": "da1f25f4162a4be7bbdf3f0b89b7717a",
              "version_minor": 0,
              "version_major": 2
            },
            "text/plain": [
              "HBox(children=(FloatProgress(value=0.0, description='Downloading', max=1340675298.0, style=ProgressStyle(descr…"
            ]
          },
          "metadata": {
            "tags": []
          }
        },
        {
          "output_type": "stream",
          "text": [
            "\n"
          ],
          "name": "stdout"
        },
        {
          "output_type": "display_data",
          "data": {
            "application/vnd.jupyter.widget-view+json": {
              "model_id": "a78230157cf14088a4c65c14979b8c3f",
              "version_minor": 0,
              "version_major": 2
            },
            "text/plain": [
              "HBox(children=(FloatProgress(value=0.0, description='Downloading', max=231508.0, style=ProgressStyle(descripti…"
            ]
          },
          "metadata": {
            "tags": []
          }
        },
        {
          "output_type": "stream",
          "text": [
            "\n"
          ],
          "name": "stdout"
        },
        {
          "output_type": "display_data",
          "data": {
            "application/vnd.jupyter.widget-view+json": {
              "model_id": "2565d1dfcf84400099eba094693b5968",
              "version_minor": 0,
              "version_major": 2
            },
            "text/plain": [
              "HBox(children=(FloatProgress(value=0.0, description='Downloading', max=28.0, style=ProgressStyle(description_w…"
            ]
          },
          "metadata": {
            "tags": []
          }
        },
        {
          "output_type": "stream",
          "text": [
            "\n"
          ],
          "name": "stdout"
        },
        {
          "output_type": "display_data",
          "data": {
            "application/vnd.jupyter.widget-view+json": {
              "model_id": "8b124c8ea7f540ce8d8a86721c5a0aaf",
              "version_minor": 0,
              "version_major": 2
            },
            "text/plain": [
              "HBox(children=(FloatProgress(value=0.0, description='Downloading', max=466062.0, style=ProgressStyle(descripti…"
            ]
          },
          "metadata": {
            "tags": []
          }
        },
        {
          "output_type": "stream",
          "text": [
            "\n"
          ],
          "name": "stdout"
        }
      ]
    },
    {
      "cell_type": "code",
      "metadata": {
        "id": "ONW5IWbd08Lk"
      },
      "source": [
        "def bert_answering_machine(question, passage):\n",
        "\n",
        "    #tokenize input question and passage, add special tokens\n",
        "    input_ids = tokenizer_for_bert.encode(question, passage)\n",
        "\n",
        "\n",
        "    cls_index = input_ids.index(102) #index of first SEP token\n",
        "    len_question = cls_index +1 #length of question (sentence 1)\n",
        "    len_answer = len(input_ids) - len_question #length of sentence 2\n",
        "\n",
        "    #segment ids to distinguish between the two sentences\n",
        "    #apply 0 for sentence 1 and apply 1 for sentence 2\n",
        "    segment_ids = [0]*len_question + [1]*len_answer\n",
        "\n",
        "    \n",
        "\n",
        "   #Converting token ids to tokens\n",
        "    tokens = tokenizer_for_bert.convert_ids_to_tokens(input_ids) \n",
        "    \n",
        "    \n",
        "    # getting start and end scores for answer. Converting input arrays to torch tensors before passing to the model\n",
        "    start_token_scores = model(torch.tensor([input_ids]), token_type_ids=torch.tensor([segment_ids]) )[0]\n",
        "    end_token_scores = model(torch.tensor([input_ids]), token_type_ids=torch.tensor([segment_ids]) )[1]\n",
        "\n",
        "    #Converting scores tensors to numpy arrays so that we can use numpy functions\n",
        "    start_token_scores = start_token_scores.detach().numpy().flatten()\n",
        "    end_token_scores = end_token_scores.detach().numpy().flatten()\n",
        "    \n",
        "    #Picking start index and end index of answer based on start/end indices with highest scores\n",
        "    answer_start_index = np.argmax(start_token_scores)\n",
        "    answer_end_index = np.argmax(end_token_scores)\n",
        "\n",
        "    #Getting scores for start token and end token of the answer. Also rounding it to 2 decimal digits\n",
        "    start_token_score = np.round(start_token_scores[answer_start_index], 2)\n",
        "    end_token_score = np.round(end_token_scores[answer_end_index], 2)\n",
        "\n",
        "\n",
        "\n",
        "    answer = tokens[answer_start_index] #Answer starts with start index, we got based on highest score\n",
        "    for i in range(answer_start_index + 1, answer_end_index + 1):\n",
        "        if tokens[i][0:2] == '##':  # Token for a splitted word starts with ##\n",
        "            answer += tokens[i][2:] # If token start with ## we remove ## and combine it with previous word so as to restore the unsplitted word\n",
        "        else:\n",
        "            answer += ' ' + tokens[i]  # If token does not start with ## we just put a space in between while combining tokens\n",
        "            \n",
        "    # Few patterns indicating that BERT does not get answer from the passage for question asked\n",
        "    if ( answer_start_index == 0) or (start_token_score < 0 ) or  (answer == '[SEP]') or ( answer_end_index <  answer_start_index):\n",
        "        answer = \"Sorry!, I could not find  an answer in the passage.\"\n",
        "    \n",
        "    return ( answer_start_index, answer_end_index, start_token_score, end_token_score,  answer)"
      ],
      "execution_count": 36,
      "outputs": []
    },
    {
      "cell_type": "code",
      "metadata": {
        "id": "ZvQHJu2noSI6"
      },
      "source": [
        "from bs4 import BeautifulSoup as bs\n",
        "import pandas as pd\n",
        "import requests\n",
        "import time"
      ],
      "execution_count": 37,
      "outputs": []
    },
    {
      "cell_type": "markdown",
      "metadata": {
        "id": "OXwgaS1UodPn"
      },
      "source": [
        "Web Scraping"
      ]
    },
    {
      "cell_type": "code",
      "metadata": {
        "colab": {
          "base_uri": "https://localhost:8080/",
          "height": 35
        },
        "id": "4AU_jcF4obYb",
        "outputId": "e4e1ed45-69ad-418f-f74d-1fa3c2b4e4c9"
      },
      "source": [
        "#Onebane Law Firm\n",
        "law_firm_url = \"https://onebane.com\"\n",
        "\n",
        "# Use requests to retrieve data from URL\n",
        "response = requests.get(law_firm_url)\n",
        "\n",
        "# Parse the whole HTML page using BeautifulSoup\n",
        "soup = bs(response.text, 'html.parser')\n",
        "\n",
        "# Title of the parsed page\n",
        "soup.title.text"
      ],
      "execution_count": 38,
      "outputs": [
        {
          "output_type": "execute_result",
          "data": {
            "application/vnd.google.colaboratory.intrinsic+json": {
              "type": "string"
            },
            "text/plain": [
              "'Onebane Law Firm'"
            ]
          },
          "metadata": {
            "tags": []
          },
          "execution_count": 38
        }
      ]
    },
    {
      "cell_type": "code",
      "metadata": {
        "id": "kNjUYgF6o6kH"
      },
      "source": [
        "#Karen Daniel Ancelet\n",
        "url = \"https://www.onebane.com/team/karen-ancelet-attorney/\"\n",
        "response = requests.get(url)\n",
        "soup = bs(response.text, 'html.parser')\n"
      ],
      "execution_count": 45,
      "outputs": []
    },
    {
      "cell_type": "code",
      "metadata": {
        "id": "bvkz3CmIwoJu"
      },
      "source": [
        "from pprint import pprint"
      ],
      "execution_count": 53,
      "outputs": []
    },
    {
      "cell_type": "code",
      "metadata": {
        "colab": {
          "base_uri": "https://localhost:8080/"
        },
        "id": "hkqqTm7hpkrb",
        "outputId": "3035dbae-0e61-4a01-bb8d-506b1bff5edb"
      },
      "source": [
        "attorney_info = soup.find('p').get_text()\n",
        "pprint(attorney_info)\n"
      ],
      "execution_count": 54,
      "outputs": [
        {
          "output_type": "stream",
          "text": [
            "('Karen Daniel Ancelet graduated from Louisiana State University in Baton '\n",
            " 'Rouge in 1991. She graduated\\xa0magna cum laude\\xa0with a Bachelor of Arts '\n",
            " 'degree with a focus in history and classical civilization studies. Karen '\n",
            " 'then attended Paul M. Hebert Law School at Louisiana State University in '\n",
            " 'Baton Rouge in 1994 where she graduated\\xa0Order of the Coif.')\n"
          ],
          "name": "stdout"
        }
      ]
    },
    {
      "cell_type": "code",
      "metadata": {
        "colab": {
          "base_uri": "https://localhost:8080/"
        },
        "id": "eABL2lR2wyC5",
        "outputId": "40278915-9317-4470-f4c8-95e15e4321ec"
      },
      "source": [
        "attorney_info = soup.find_all('p')\n",
        "pprint(attorney_info)"
      ],
      "execution_count": 55,
      "outputs": [
        {
          "output_type": "stream",
          "text": [
            "[<p style=\"text-align:justify\">Karen Daniel Ancelet graduated from Louisiana State University in Baton Rouge in 1991. She graduated <em>magna cum laude</em> with a Bachelor of Arts degree with a focus in history and classical civilization studies. Karen then attended Paul M. Hebert Law School at Louisiana State University in Baton Rouge in 1994 where she graduated <em>Order of the Coif</em>.</p>,\n",
            " <p style=\"text-align:justify\">Karen has spent her career representing oil and gas companies in a variety of downstream, midstream, and upstream matters. Her experience involves litigating mineral royalty disputes, oil field legacy lawsuits, joint operating agreements, liens, and pipeline servitudes. Karen has filed and managed multiple concursus and interpleader actions involving royalty and lien disputes. Additionally, she has extensive transactional experience preparing various types of royalty agreements, title opinions, leases, assignments, operating agreements, multiple types of gas contracts, along with liens and right of way agreements. In the commercial litigation area, she has handled litigation involving contract disputes, direct and officer liability and antitrust matters.</p>,\n",
            " <p style=\"text-align:justify\">Karen grew up in Roanoke, Louisiana, but graduated high school from the Louisiana School for Math, Science and the Arts in Natchitoches, Louisiana. Karen and her husband, Stuart, are avid LSU Tiger football fans and are raising two children, a daughter, Jackie and a son, Clay.</p>,\n",
            " <p>1200 Camellia Blvd. Suite 300<br/>\n",
            "Lafayette, LA 70508<br/>\n",
            "Email: info@onebane.com<br/>\n",
            "Phone: (337) 237-2660</p>,\n",
            " <p>The information contained herein presents general information about our firm and is not intended to constitute legal advice. Before acting on any of the materials presented here, we advise you to seek legal counsel. </p>,\n",
            " <p>We invite you to contact us and welcome your calls, letters, and e-mail; however, contacting us does not create an attorney-client relationship. Please refrain from sending any confidential information to us until such time as an attorney-client relationship has been established.</p>]\n"
          ],
          "name": "stdout"
        }
      ]
    },
    {
      "cell_type": "code",
      "metadata": {
        "colab": {
          "base_uri": "https://localhost:8080/",
          "height": 71
        },
        "id": "DZLeCmONw_3c",
        "outputId": "1b2b7fdd-6413-4cdc-e46e-55f207c7abfc"
      },
      "source": [
        "attorney_info[1].text"
      ],
      "execution_count": 66,
      "outputs": [
        {
          "output_type": "execute_result",
          "data": {
            "application/vnd.google.colaboratory.intrinsic+json": {
              "type": "string"
            },
            "text/plain": [
              "'Karen has spent her career representing oil and gas companies in a variety of downstream, midstream, and upstream matters. Her experience involves litigating mineral royalty disputes, oil field legacy lawsuits, joint operating agreements, liens, and pipeline servitudes. Karen has filed and managed multiple concursus and interpleader actions involving royalty and lien disputes. Additionally, she has extensive transactional experience preparing various types of royalty agreements, title opinions, leases, assignments, operating agreements, multiple types of gas contracts, along with liens and right of way agreements. In the commercial litigation area, she has handled litigation involving contract disputes, direct and officer liability and antitrust matters.'"
            ]
          },
          "metadata": {
            "tags": []
          },
          "execution_count": 66
        }
      ]
    },
    {
      "cell_type": "code",
      "metadata": {
        "id": "CQaL_jEDx2WD"
      },
      "source": [
        "info = []\n",
        "for i in range(len(attorney_info)):\n",
        "    info.append(attorney_info[i].text)"
      ],
      "execution_count": 71,
      "outputs": []
    },
    {
      "cell_type": "code",
      "metadata": {
        "colab": {
          "base_uri": "https://localhost:8080/"
        },
        "id": "RnGhW-EYybiS",
        "outputId": "6451c88a-cc41-4201-b460-6ef0e6f784f9"
      },
      "source": [
        "pprint(info)"
      ],
      "execution_count": 72,
      "outputs": [
        {
          "output_type": "stream",
          "text": [
            "['Karen Daniel Ancelet graduated from Louisiana State University in Baton '\n",
            " 'Rouge in 1991. She graduated\\xa0magna cum laude\\xa0with a Bachelor of Arts '\n",
            " 'degree with a focus in history and classical civilization studies. Karen '\n",
            " 'then attended Paul M. Hebert Law School at Louisiana State University in '\n",
            " 'Baton Rouge in 1994 where she graduated\\xa0Order of the Coif.',\n",
            " 'Karen has spent her career representing oil and gas companies in a variety '\n",
            " 'of downstream, midstream, and upstream matters. Her experience involves '\n",
            " 'litigating mineral royalty disputes, oil field legacy lawsuits, joint '\n",
            " 'operating agreements, liens, and pipeline servitudes. Karen has filed and '\n",
            " 'managed multiple concursus and interpleader actions involving royalty and '\n",
            " 'lien disputes. Additionally, she has extensive transactional experience '\n",
            " 'preparing various types of royalty agreements, title opinions, leases, '\n",
            " 'assignments, operating agreements, multiple types of gas contracts, along '\n",
            " 'with liens and right of way agreements. In the commercial litigation area, '\n",
            " 'she has handled litigation involving contract disputes, direct and officer '\n",
            " 'liability and antitrust matters.',\n",
            " 'Karen grew up in Roanoke, Louisiana, but graduated high school from the '\n",
            " 'Louisiana School for Math, Science and the Arts in Natchitoches, Louisiana. '\n",
            " 'Karen and her husband, Stuart, are avid LSU Tiger football fans and are '\n",
            " 'raising two children, a daughter, Jackie and a son, Clay.',\n",
            " '1200 Camellia Blvd. Suite 300\\n'\n",
            " 'Lafayette, LA 70508\\n'\n",
            " 'Email: info@onebane.com\\n'\n",
            " 'Phone: (337) 237-2660',\n",
            " 'The information contained herein presents general information about our firm '\n",
            " 'and is not intended to constitute legal advice. Before acting on any of the '\n",
            " 'materials presented here, we advise you to seek legal counsel. ',\n",
            " 'We invite you to contact us and welcome your calls, letters, and e-mail; '\n",
            " 'however, contacting us does not create an attorney-client relationship. '\n",
            " 'Please refrain from sending any confidential information to us until such '\n",
            " 'time as an attorney-client relationship has been established.']\n"
          ],
          "name": "stdout"
        }
      ]
    },
    {
      "cell_type": "code",
      "metadata": {
        "colab": {
          "base_uri": "https://localhost:8080/"
        },
        "id": "0PSP48oBzBDp",
        "outputId": "68ea1ff0-f826-4069-ec4b-c38c9ecb1244"
      },
      "source": [
        "len(info)"
      ],
      "execution_count": 73,
      "outputs": [
        {
          "output_type": "execute_result",
          "data": {
            "text/plain": [
              "6"
            ]
          },
          "metadata": {
            "tags": []
          },
          "execution_count": 73
        }
      ]
    },
    {
      "cell_type": "code",
      "metadata": {
        "colab": {
          "base_uri": "https://localhost:8080/"
        },
        "id": "cV7Ic12lyqJG",
        "outputId": "dcdf221f-0471-47c6-e732-0d753ce84123"
      },
      "source": [
        "info = \",\".join(info)\n",
        "pprint(info)"
      ],
      "execution_count": 74,
      "outputs": [
        {
          "output_type": "stream",
          "text": [
            "('Karen Daniel Ancelet graduated from Louisiana State University in Baton '\n",
            " 'Rouge in 1991. She graduated\\xa0magna cum laude\\xa0with a Bachelor of Arts '\n",
            " 'degree with a focus in history and classical civilization studies. Karen '\n",
            " 'then attended Paul M. Hebert Law School at Louisiana State University in '\n",
            " 'Baton Rouge in 1994 where she graduated\\xa0Order of the Coif.,Karen has '\n",
            " 'spent her career representing oil and gas companies in a variety of '\n",
            " 'downstream, midstream, and upstream matters. Her experience involves '\n",
            " 'litigating mineral royalty disputes, oil field legacy lawsuits, joint '\n",
            " 'operating agreements, liens, and pipeline servitudes. Karen has filed and '\n",
            " 'managed multiple concursus and interpleader actions involving royalty and '\n",
            " 'lien disputes. Additionally, she has extensive transactional experience '\n",
            " 'preparing various types of royalty agreements, title opinions, leases, '\n",
            " 'assignments, operating agreements, multiple types of gas contracts, along '\n",
            " 'with liens and right of way agreements. In the commercial litigation area, '\n",
            " 'she has handled litigation involving contract disputes, direct and officer '\n",
            " 'liability and antitrust matters.,Karen grew up in Roanoke, Louisiana, but '\n",
            " 'graduated high school from the Louisiana School for Math, Science and the '\n",
            " 'Arts in Natchitoches, Louisiana. Karen and her husband, Stuart, are avid LSU '\n",
            " 'Tiger football fans and are raising two children, a daughter, Jackie and a '\n",
            " 'son, Clay.,1200 Camellia Blvd. Suite 300\\n'\n",
            " 'Lafayette, LA 70508\\n'\n",
            " 'Email: info@onebane.com\\n'\n",
            " 'Phone: (337) 237-2660,The information contained herein presents general '\n",
            " 'information about our firm and is not intended to constitute legal advice. '\n",
            " 'Before acting on any of the materials presented here, we advise you to seek '\n",
            " 'legal counsel. ,We invite you to contact us and welcome your calls, letters, '\n",
            " 'and e-mail; however, contacting us does not create an attorney-client '\n",
            " 'relationship. Please refrain from sending any confidential information to us '\n",
            " 'until such time as an attorney-client relationship has been established.')\n"
          ],
          "name": "stdout"
        }
      ]
    },
    {
      "cell_type": "code",
      "metadata": {
        "colab": {
          "base_uri": "https://localhost:8080/"
        },
        "id": "GeHsmj6iprZk",
        "outputId": "bf033552-e1b4-45f1-f907-e0298744201b"
      },
      "source": [
        "attorney_name = \"Attorney Name?\"\n",
        "_,_,_,_,ans = bert_answering_machine(attorney_name, info)\n",
        "print(ans)"
      ],
      "execution_count": 76,
      "outputs": [
        {
          "output_type": "stream",
          "text": [
            "karen daniel ancelet\n"
          ],
          "name": "stdout"
        }
      ]
    },
    {
      "cell_type": "code",
      "metadata": {
        "colab": {
          "base_uri": "https://localhost:8080/"
        },
        "id": "Ip_datl3uAxC",
        "outputId": "01743dfd-25cf-487d-c39a-aa434b65659a"
      },
      "source": [
        "title = f\"What is {attorney_name} title?\"\n",
        "_,_,_,_,ans = bert_answering_machine(title, info)\n",
        "print(ans)"
      ],
      "execution_count": 83,
      "outputs": [
        {
          "output_type": "stream",
          "text": [
            "Sorry!, I could not find  an answer in the passage.\n"
          ],
          "name": "stdout"
        }
      ]
    },
    {
      "cell_type": "code",
      "metadata": {
        "colab": {
          "base_uri": "https://localhost:8080/"
        },
        "id": "_IZjxttGttMn",
        "outputId": "8d87346c-9b9f-4f6a-fa31-f3bfe9cf119f"
      },
      "source": [
        "start_year = f\"What year did {attorney_name} start employment?\"\n",
        "ans = bert_answering_machine(start_year, info)\n",
        "print(ans)\n",
        "#1994???"
      ],
      "execution_count": 82,
      "outputs": [
        {
          "output_type": "stream",
          "text": [
            "(66, 66, 4.05, 4.69, '1994')\n"
          ],
          "name": "stdout"
        }
      ]
    },
    {
      "cell_type": "code",
      "metadata": {
        "colab": {
          "base_uri": "https://localhost:8080/"
        },
        "id": "pVad4I-OsKy_",
        "outputId": "9a14e7f3-b017-445e-80e0-c508e1e0160b"
      },
      "source": [
        "phone = f\"What is {attorney_name} phone number?\"\n",
        "_,_,_,_,ans = bert_answering_machine(phone, info)\n",
        "print(ans)"
      ],
      "execution_count": 81,
      "outputs": [
        {
          "output_type": "stream",
          "text": [
            "( 337 ) 237 - 2660\n"
          ],
          "name": "stdout"
        }
      ]
    },
    {
      "cell_type": "code",
      "metadata": {
        "colab": {
          "base_uri": "https://localhost:8080/"
        },
        "id": "EhsuV-Ud4gT5",
        "outputId": "51753e84-6f8c-435f-c7e2-c647731f6c0f"
      },
      "source": [
        "email = f\"What is {attorney_name} email address?\"\n",
        "_,_,_,_,ans = bert_answering_machine(email, info)\n",
        "print(ans)"
      ],
      "execution_count": 105,
      "outputs": [
        {
          "output_type": "stream",
          "text": [
            "info @ onebane . com\n"
          ],
          "name": "stdout"
        }
      ]
    },
    {
      "cell_type": "code",
      "metadata": {
        "colab": {
          "base_uri": "https://localhost:8080/"
        },
        "id": "g9ZTL-6V42ZI",
        "outputId": "ad9f8493-516f-45ab-d66a-6360bc7075d0"
      },
      "source": [
        "physical_address = f\"What is {attorney_name} physical work address?\"\n",
        "_,_,_,_,ans = bert_answering_machine(physical_address, info)\n",
        "print(ans)"
      ],
      "execution_count": 106,
      "outputs": [
        {
          "output_type": "stream",
          "text": [
            "1200 camellia blvd . suite 300 lafayette , la 70508\n"
          ],
          "name": "stdout"
        }
      ]
    },
    {
      "cell_type": "code",
      "metadata": {
        "colab": {
          "base_uri": "https://localhost:8080/"
        },
        "id": "VLlCKWTI5MnB",
        "outputId": "408a7385-dba8-417f-a11d-27198b4cbcb5"
      },
      "source": [
        "mailing_address = f\"What is {attorney_name}'s mailing address?\"\n",
        "_,_,_,_,ans = bert_answering_machine(mailing_address, info)\n",
        "print(ans)\n",
        "#incorrect"
      ],
      "execution_count": 109,
      "outputs": [
        {
          "output_type": "stream",
          "text": [
            "info @ onebane . com\n"
          ],
          "name": "stdout"
        }
      ]
    },
    {
      "cell_type": "code",
      "metadata": {
        "colab": {
          "base_uri": "https://localhost:8080/"
        },
        "id": "7bA_gQA60813",
        "outputId": "9eccbb69-1bd3-45f3-bddd-5924e43d9f44"
      },
      "source": [
        "undergrad = f\"Where did {attorney_name} attend undergraduate school?\"\n",
        "_,_,_,_,ans = bert_answering_machine(undergrad, info)\n",
        "print(ans)"
      ],
      "execution_count": 97,
      "outputs": [
        {
          "output_type": "stream",
          "text": [
            "louisiana state university\n"
          ],
          "name": "stdout"
        }
      ]
    },
    {
      "cell_type": "code",
      "metadata": {
        "colab": {
          "base_uri": "https://localhost:8080/"
        },
        "id": "eQjdZ7lZ2-0G",
        "outputId": "fda034ea-8003-4d72-f7fb-7862bf472764"
      },
      "source": [
        "undergrad_honors = f\"What honors did {attorney_name} receive at {undergrad}?\"\n",
        "_,_,_,_,ans = bert_answering_machine(undergrad_honors, info)\n",
        "print(ans)"
      ],
      "execution_count": 100,
      "outputs": [
        {
          "output_type": "stream",
          "text": [
            "Sorry!, I could not find  an answer in the passage.\n"
          ],
          "name": "stdout"
        }
      ]
    },
    {
      "cell_type": "code",
      "metadata": {
        "colab": {
          "base_uri": "https://localhost:8080/"
        },
        "id": "Idic4OQf15ac",
        "outputId": "162d634b-f446-4423-b25a-8f383f973528"
      },
      "source": [
        "law_school = f\"Where did {attorney_name} attend law school?\"\n",
        "_,_,_,_,ans = bert_answering_machine(law_school, info)\n",
        "print(ans)"
      ],
      "execution_count": 101,
      "outputs": [
        {
          "output_type": "stream",
          "text": [
            "paul m . hebert\n"
          ],
          "name": "stdout"
        }
      ]
    },
    {
      "cell_type": "code",
      "metadata": {
        "colab": {
          "base_uri": "https://localhost:8080/"
        },
        "id": "MqonObo53smu",
        "outputId": "5f51b22b-7e78-487b-e684-68167bf640c4"
      },
      "source": [
        "grad_honors = f\"What honors did {attorney_name} receive at {law_school}?\"\n",
        "_,_,_,_,ans = bert_answering_machine(grad_honors, info)\n",
        "print(ans)"
      ],
      "execution_count": 103,
      "outputs": [
        {
          "output_type": "stream",
          "text": [
            "order of the coif\n"
          ],
          "name": "stdout"
        }
      ]
    },
    {
      "cell_type": "code",
      "metadata": {
        "colab": {
          "base_uri": "https://localhost:8080/"
        },
        "id": "hSZRVDvW1W2I",
        "outputId": "7c727e54-a0f6-49c3-bc56-b953311c3bd8"
      },
      "source": [
        "practice_areas = f\"What are {attorney_name} practice areas?\"\n",
        "_,_,_,_,ans = bert_answering_machine(practice_areas, info)\n",
        "print(ans)\n",
        "#possible correct answer???"
      ],
      "execution_count": 94,
      "outputs": [
        {
          "output_type": "stream",
          "text": [
            "commercial litigation area\n"
          ],
          "name": "stdout"
        }
      ]
    },
    {
      "cell_type": "code",
      "metadata": {
        "id": "izUm4Bll2SFj"
      },
      "source": [
        ""
      ],
      "execution_count": null,
      "outputs": []
    }
  ]
}